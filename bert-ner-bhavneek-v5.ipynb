{
 "cells": [
  {
   "cell_type": "code",
   "execution_count": 1,
   "id": "c203740a",
   "metadata": {
    "execution": {
     "iopub.execute_input": "2023-04-27T17:13:28.407413Z",
     "iopub.status.busy": "2023-04-27T17:13:28.406822Z",
     "iopub.status.idle": "2023-04-27T17:13:30.753212Z",
     "shell.execute_reply": "2023-04-27T17:13:30.752247Z"
    },
    "id": "Idaz7W8zz4yk",
    "papermill": {
     "duration": 2.358771,
     "end_time": "2023-04-27T17:13:30.756324",
     "exception": false,
     "start_time": "2023-04-27T17:13:28.397553",
     "status": "completed"
    },
    "tags": []
   },
   "outputs": [],
   "source": [
    "import torch\n",
    "from torch import nn\n",
    "\n",
    "import matplotlib.pyplot as plt\n",
    "import pandas as pd\n",
    "import numpy as np\n",
    "\n",
    "device = \"cuda\" if torch.cuda.is_available() else \"cpu\""
   ]
  },
  {
   "cell_type": "code",
   "execution_count": 2,
   "id": "5aa8f6ce",
   "metadata": {
    "execution": {
     "iopub.execute_input": "2023-04-27T17:13:30.771773Z",
     "iopub.status.busy": "2023-04-27T17:13:30.770589Z",
     "iopub.status.idle": "2023-04-27T17:13:40.789413Z",
     "shell.execute_reply": "2023-04-27T17:13:40.788065Z"
    },
    "id": "bp8iSXIi0MuH",
    "outputId": "64f3fabc-a1f2-4b7b-a256-4c9ffa08051f",
    "papermill": {
     "duration": 10.029014,
     "end_time": "2023-04-27T17:13:40.792187",
     "exception": false,
     "start_time": "2023-04-27T17:13:30.763173",
     "status": "completed"
    },
    "tags": []
   },
   "outputs": [
    {
     "name": "stdout",
     "output_type": "stream",
     "text": [
      "Requirement already satisfied: transformers in /opt/conda/lib/python3.7/site-packages (4.27.4)\r\n",
      "Requirement already satisfied: regex!=2019.12.17 in /opt/conda/lib/python3.7/site-packages (from transformers) (2021.11.10)\r\n",
      "Requirement already satisfied: importlib-metadata in /opt/conda/lib/python3.7/site-packages (from transformers) (4.11.4)\r\n",
      "Requirement already satisfied: tokenizers!=0.11.3,<0.14,>=0.11.1 in /opt/conda/lib/python3.7/site-packages (from transformers) (0.13.2)\r\n",
      "Requirement already satisfied: requests in /opt/conda/lib/python3.7/site-packages (from transformers) (2.28.2)\r\n",
      "Requirement already satisfied: huggingface-hub<1.0,>=0.11.0 in /opt/conda/lib/python3.7/site-packages (from transformers) (0.13.3)\r\n",
      "Requirement already satisfied: filelock in /opt/conda/lib/python3.7/site-packages (from transformers) (3.9.0)\r\n",
      "Requirement already satisfied: numpy>=1.17 in /opt/conda/lib/python3.7/site-packages (from transformers) (1.21.6)\r\n",
      "Requirement already satisfied: pyyaml>=5.1 in /opt/conda/lib/python3.7/site-packages (from transformers) (6.0)\r\n",
      "Requirement already satisfied: tqdm>=4.27 in /opt/conda/lib/python3.7/site-packages (from transformers) (4.64.1)\r\n",
      "Requirement already satisfied: packaging>=20.0 in /opt/conda/lib/python3.7/site-packages (from transformers) (23.0)\r\n",
      "Requirement already satisfied: typing-extensions>=3.7.4.3 in /opt/conda/lib/python3.7/site-packages (from huggingface-hub<1.0,>=0.11.0->transformers) (4.4.0)\r\n",
      "Requirement already satisfied: zipp>=0.5 in /opt/conda/lib/python3.7/site-packages (from importlib-metadata->transformers) (3.11.0)\r\n",
      "Requirement already satisfied: urllib3<1.27,>=1.21.1 in /opt/conda/lib/python3.7/site-packages (from requests->transformers) (1.26.14)\r\n",
      "Requirement already satisfied: certifi>=2017.4.17 in /opt/conda/lib/python3.7/site-packages (from requests->transformers) (2022.12.7)\r\n",
      "Requirement already satisfied: idna<4,>=2.5 in /opt/conda/lib/python3.7/site-packages (from requests->transformers) (3.4)\r\n",
      "Requirement already satisfied: charset-normalizer<4,>=2 in /opt/conda/lib/python3.7/site-packages (from requests->transformers) (2.1.1)\r\n",
      "\u001b[33mWARNING: Running pip as the 'root' user can result in broken permissions and conflicting behaviour with the system package manager. It is recommended to use a virtual environment instead: https://pip.pypa.io/warnings/venv\u001b[0m\u001b[33m\r\n",
      "\u001b[0m"
     ]
    }
   ],
   "source": [
    "!pip install transformers"
   ]
  },
  {
   "cell_type": "code",
   "execution_count": 3,
   "id": "b87b3b9a",
   "metadata": {
    "execution": {
     "iopub.execute_input": "2023-04-27T17:13:40.808534Z",
     "iopub.status.busy": "2023-04-27T17:13:40.807640Z",
     "iopub.status.idle": "2023-04-27T17:13:43.777285Z",
     "shell.execute_reply": "2023-04-27T17:13:43.776098Z"
    },
    "id": "8Ab-J3sxUnb2",
    "papermill": {
     "duration": 2.980481,
     "end_time": "2023-04-27T17:13:43.779928",
     "exception": false,
     "start_time": "2023-04-27T17:13:40.799447",
     "status": "completed"
    },
    "tags": []
   },
   "outputs": [],
   "source": [
    "from transformers import BertTokenizerFast\n",
    "from transformers import BertForTokenClassification"
   ]
  },
  {
   "cell_type": "code",
   "execution_count": 4,
   "id": "0c53f094",
   "metadata": {
    "execution": {
     "iopub.execute_input": "2023-04-27T17:13:43.797119Z",
     "iopub.status.busy": "2023-04-27T17:13:43.795519Z",
     "iopub.status.idle": "2023-04-27T17:13:44.106463Z",
     "shell.execute_reply": "2023-04-27T17:13:44.105321Z"
    },
    "id": "kxd0ikl70OyE",
    "papermill": {
     "duration": 0.322009,
     "end_time": "2023-04-27T17:13:44.109291",
     "exception": false,
     "start_time": "2023-04-27T17:13:43.787282",
     "status": "completed"
    },
    "tags": []
   },
   "outputs": [],
   "source": [
    "df = pd.read_csv(\"/kaggle/input/ner-data/ner.csv\")"
   ]
  },
  {
   "cell_type": "code",
   "execution_count": 5,
   "id": "72e5bef1",
   "metadata": {
    "execution": {
     "iopub.execute_input": "2023-04-27T17:13:44.126822Z",
     "iopub.status.busy": "2023-04-27T17:13:44.124962Z",
     "iopub.status.idle": "2023-04-27T17:13:44.143967Z",
     "shell.execute_reply": "2023-04-27T17:13:44.142969Z"
    },
    "id": "vLEtFUgU0QVM",
    "outputId": "a3ad22ec-5b5d-4134-d6ac-574417853324",
    "papermill": {
     "duration": 0.029458,
     "end_time": "2023-04-27T17:13:44.146294",
     "exception": false,
     "start_time": "2023-04-27T17:13:44.116836",
     "status": "completed"
    },
    "tags": []
   },
   "outputs": [
    {
     "data": {
      "text/html": [
       "<div>\n",
       "<style scoped>\n",
       "    .dataframe tbody tr th:only-of-type {\n",
       "        vertical-align: middle;\n",
       "    }\n",
       "\n",
       "    .dataframe tbody tr th {\n",
       "        vertical-align: top;\n",
       "    }\n",
       "\n",
       "    .dataframe thead th {\n",
       "        text-align: right;\n",
       "    }\n",
       "</style>\n",
       "<table border=\"1\" class=\"dataframe\">\n",
       "  <thead>\n",
       "    <tr style=\"text-align: right;\">\n",
       "      <th></th>\n",
       "      <th>text</th>\n",
       "      <th>labels</th>\n",
       "    </tr>\n",
       "  </thead>\n",
       "  <tbody>\n",
       "    <tr>\n",
       "      <th>0</th>\n",
       "      <td>Thousands of demonstrators have marched throug...</td>\n",
       "      <td>O O O O O O B-geo O O O O O B-geo O O O O O B-...</td>\n",
       "    </tr>\n",
       "    <tr>\n",
       "      <th>1</th>\n",
       "      <td>Iranian officials say they expect to get acces...</td>\n",
       "      <td>B-gpe O O O O O O O O O O O O O O B-tim O O O ...</td>\n",
       "    </tr>\n",
       "    <tr>\n",
       "      <th>2</th>\n",
       "      <td>Helicopter gunships Saturday pounded militant ...</td>\n",
       "      <td>O O B-tim O O O O O B-geo O O O O O B-org O O ...</td>\n",
       "    </tr>\n",
       "    <tr>\n",
       "      <th>3</th>\n",
       "      <td>They left after a tense hour-long standoff wit...</td>\n",
       "      <td>O O O O O O O O O O O</td>\n",
       "    </tr>\n",
       "    <tr>\n",
       "      <th>4</th>\n",
       "      <td>U.N. relief coordinator Jan Egeland said Sunda...</td>\n",
       "      <td>B-geo O O B-per I-per O B-tim O B-geo O B-gpe ...</td>\n",
       "    </tr>\n",
       "  </tbody>\n",
       "</table>\n",
       "</div>"
      ],
      "text/plain": [
       "                                                text  \\\n",
       "0  Thousands of demonstrators have marched throug...   \n",
       "1  Iranian officials say they expect to get acces...   \n",
       "2  Helicopter gunships Saturday pounded militant ...   \n",
       "3  They left after a tense hour-long standoff wit...   \n",
       "4  U.N. relief coordinator Jan Egeland said Sunda...   \n",
       "\n",
       "                                              labels  \n",
       "0  O O O O O O B-geo O O O O O B-geo O O O O O B-...  \n",
       "1  B-gpe O O O O O O O O O O O O O O B-tim O O O ...  \n",
       "2  O O B-tim O O O O O B-geo O O O O O B-org O O ...  \n",
       "3                              O O O O O O O O O O O  \n",
       "4  B-geo O O B-per I-per O B-tim O B-geo O B-gpe ...  "
      ]
     },
     "execution_count": 5,
     "metadata": {},
     "output_type": "execute_result"
    }
   ],
   "source": [
    "df.head()"
   ]
  },
  {
   "cell_type": "code",
   "execution_count": 6,
   "id": "362eecb9",
   "metadata": {
    "execution": {
     "iopub.execute_input": "2023-04-27T17:13:44.162288Z",
     "iopub.status.busy": "2023-04-27T17:13:44.161417Z",
     "iopub.status.idle": "2023-04-27T17:13:45.862268Z",
     "shell.execute_reply": "2023-04-27T17:13:45.861312Z"
    },
    "id": "hPNiho7E0ex7",
    "outputId": "c712abd0-a774-4fb7-e860-d36d78aa68d5",
    "papermill": {
     "duration": 1.711242,
     "end_time": "2023-04-27T17:13:45.864610",
     "exception": false,
     "start_time": "2023-04-27T17:13:44.153368",
     "status": "completed"
    },
    "tags": []
   },
   "outputs": [
    {
     "data": {
      "application/vnd.jupyter.widget-view+json": {
       "model_id": "6e621dc412de44b5a9dbb943e08d319e",
       "version_major": 2,
       "version_minor": 0
      },
      "text/plain": [
       "Downloading (…)okenizer_config.json:   0%|          | 0.00/29.0 [00:00<?, ?B/s]"
      ]
     },
     "metadata": {},
     "output_type": "display_data"
    },
    {
     "data": {
      "application/vnd.jupyter.widget-view+json": {
       "model_id": "7e4a9dc496ed471f90dd96b32e1b789a",
       "version_major": 2,
       "version_minor": 0
      },
      "text/plain": [
       "Downloading (…)solve/main/vocab.txt:   0%|          | 0.00/213k [00:00<?, ?B/s]"
      ]
     },
     "metadata": {},
     "output_type": "display_data"
    },
    {
     "data": {
      "application/vnd.jupyter.widget-view+json": {
       "model_id": "a398757a226d4207b1ce908a481ccafa",
       "version_major": 2,
       "version_minor": 0
      },
      "text/plain": [
       "Downloading (…)/main/tokenizer.json:   0%|          | 0.00/436k [00:00<?, ?B/s]"
      ]
     },
     "metadata": {},
     "output_type": "display_data"
    },
    {
     "data": {
      "application/vnd.jupyter.widget-view+json": {
       "model_id": "a88d2df5a2ac414b85ae6d8325305772",
       "version_major": 2,
       "version_minor": 0
      },
      "text/plain": [
       "Downloading (…)lve/main/config.json:   0%|          | 0.00/570 [00:00<?, ?B/s]"
      ]
     },
     "metadata": {},
     "output_type": "display_data"
    }
   ],
   "source": [
    "tokenizer = BertTokenizerFast.from_pretrained('bert-base-cased')"
   ]
  },
  {
   "cell_type": "code",
   "execution_count": 7,
   "id": "76268eb1",
   "metadata": {
    "execution": {
     "iopub.execute_input": "2023-04-27T17:13:45.882127Z",
     "iopub.status.busy": "2023-04-27T17:13:45.881825Z",
     "iopub.status.idle": "2023-04-27T17:13:53.477673Z",
     "shell.execute_reply": "2023-04-27T17:13:53.476553Z"
    },
    "id": "y0q3JXy50Tcl",
    "papermill": {
     "duration": 7.607879,
     "end_time": "2023-04-27T17:13:53.480594",
     "exception": false,
     "start_time": "2023-04-27T17:13:45.872715",
     "status": "completed"
    },
    "tags": []
   },
   "outputs": [],
   "source": [
    "maxlen = 0\n",
    "\n",
    "labels = []\n",
    "for i in df['labels'].values.tolist():\n",
    "    if isinstance(i, str):\n",
    "        labels.append(i.split())\n",
    "    else:\n",
    "        labels.append([])\n",
    "\n",
    "unique_labels = set()\n",
    "for lb in labels:\n",
    "  maxlen = max(maxlen, len(lb))\n",
    "  [unique_labels.add(i) for i in lb if i not in unique_labels]\n",
    "\n",
    "\n",
    "sentences = df['text'].apply(tokenizer).values\n",
    "for sts in sentences:\n",
    "  maxlen = max(maxlen, len(sts['input_ids']))"
   ]
  },
  {
   "cell_type": "code",
   "execution_count": 8,
   "id": "80062f6d",
   "metadata": {
    "execution": {
     "iopub.execute_input": "2023-04-27T17:13:53.498689Z",
     "iopub.status.busy": "2023-04-27T17:13:53.498351Z",
     "iopub.status.idle": "2023-04-27T17:13:53.504643Z",
     "shell.execute_reply": "2023-04-27T17:13:53.503704Z"
    },
    "id": "LPvfUU_i0W_c",
    "outputId": "dc092573-06b5-4281-d122-efaf1667179e",
    "papermill": {
     "duration": 0.017271,
     "end_time": "2023-04-27T17:13:53.507018",
     "exception": false,
     "start_time": "2023-04-27T17:13:53.489747",
     "status": "completed"
    },
    "tags": []
   },
   "outputs": [
    {
     "name": "stdout",
     "output_type": "stream",
     "text": [
      "{'I-eve', 'I-nat', 'B-gpe', 'B-art', 'B-eve', 'B-org', 'I-geo', 'I-tim', 'B-geo', 'I-art', 'I-per', 'B-nat', 'I-org', 'B-tim', 'O', 'I-gpe', 'B-per'}\n",
      "156\n"
     ]
    }
   ],
   "source": [
    "print(unique_labels)\n",
    "print(maxlen)"
   ]
  },
  {
   "cell_type": "code",
   "execution_count": 9,
   "id": "b8d228cc",
   "metadata": {
    "execution": {
     "iopub.execute_input": "2023-04-27T17:13:53.523318Z",
     "iopub.status.busy": "2023-04-27T17:13:53.523037Z",
     "iopub.status.idle": "2023-04-27T17:13:53.542753Z",
     "shell.execute_reply": "2023-04-27T17:13:53.541815Z"
    },
    "id": "E7n1riYb9UTv",
    "papermill": {
     "duration": 0.030265,
     "end_time": "2023-04-27T17:13:53.544960",
     "exception": false,
     "start_time": "2023-04-27T17:13:53.514695",
     "status": "completed"
    },
    "tags": []
   },
   "outputs": [],
   "source": [
    "df_hold, df_train, df_val, df_test = np.split(df.sample(frac=1,random_state=42), [int(0 * len(df)), int(.96 * len(df)), int(.98 * len(df))])"
   ]
  },
  {
   "cell_type": "code",
   "execution_count": 10,
   "id": "a0f1743d",
   "metadata": {
    "execution": {
     "iopub.execute_input": "2023-04-27T17:13:53.561460Z",
     "iopub.status.busy": "2023-04-27T17:13:53.561181Z",
     "iopub.status.idle": "2023-04-27T17:13:53.566458Z",
     "shell.execute_reply": "2023-04-27T17:13:53.565383Z"
    },
    "id": "J41POtoezdNT",
    "outputId": "e27b123a-71cf-4281-ed98-3546f47af216",
    "papermill": {
     "duration": 0.017543,
     "end_time": "2023-04-27T17:13:53.570286",
     "exception": false,
     "start_time": "2023-04-27T17:13:53.552743",
     "status": "completed"
    },
    "tags": []
   },
   "outputs": [
    {
     "name": "stdout",
     "output_type": "stream",
     "text": [
      "0 46040 959 960\n"
     ]
    }
   ],
   "source": [
    "print(len(df_hold), len(df_train), len(df_val), len(df_test))"
   ]
  },
  {
   "cell_type": "code",
   "execution_count": 11,
   "id": "a821b40c",
   "metadata": {
    "execution": {
     "iopub.execute_input": "2023-04-27T17:13:53.586381Z",
     "iopub.status.busy": "2023-04-27T17:13:53.586103Z",
     "iopub.status.idle": "2023-04-27T17:13:53.592734Z",
     "shell.execute_reply": "2023-04-27T17:13:53.591721Z"
    },
    "id": "gW4bvhWe01ge",
    "papermill": {
     "duration": 0.017187,
     "end_time": "2023-04-27T17:13:53.594936",
     "exception": false,
     "start_time": "2023-04-27T17:13:53.577749",
     "status": "completed"
    },
    "tags": []
   },
   "outputs": [],
   "source": [
    "def my_tokenizer(sentence):\n",
    "  tokens = tokenizer.tokenize(sentence)\n",
    "  tokens = ['[CLS]'] + tokens + ['[SEP]']\n",
    "\n",
    "  padded_tokens = tokens + ['[PAD]' for _ in range(maxlen - len(tokens))]\n",
    "\n",
    "  inp = torch.tensor(tokenizer.convert_tokens_to_ids(padded_tokens), dtype = torch.int32)\n",
    "\n",
    "  attn = torch.tensor([1 if token != '[PAD]' else 0 for token in padded_tokens], dtype = torch.int32)\n",
    "  seg = torch.tensor([0 for _ in range(len(padded_tokens))], dtype = torch.int32)\n",
    "\n",
    "  return inp, attn, seg"
   ]
  },
  {
   "cell_type": "code",
   "execution_count": 12,
   "id": "bf435182",
   "metadata": {
    "execution": {
     "iopub.execute_input": "2023-04-27T17:13:53.611612Z",
     "iopub.status.busy": "2023-04-27T17:13:53.611336Z",
     "iopub.status.idle": "2023-04-27T17:13:53.618884Z",
     "shell.execute_reply": "2023-04-27T17:13:53.617449Z"
    },
    "id": "atxl0dinteru",
    "papermill": {
     "duration": 0.019119,
     "end_time": "2023-04-27T17:13:53.621769",
     "exception": false,
     "start_time": "2023-04-27T17:13:53.602650",
     "status": "completed"
    },
    "tags": []
   },
   "outputs": [],
   "source": [
    "def tokenize_column(column):\n",
    "    \"\"\"Preprocesses a Pandas column and returns input ids, attention masks, and token type ids as 2D arrays.\"\"\"\n",
    "    input_ids = torch.empty(0, maxlen)\n",
    "    attention_masks = torch.empty(0, maxlen)\n",
    "    token_type_ids = torch.empty(0, maxlen)\n",
    "    \n",
    "    for text in column:\n",
    "        inp, attn, seg = my_tokenizer(text)\n",
    "        input_ids = torch.cat((input_ids, inp.unsqueeze(0)), dim=0)\n",
    "        attention_masks = torch.cat((attention_masks, attn.unsqueeze(0)), dim=0)\n",
    "        token_type_ids = torch.cat((token_type_ids, seg.unsqueeze(0)), dim=0)\n",
    "\n",
    "    input_ids = input_ids.long()\n",
    "    attention_masks = attention_masks.long()\n",
    "    token_type_ids = token_type_ids.long()\n",
    "    return input_ids, attention_masks, token_type_ids"
   ]
  },
  {
   "cell_type": "code",
   "execution_count": 13,
   "id": "3888eb98",
   "metadata": {
    "execution": {
     "iopub.execute_input": "2023-04-27T17:13:53.638743Z",
     "iopub.status.busy": "2023-04-27T17:13:53.638446Z",
     "iopub.status.idle": "2023-04-27T17:13:53.645952Z",
     "shell.execute_reply": "2023-04-27T17:13:53.644967Z"
    },
    "id": "LZtPitLzK5yP",
    "outputId": "7935f7b2-4826-41d9-8bde-9fb027368e29",
    "papermill": {
     "duration": 0.01823,
     "end_time": "2023-04-27T17:13:53.648205",
     "exception": false,
     "start_time": "2023-04-27T17:13:53.629975",
     "status": "completed"
    },
    "tags": []
   },
   "outputs": [
    {
     "data": {
      "text/plain": [
       "{'I-eve': 1,\n",
       " 'I-nat': 2,\n",
       " 'B-gpe': 3,\n",
       " 'B-art': 4,\n",
       " 'B-eve': 5,\n",
       " 'B-org': 6,\n",
       " 'I-geo': 7,\n",
       " 'I-tim': 8,\n",
       " 'B-geo': 9,\n",
       " 'I-art': 10,\n",
       " 'I-per': 11,\n",
       " 'B-nat': 12,\n",
       " 'I-org': 13,\n",
       " 'B-tim': 14,\n",
       " 'O': 15,\n",
       " 'I-gpe': 16,\n",
       " 'B-per': 17}"
      ]
     },
     "execution_count": 13,
     "metadata": {},
     "output_type": "execute_result"
    }
   ],
   "source": [
    "arr = np.arange(1,18) # 1-17 because we will have a 0 class for empty slots, i.e no word there\n",
    "dict = {}\n",
    "for A, B in zip(unique_labels, arr):\n",
    "    dict[A] = B\n",
    "dict"
   ]
  },
  {
   "cell_type": "code",
   "execution_count": 14,
   "id": "a14dd551",
   "metadata": {
    "execution": {
     "iopub.execute_input": "2023-04-27T17:13:53.664561Z",
     "iopub.status.busy": "2023-04-27T17:13:53.664295Z",
     "iopub.status.idle": "2023-04-27T17:13:58.858134Z",
     "shell.execute_reply": "2023-04-27T17:13:58.857025Z"
    },
    "id": "c3IiMglsNATm",
    "papermill": {
     "duration": 5.205068,
     "end_time": "2023-04-27T17:13:58.860884",
     "exception": false,
     "start_time": "2023-04-27T17:13:53.655816",
     "status": "completed"
    },
    "tags": []
   },
   "outputs": [
    {
     "name": "stdout",
     "output_type": "stream",
     "text": [
      "huggingface/tokenizers: The current process just got forked, after parallelism has already been used. Disabling parallelism to avoid deadlocks...\n",
      "To disable this warning, you can either:\n",
      "\t- Avoid using `tokenizers` before the fork if possible\n",
      "\t- Explicitly set the environment variable TOKENIZERS_PARALLELISM=(true | false)\n"
     ]
    }
   ],
   "source": [
    "from tensorflow.keras.utils import to_categorical\n",
    "from tensorflow.keras.preprocessing.sequence import pad_sequences\n",
    "\n",
    "def cat_labelize(column):\n",
    "  labels = [i.split() for i in column.values.tolist()]\n",
    "  Y_labels = []\n",
    "  for i in range(len(labels)):\n",
    "    arr = []\n",
    "    for j in range(len(labels[i])):\n",
    "      arr.append(int(dict[labels[i][j]]))\n",
    "    arr = np.array(arr, dtype = 'int32').astype('int32')\n",
    "    Y_labels.append(arr)\n",
    "  Y_labels = np.array(Y_labels)\n",
    "  Y_cat = pad_sequences(Y_labels, maxlen = maxlen,  padding = 'post', truncating = 'post')\n",
    "  Y_cat = to_categorical(Y_cat, num_classes=18)\n",
    "  return Y_cat"
   ]
  },
  {
   "cell_type": "code",
   "execution_count": 15,
   "id": "410ba7c2",
   "metadata": {
    "execution": {
     "iopub.execute_input": "2023-04-27T17:13:58.881199Z",
     "iopub.status.busy": "2023-04-27T17:13:58.880249Z",
     "iopub.status.idle": "2023-04-27T17:26:40.616609Z",
     "shell.execute_reply": "2023-04-27T17:26:40.615479Z"
    },
    "id": "qEdVpQBTVuqM",
    "papermill": {
     "duration": 761.748673,
     "end_time": "2023-04-27T17:26:40.619406",
     "exception": false,
     "start_time": "2023-04-27T17:13:58.870733",
     "status": "completed"
    },
    "tags": []
   },
   "outputs": [],
   "source": [
    "inp_train, attn_train, seg_train = tokenize_column(df_train['text'])\n",
    "inp_val, attn_val, seg_val = tokenize_column(df_val['text'])\n",
    "inp_test, attn_test, seg_test = tokenize_column(df_test['text'])"
   ]
  },
  {
   "cell_type": "code",
   "execution_count": 16,
   "id": "cded963d",
   "metadata": {
    "execution": {
     "iopub.execute_input": "2023-04-27T17:26:40.637092Z",
     "iopub.status.busy": "2023-04-27T17:26:40.636762Z",
     "iopub.status.idle": "2023-04-27T17:26:42.089644Z",
     "shell.execute_reply": "2023-04-27T17:26:42.088263Z"
    },
    "id": "2SFW4U1fO7Rm",
    "outputId": "974a1f0d-c670-4e01-cffc-5726b5d23bc4",
    "papermill": {
     "duration": 1.464712,
     "end_time": "2023-04-27T17:26:42.092563",
     "exception": false,
     "start_time": "2023-04-27T17:26:40.627851",
     "status": "completed"
    },
    "tags": []
   },
   "outputs": [
    {
     "name": "stderr",
     "output_type": "stream",
     "text": [
      "/opt/conda/lib/python3.7/site-packages/ipykernel_launcher.py:13: VisibleDeprecationWarning: Creating an ndarray from ragged nested sequences (which is a list-or-tuple of lists-or-tuples-or ndarrays with different lengths or shapes) is deprecated. If you meant to do this, you must specify 'dtype=object' when creating the ndarray.\n",
      "  del sys.path[0]\n"
     ]
    }
   ],
   "source": [
    "ycat_train = cat_labelize(df_train['labels'])\n",
    "ycat_val = cat_labelize(df_val['labels'])"
   ]
  },
  {
   "cell_type": "code",
   "execution_count": 17,
   "id": "247df941",
   "metadata": {
    "execution": {
     "iopub.execute_input": "2023-04-27T17:26:42.110819Z",
     "iopub.status.busy": "2023-04-27T17:26:42.110490Z",
     "iopub.status.idle": "2023-04-27T17:26:42.117637Z",
     "shell.execute_reply": "2023-04-27T17:26:42.116682Z"
    },
    "papermill": {
     "duration": 0.018349,
     "end_time": "2023-04-27T17:26:42.119686",
     "exception": false,
     "start_time": "2023-04-27T17:26:42.101337",
     "status": "completed"
    },
    "tags": []
   },
   "outputs": [],
   "source": [
    "def labelize_test(column):\n",
    "  labels = [i.split() for i in column.values.tolist()]\n",
    "  Y_labels = []\n",
    "  for i in range(len(labels)):\n",
    "    arr = []\n",
    "    for j in range(len(labels[i])):\n",
    "      arr.append(int(dict[labels[i][j]]))\n",
    "    arr = np.array(arr, dtype = 'int32').astype('int32')\n",
    "    Y_labels.append(arr)\n",
    "  Y_labels = np.array(Y_labels)\n",
    "  Y_cat = pad_sequences(Y_labels, maxlen = maxlen,  padding = 'post', truncating = 'post')\n",
    "  return Y_cat"
   ]
  },
  {
   "cell_type": "code",
   "execution_count": 18,
   "id": "cf2c29f1",
   "metadata": {
    "execution": {
     "iopub.execute_input": "2023-04-27T17:26:42.137448Z",
     "iopub.status.busy": "2023-04-27T17:26:42.136713Z",
     "iopub.status.idle": "2023-04-27T17:26:42.168827Z",
     "shell.execute_reply": "2023-04-27T17:26:42.167333Z"
    },
    "papermill": {
     "duration": 0.043323,
     "end_time": "2023-04-27T17:26:42.171061",
     "exception": false,
     "start_time": "2023-04-27T17:26:42.127738",
     "status": "completed"
    },
    "tags": []
   },
   "outputs": [
    {
     "name": "stderr",
     "output_type": "stream",
     "text": [
      "/opt/conda/lib/python3.7/site-packages/ipykernel_launcher.py:10: VisibleDeprecationWarning: Creating an ndarray from ragged nested sequences (which is a list-or-tuple of lists-or-tuples-or ndarrays with different lengths or shapes) is deprecated. If you meant to do this, you must specify 'dtype=object' when creating the ndarray.\n",
      "  # Remove the CWD from sys.path while we load stuff.\n"
     ]
    }
   ],
   "source": [
    "y_test = labelize_test(df_test['labels'])"
   ]
  },
  {
   "cell_type": "code",
   "execution_count": 19,
   "id": "1f35d53b",
   "metadata": {
    "execution": {
     "iopub.execute_input": "2023-04-27T17:26:42.187782Z",
     "iopub.status.busy": "2023-04-27T17:26:42.187471Z",
     "iopub.status.idle": "2023-04-27T17:26:42.191968Z",
     "shell.execute_reply": "2023-04-27T17:26:42.191176Z"
    },
    "papermill": {
     "duration": 0.015947,
     "end_time": "2023-04-27T17:26:42.194820",
     "exception": false,
     "start_time": "2023-04-27T17:26:42.178873",
     "status": "completed"
    },
    "tags": []
   },
   "outputs": [
    {
     "name": "stdout",
     "output_type": "stream",
     "text": [
      "(46040, 156, 18)\n",
      "(960, 156)\n"
     ]
    }
   ],
   "source": [
    "print(ycat_train.shape)\n",
    "print(y_test.shape)"
   ]
  },
  {
   "cell_type": "code",
   "execution_count": 20,
   "id": "6ef9af5b",
   "metadata": {
    "execution": {
     "iopub.execute_input": "2023-04-27T17:26:42.211567Z",
     "iopub.status.busy": "2023-04-27T17:26:42.211302Z",
     "iopub.status.idle": "2023-04-27T17:26:42.215534Z",
     "shell.execute_reply": "2023-04-27T17:26:42.214774Z"
    },
    "id": "lctw5lL0-MgE",
    "outputId": "5f81602b-0869-465c-c6d2-1828fa970634",
    "papermill": {
     "duration": 0.015773,
     "end_time": "2023-04-27T17:26:42.218363",
     "exception": false,
     "start_time": "2023-04-27T17:26:42.202590",
     "status": "completed"
    },
    "tags": []
   },
   "outputs": [
    {
     "name": "stdout",
     "output_type": "stream",
     "text": [
      "torch.Size([46040, 156]) torch.Size([46040, 156]) torch.Size([46040, 156]) (46040, 156, 18)\n"
     ]
    }
   ],
   "source": [
    "print(inp_train.shape, attn_train.shape, seg_train.shape, ycat_train.shape)"
   ]
  },
  {
   "cell_type": "code",
   "execution_count": 21,
   "id": "29458e68",
   "metadata": {
    "execution": {
     "iopub.execute_input": "2023-04-27T17:26:42.235032Z",
     "iopub.status.busy": "2023-04-27T17:26:42.234772Z",
     "iopub.status.idle": "2023-04-27T17:26:42.240822Z",
     "shell.execute_reply": "2023-04-27T17:26:42.239811Z"
    },
    "id": "uG9VdJhcXcbY",
    "outputId": "70cf55f6-8cc3-4003-bf83-c30bec942271",
    "papermill": {
     "duration": 0.016775,
     "end_time": "2023-04-27T17:26:42.242853",
     "exception": false,
     "start_time": "2023-04-27T17:26:42.226078",
     "status": "completed"
    },
    "tags": []
   },
   "outputs": [
    {
     "data": {
      "text/plain": [
       "(156, 18)"
      ]
     },
     "execution_count": 21,
     "metadata": {},
     "output_type": "execute_result"
    }
   ],
   "source": [
    "ycat_train[0].shape"
   ]
  },
  {
   "cell_type": "code",
   "execution_count": 22,
   "id": "28c2c26e",
   "metadata": {
    "execution": {
     "iopub.execute_input": "2023-04-27T17:26:42.259812Z",
     "iopub.status.busy": "2023-04-27T17:26:42.259532Z",
     "iopub.status.idle": "2023-04-27T17:26:42.269316Z",
     "shell.execute_reply": "2023-04-27T17:26:42.267957Z"
    },
    "id": "1fiKwxTXSYQm",
    "outputId": "7cf9f1b3-16aa-4c09-8eb0-5b12788cedbd",
    "papermill": {
     "duration": 0.020497,
     "end_time": "2023-04-27T17:26:42.271336",
     "exception": false,
     "start_time": "2023-04-27T17:26:42.250839",
     "status": "completed"
    },
    "tags": []
   },
   "outputs": [
    {
     "name": "stderr",
     "output_type": "stream",
     "text": [
      "/opt/conda/lib/python3.7/site-packages/torch/utils/data/dataloader.py:557: UserWarning: This DataLoader will create 4 worker processes in total. Our suggested max number of worker in current system is 2, which is smaller than what this DataLoader is going to create. Please be aware that excessive worker creation might get DataLoader running slow or even freeze, lower the worker number to avoid potential slowness/freeze if necessary.\n",
      "  cpuset_checked))\n"
     ]
    }
   ],
   "source": [
    "from torch.utils.data import Dataset, DataLoader\n",
    "\n",
    "class bhavneek_dataset(Dataset):\n",
    "    def __init__(self, inp, attn, seg, ycat):\n",
    "        self.inp = inp\n",
    "        self.attn = attn\n",
    "        self.seg = seg\n",
    "        self.ycat = ycat\n",
    "        \n",
    "    def __len__(self):\n",
    "        return len(self.inp)\n",
    "    \n",
    "    def __getitem__(self, index):\n",
    "        return self.inp[index], self.attn[index], self.seg[index], self.ycat[index]\n",
    "\n",
    "\n",
    "train_data = bhavneek_dataset(inp=inp_train, attn=attn_train, seg=seg_train, ycat=ycat_train)\n",
    "\n",
    "batch_size = 32\n",
    "num_workers = 4\n",
    "\n",
    "dataloader = DataLoader(train_data, batch_size=batch_size, num_workers=num_workers, shuffle=True)\n"
   ]
  },
  {
   "cell_type": "code",
   "execution_count": 23,
   "id": "994e7870",
   "metadata": {
    "execution": {
     "iopub.execute_input": "2023-04-27T17:26:42.288514Z",
     "iopub.status.busy": "2023-04-27T17:26:42.288248Z",
     "iopub.status.idle": "2023-04-27T17:26:42.294207Z",
     "shell.execute_reply": "2023-04-27T17:26:42.293168Z"
    },
    "id": "SFHbs553hp-5",
    "papermill": {
     "duration": 0.016967,
     "end_time": "2023-04-27T17:26:42.296166",
     "exception": false,
     "start_time": "2023-04-27T17:26:42.279199",
     "status": "completed"
    },
    "tags": []
   },
   "outputs": [],
   "source": [
    "class BertModel(nn.Module):\n",
    "\n",
    "  def __init__(self):\n",
    "    super(BertModel, self).__init__()\n",
    "    self.bert = BertForTokenClassification.from_pretrained('bert-base-cased', num_labels=len(unique_labels)+1)\n",
    "\n",
    "  def forward(self, inp, attn, lab):\n",
    "    softmax_layer = nn.Softmax(dim=1)\n",
    "    output = softmax_layer(self.bert(input_ids=inp, attention_mask=attn, labels=lab, return_dict=False)[1])\n",
    "    return output"
   ]
  },
  {
   "cell_type": "code",
   "execution_count": 24,
   "id": "b6fd57d6",
   "metadata": {
    "execution": {
     "iopub.execute_input": "2023-04-27T17:26:42.314078Z",
     "iopub.status.busy": "2023-04-27T17:26:42.313279Z",
     "iopub.status.idle": "2023-04-27T17:26:46.241105Z",
     "shell.execute_reply": "2023-04-27T17:26:46.240098Z"
    },
    "id": "0apNPg1RhyME",
    "outputId": "6eb44fb7-36a1-41d4-f211-c3d51fdd3b4a",
    "papermill": {
     "duration": 3.939406,
     "end_time": "2023-04-27T17:26:46.243669",
     "exception": false,
     "start_time": "2023-04-27T17:26:42.304263",
     "status": "completed"
    },
    "tags": []
   },
   "outputs": [
    {
     "data": {
      "application/vnd.jupyter.widget-view+json": {
       "model_id": "beceed485c024d91aafeef3bda38f0b4",
       "version_major": 2,
       "version_minor": 0
      },
      "text/plain": [
       "Downloading pytorch_model.bin:   0%|          | 0.00/436M [00:00<?, ?B/s]"
      ]
     },
     "metadata": {},
     "output_type": "display_data"
    },
    {
     "name": "stderr",
     "output_type": "stream",
     "text": [
      "Some weights of the model checkpoint at bert-base-cased were not used when initializing BertForTokenClassification: ['cls.seq_relationship.weight', 'cls.seq_relationship.bias', 'cls.predictions.transform.dense.bias', 'cls.predictions.decoder.weight', 'cls.predictions.transform.dense.weight', 'cls.predictions.bias', 'cls.predictions.transform.LayerNorm.bias', 'cls.predictions.transform.LayerNorm.weight']\n",
      "- This IS expected if you are initializing BertForTokenClassification from the checkpoint of a model trained on another task or with another architecture (e.g. initializing a BertForSequenceClassification model from a BertForPreTraining model).\n",
      "- This IS NOT expected if you are initializing BertForTokenClassification from the checkpoint of a model that you expect to be exactly identical (initializing a BertForSequenceClassification model from a BertForSequenceClassification model).\n",
      "Some weights of BertForTokenClassification were not initialized from the model checkpoint at bert-base-cased and are newly initialized: ['classifier.weight', 'classifier.bias']\n",
      "You should probably TRAIN this model on a down-stream task to be able to use it for predictions and inference.\n"
     ]
    }
   ],
   "source": [
    "model = BertModel()"
   ]
  },
  {
   "cell_type": "code",
   "execution_count": 25,
   "id": "2cd41cbe",
   "metadata": {
    "execution": {
     "iopub.execute_input": "2023-04-27T17:26:46.263153Z",
     "iopub.status.busy": "2023-04-27T17:26:46.262860Z",
     "iopub.status.idle": "2023-04-27T17:26:46.268946Z",
     "shell.execute_reply": "2023-04-27T17:26:46.267852Z"
    },
    "id": "M9gxpORmXzA5",
    "papermill": {
     "duration": 0.018672,
     "end_time": "2023-04-27T17:26:46.271412",
     "exception": false,
     "start_time": "2023-04-27T17:26:46.252740",
     "status": "completed"
    },
    "tags": []
   },
   "outputs": [],
   "source": [
    "criterion = nn.CrossEntropyLoss()\n",
    "criterion.to(device)\n",
    "opti = torch.optim.Adam(model.parameters(), lr = 1e-5)"
   ]
  },
  {
   "cell_type": "code",
   "execution_count": 26,
   "id": "6ce92496",
   "metadata": {
    "execution": {
     "iopub.execute_input": "2023-04-27T17:26:46.289415Z",
     "iopub.status.busy": "2023-04-27T17:26:46.289150Z",
     "iopub.status.idle": "2023-04-27T20:57:50.137178Z",
     "shell.execute_reply": "2023-04-27T20:57:50.135909Z"
    },
    "id": "FtmSDCDaYOE5",
    "outputId": "3e9b598b-4e80-4fd9-89e1-62fae2e5fd15",
    "papermill": {
     "duration": 12663.860472,
     "end_time": "2023-04-27T20:57:50.140234",
     "exception": false,
     "start_time": "2023-04-27T17:26:46.279762",
     "status": "completed"
    },
    "tags": []
   },
   "outputs": [
    {
     "name": "stdout",
     "output_type": "stream",
     "text": [
      "huggingface/tokenizers: The current process just got forked, after parallelism has already been used. Disabling parallelism to avoid deadlocks...\n",
      "To disable this warning, you can either:\n",
      "\t- Avoid using `tokenizers` before the fork if possible\n",
      "\t- Explicitly set the environment variable TOKENIZERS_PARALLELISM=(true | false)\n",
      "huggingface/tokenizers: The current process just got forked, after parallelism has already been used. Disabling parallelism to avoid deadlocks...\n",
      "To disable this warning, you can either:\n",
      "\t- Avoid using `tokenizers` before the fork if possible\n",
      "\t- Explicitly set the environment variable TOKENIZERS_PARALLELISM=(true | false)\n",
      "huggingface/tokenizers: The current process just got forked, after parallelism has already been used. Disabling parallelism to avoid deadlocks...\n",
      "To disable this warning, you can either:\n",
      "\t- Avoid using `tokenizers` before the fork if possible\n",
      "\t- Explicitly set the environment variable TOKENIZERS_PARALLELISM=(true | false)\n",
      "huggingface/tokenizers: The current process just got forked, after parallelism has already been used. Disabling parallelism to avoid deadlocks...\n",
      "To disable this warning, you can either:\n",
      "\t- Avoid using `tokenizers` before the fork if possible\n",
      "\t- Explicitly set the environment variable TOKENIZERS_PARALLELISM=(true | false)\n",
      "Epoch 1, Batch 0, Training Loss 43.7654, Val Loss 43.7646\n",
      "Epoch 1, Batch 50, Training Loss 43.7175, Val Loss 43.7163\n",
      "Epoch 1, Batch 100, Training Loss 43.7059, Val Loss 43.7051\n",
      "Epoch 1, Batch 150, Training Loss 43.6825, Val Loss 43.6773\n",
      "Epoch 1, Batch 200, Training Loss 43.6607, Val Loss 43.6592\n",
      "Epoch 1, Batch 250, Training Loss 43.6566, Val Loss 43.6529\n",
      "Epoch 1, Batch 300, Training Loss 43.6591, Val Loss 43.6494\n",
      "Epoch 1, Batch 350, Training Loss 43.6495, Val Loss 43.6469\n",
      "Epoch 1, Batch 400, Training Loss 43.6438, Val Loss 43.6456\n",
      "Epoch 1, Batch 450, Training Loss 43.6581, Val Loss 43.6441\n",
      "Epoch 1, Batch 500, Training Loss 43.6423, Val Loss 43.6436\n",
      "Epoch 1, Batch 550, Training Loss 43.6205, Val Loss 43.6433\n",
      "Epoch 1, Batch 600, Training Loss 43.6392, Val Loss 43.6424\n",
      "Epoch 1, Batch 650, Training Loss 43.6513, Val Loss 43.6414\n",
      "Epoch 1, Batch 700, Training Loss 43.6659, Val Loss 43.6411\n",
      "Epoch 1, Batch 750, Training Loss 43.6448, Val Loss 43.6404\n",
      "Epoch 1, Batch 800, Training Loss 43.6195, Val Loss 43.6394\n",
      "Epoch 1, Batch 850, Training Loss 43.6460, Val Loss 43.6374\n",
      "Epoch 1, Batch 900, Training Loss 43.6235, Val Loss 43.6366\n",
      "Epoch 1, Batch 950, Training Loss 43.6201, Val Loss 43.6338\n",
      "Epoch 1, Batch 1000, Training Loss 43.6294, Val Loss 43.6319\n",
      "Epoch 1, Batch 1050, Training Loss 43.6237, Val Loss 43.6314\n",
      "Epoch 1, Batch 1100, Training Loss 43.6264, Val Loss 43.6275\n",
      "Epoch 1, Batch 1150, Training Loss 43.6178, Val Loss 43.6245\n",
      "Epoch 1, Batch 1200, Training Loss 43.6288, Val Loss 43.6220\n",
      "Epoch 1, Batch 1250, Training Loss 43.6285, Val Loss 43.6216\n",
      "Epoch 1, Batch 1300, Training Loss 43.6425, Val Loss 43.6254\n",
      "Epoch 1, Batch 1350, Training Loss 43.6157, Val Loss 43.6195\n",
      "Epoch 1, Batch 1400, Training Loss 43.6361, Val Loss 43.6228\n",
      "huggingface/tokenizers: The current process just got forked, after parallelism has already been used. Disabling parallelism to avoid deadlocks...\n",
      "To disable this warning, you can either:\n",
      "\t- Avoid using `tokenizers` before the fork if possible\n",
      "\t- Explicitly set the environment variable TOKENIZERS_PARALLELISM=(true | false)\n",
      "huggingface/tokenizers: The current process just got forked, after parallelism has already been used. Disabling parallelism to avoid deadlocks...\n",
      "To disable this warning, you can either:\n",
      "\t- Avoid using `tokenizers` before the fork if possible\n",
      "\t- Explicitly set the environment variable TOKENIZERS_PARALLELISM=(true | false)\n",
      "huggingface/tokenizers: The current process just got forked, after parallelism has already been used. Disabling parallelism to avoid deadlocks...\n",
      "To disable this warning, you can either:\n",
      "\t- Avoid using `tokenizers` before the fork if possible\n",
      "\t- Explicitly set the environment variable TOKENIZERS_PARALLELISM=(true | false)\n",
      "huggingface/tokenizers: The current process just got forked, after parallelism has already been used. Disabling parallelism to avoid deadlocks...\n",
      "To disable this warning, you can either:\n",
      "\t- Avoid using `tokenizers` before the fork if possible\n",
      "\t- Explicitly set the environment variable TOKENIZERS_PARALLELISM=(true | false)\n",
      "Epoch 2, Batch 0, Training Loss 43.6019, Val Loss 43.6165\n",
      "Epoch 2, Batch 50, Training Loss 43.6118, Val Loss 43.6151\n",
      "Epoch 2, Batch 100, Training Loss 43.6206, Val Loss 43.6161\n",
      "Epoch 2, Batch 150, Training Loss 43.6016, Val Loss 43.6139\n",
      "Epoch 2, Batch 200, Training Loss 43.6189, Val Loss 43.6158\n",
      "Epoch 2, Batch 250, Training Loss 43.6154, Val Loss 43.6147\n",
      "Epoch 2, Batch 300, Training Loss 43.6345, Val Loss 43.6113\n",
      "Epoch 2, Batch 350, Training Loss 43.6152, Val Loss 43.6127\n",
      "Epoch 2, Batch 400, Training Loss 43.5999, Val Loss 43.6149\n",
      "Epoch 2, Batch 450, Training Loss 43.5940, Val Loss 43.6094\n",
      "Epoch 2, Batch 500, Training Loss 43.5971, Val Loss 43.6099\n",
      "Epoch 2, Batch 550, Training Loss 43.6387, Val Loss 43.6095\n",
      "Epoch 2, Batch 600, Training Loss 43.5940, Val Loss 43.6090\n",
      "Epoch 2, Batch 650, Training Loss 43.6134, Val Loss 43.6084\n",
      "Epoch 2, Batch 700, Training Loss 43.6283, Val Loss 43.6087\n",
      "Epoch 2, Batch 750, Training Loss 43.6152, Val Loss 43.6081\n",
      "Epoch 2, Batch 800, Training Loss 43.6044, Val Loss 43.6074\n",
      "Epoch 2, Batch 850, Training Loss 43.6250, Val Loss 43.6097\n",
      "Epoch 2, Batch 900, Training Loss 43.6170, Val Loss 43.6065\n",
      "Epoch 2, Batch 950, Training Loss 43.6264, Val Loss 43.6088\n",
      "Epoch 2, Batch 1000, Training Loss 43.6121, Val Loss 43.6044\n",
      "Epoch 2, Batch 1050, Training Loss 43.5995, Val Loss 43.6078\n",
      "Epoch 2, Batch 1100, Training Loss 43.6093, Val Loss 43.6053\n",
      "Epoch 2, Batch 1150, Training Loss 43.5787, Val Loss 43.6047\n",
      "Epoch 2, Batch 1200, Training Loss 43.6278, Val Loss 43.6068\n",
      "Epoch 2, Batch 1250, Training Loss 43.6025, Val Loss 43.6059\n",
      "Epoch 2, Batch 1300, Training Loss 43.5881, Val Loss 43.6090\n",
      "Epoch 2, Batch 1350, Training Loss 43.5980, Val Loss 43.6043\n",
      "Epoch 2, Batch 1400, Training Loss 43.6039, Val Loss 43.6072\n",
      "To disable this warning, you can either:\n",
      "\t- Avoid using `tokenizers` before the fork if possible\n",
      "\t- Explicitly set the environment variable TOKENIZERS_PARALLELISM=(true | false)\n"
     ]
    }
   ],
   "source": [
    "model = model.to(device) \n",
    "num_epochs = 2\n",
    "\n",
    "train_loss_values = []\n",
    "val_loss_values = []\n",
    "batch_idx_count = []\n",
    "\n",
    "inp_val = inp_val.to(device)\n",
    "attn_val = attn_val.to(device)\n",
    "seg_val = seg_val.to(device)\n",
    "ycat_val = (torch.tensor(ycat_val)).to(device)\n",
    "\n",
    "for epoch in range(num_epochs):\n",
    "    for batch_idx, (inp, attn, seg, ycat) in enumerate(dataloader):\n",
    "        \n",
    "        inp = inp.to(device)\n",
    "        attn = attn.to(device)\n",
    "        seg = seg.to(device)\n",
    "        ycat = ycat.to(device)\n",
    "        \n",
    "        model.train()\n",
    "        output = model(inp, attn, seg)\n",
    "        loss = criterion(output, ycat)\n",
    "        \n",
    "        opti.zero_grad() \n",
    "        loss.backward() \n",
    "        opti.step()  \n",
    "        \n",
    "        \n",
    "        model.eval()\n",
    "        with torch.inference_mode():\n",
    "            \n",
    "            val_pred = model(inp_val, attn_val, seg_val)\n",
    "            val_loss = criterion(val_pred, ycat_val)\n",
    "            batch_idx_count.append(batch_idx)\n",
    "            train_loss_values.append(loss.detach())\n",
    "            val_loss_values.append(val_loss.detach())\n",
    "            if batch_idx % 50 ==0:\n",
    "                print(f\"Epoch {epoch+1}, Batch {batch_idx}, Training Loss {loss.item():.4f}, Val Loss {val_loss.item():.4f}\")\n"
   ]
  },
  {
   "cell_type": "code",
   "execution_count": 27,
   "id": "d8f956df",
   "metadata": {
    "execution": {
     "iopub.execute_input": "2023-04-27T20:57:50.165892Z",
     "iopub.status.busy": "2023-04-27T20:57:50.165547Z",
     "iopub.status.idle": "2023-04-27T20:57:54.542914Z",
     "shell.execute_reply": "2023-04-27T20:57:54.541883Z"
    },
    "papermill": {
     "duration": 4.393046,
     "end_time": "2023-04-27T20:57:54.545447",
     "exception": false,
     "start_time": "2023-04-27T20:57:50.152401",
     "status": "completed"
    },
    "tags": []
   },
   "outputs": [],
   "source": [
    "model.eval()\n",
    "with torch.inference_mode():\n",
    "    inp_test = inp_test.to(device)\n",
    "    attn_test = attn_test.to(device)\n",
    "    seg_test = seg_test.to(device)\n",
    "    test_output = model(inp_test, attn_test, seg_test)\n",
    "\n",
    "predictions = torch.argmax(test_output, dim=2)\n"
   ]
  },
  {
   "cell_type": "code",
   "execution_count": 28,
   "id": "c5f7e029",
   "metadata": {
    "execution": {
     "iopub.execute_input": "2023-04-27T20:57:54.572601Z",
     "iopub.status.busy": "2023-04-27T20:57:54.571068Z",
     "iopub.status.idle": "2023-04-27T20:57:58.105447Z",
     "shell.execute_reply": "2023-04-27T20:57:58.104333Z"
    },
    "papermill": {
     "duration": 3.550407,
     "end_time": "2023-04-27T20:57:58.108042",
     "exception": false,
     "start_time": "2023-04-27T20:57:54.557635",
     "status": "completed"
    },
    "tags": []
   },
   "outputs": [
    {
     "name": "stdout",
     "output_type": "stream",
     "text": [
      "torch.Size([960, 156])\n"
     ]
    }
   ],
   "source": [
    "print(predictions.shape)\n",
    "predictions = predictions.cpu().numpy()"
   ]
  },
  {
   "cell_type": "code",
   "execution_count": 29,
   "id": "d4516b7f",
   "metadata": {
    "execution": {
     "iopub.execute_input": "2023-04-27T20:57:58.134829Z",
     "iopub.status.busy": "2023-04-27T20:57:58.133232Z",
     "iopub.status.idle": "2023-04-27T20:57:58.159840Z",
     "shell.execute_reply": "2023-04-27T20:57:58.158921Z"
    },
    "papermill": {
     "duration": 0.041517,
     "end_time": "2023-04-27T20:57:58.161921",
     "exception": false,
     "start_time": "2023-04-27T20:57:58.120404",
     "status": "completed"
    },
    "tags": []
   },
   "outputs": [],
   "source": [
    "from itertools import chain\n",
    "\n",
    "y_test_flat = list(chain.from_iterable(y_test))\n",
    "predictions_flat = list(chain.from_iterable(predictions))"
   ]
  },
  {
   "cell_type": "code",
   "execution_count": 30,
   "id": "c4e31254",
   "metadata": {
    "execution": {
     "iopub.execute_input": "2023-04-27T20:57:58.187560Z",
     "iopub.status.busy": "2023-04-27T20:57:58.186610Z",
     "iopub.status.idle": "2023-04-27T20:57:58.808336Z",
     "shell.execute_reply": "2023-04-27T20:57:58.807243Z"
    },
    "papermill": {
     "duration": 0.636952,
     "end_time": "2023-04-27T20:57:58.810967",
     "exception": false,
     "start_time": "2023-04-27T20:57:58.174015",
     "status": "completed"
    },
    "tags": []
   },
   "outputs": [],
   "source": [
    "from sklearn.metrics import f1_score\n",
    "\n",
    "def get_scores(predY, trueY):\n",
    "  print(\"Micro F1 score: \", f1_score(trueY, predY, average=\"micro\"))\n",
    "  print(\"Macro F1 score: \", f1_score(trueY, predY, average=\"macro\"))\n",
    "  print(\"Average F1 score: \", (f1_score(trueY, predY, average=\"micro\") + f1_score(trueY, predY, average=\"macro\")) / 2)"
   ]
  },
  {
   "cell_type": "code",
   "execution_count": 31,
   "id": "8e3b6a6c",
   "metadata": {
    "execution": {
     "iopub.execute_input": "2023-04-27T20:57:58.837952Z",
     "iopub.status.busy": "2023-04-27T20:57:58.837611Z",
     "iopub.status.idle": "2023-04-27T20:57:59.317384Z",
     "shell.execute_reply": "2023-04-27T20:57:59.315941Z"
    },
    "papermill": {
     "duration": 0.495737,
     "end_time": "2023-04-27T20:57:59.319777",
     "exception": false,
     "start_time": "2023-04-27T20:57:58.824040",
     "status": "completed"
    },
    "tags": []
   },
   "outputs": [
    {
     "name": "stdout",
     "output_type": "stream",
     "text": [
      "Micro F1 score:  0.9116987179487179\n",
      "Macro F1 score:  0.29023837510621286\n",
      "Average F1 score:  0.6009685465274655\n"
     ]
    }
   ],
   "source": [
    "get_scores(predictions_flat, y_test_flat)"
   ]
  },
  {
   "cell_type": "code",
   "execution_count": 32,
   "id": "ec3f91d1",
   "metadata": {
    "execution": {
     "iopub.execute_input": "2023-04-27T20:57:59.345713Z",
     "iopub.status.busy": "2023-04-27T20:57:59.345378Z",
     "iopub.status.idle": "2023-04-27T20:57:59.690714Z",
     "shell.execute_reply": "2023-04-27T20:57:59.689643Z"
    },
    "papermill": {
     "duration": 0.360919,
     "end_time": "2023-04-27T20:57:59.693072",
     "exception": false,
     "start_time": "2023-04-27T20:57:59.332153",
     "status": "completed"
    },
    "tags": []
   },
   "outputs": [
    {
     "data": {
      "image/png": "[encoded data removed]",
      "text/plain": [
       "<Figure size 640x480 with 1 Axes>"
      ]
     },
     "metadata": {},
     "output_type": "display_data"
    }
   ],
   "source": [
    "batch_idx_count = np.arange(0, len(train_loss_values))\n",
    "\n",
    "train_loss_values = torch.tensor(train_loss_values).cuda()\n",
    "train_loss_values_cpu = train_loss_values.cpu().tolist()\n",
    "\n",
    "val_loss_values = torch.tensor(val_loss_values).cuda()\n",
    "val_loss_values_cpu = val_loss_values.cpu().tolist()\n",
    "\n",
    "\n",
    "fig, ax = plt.subplots()\n",
    "\n",
    "ax.plot(batch_idx_count, train_loss_values_cpu, label='Training Loss')\n",
    "ax.plot(batch_idx_count, val_loss_values_cpu, label='Validation Loss')\n",
    "\n",
    "\n",
    "ax.legend()\n",
    "\n",
    "\n",
    "ax.set_xlabel('Batch Index')\n",
    "ax.set_ylabel('Loss')\n",
    "ax.set_title('Training and Validation Loss')\n",
    "\n",
    "\n",
    "plt.show()\n"
   ]
  }
 ],
 "metadata": {
  "kernelspec": {
   "display_name": "Python 3",
   "language": "python",
   "name": "python3"
  },
  "language_info": {
   "codemirror_mode": {
    "name": "ipython",
    "version": 3
   },
   "file_extension": ".py",
   "mimetype": "text/x-python",
   "name": "python",
   "nbconvert_exporter": "python",
   "pygments_lexer": "ipython3",
   "version": "3.7.12"
  },
  "papermill": {
   "default_parameters": {},
   "duration": 13483.212496,
   "end_time": "2023-04-27T20:58:02.554465",
   "environment_variables": {},
   "exception": null,
   "input_path": "__notebook__.ipynb",
   "output_path": "__notebook__.ipynb",
   "parameters": {},
   "start_time": "2023-04-27T17:13:19.341969",
   "version": "2.4.0"
  },
  "widgets": {
   "application/vnd.jupyter.widget-state+json": {
    "state": {
     "0022d650c61b4b858ec7a5bf60b2fda8": {
      "model_module": "@jupyter-widgets/controls",
      "model_module_version": "1.5.0",
      "model_name": "DescriptionStyleModel",
      "state": {
       "_model_module": "@jupyter-widgets/controls",
       "_model_module_version": "1.5.0",
       "_model_name": "DescriptionStyleModel",
       "_view_count": null,
       "_view_module": "@jupyter-widgets/base",
       "_view_module_version": "1.2.0",
       "_view_name": "StyleView",
       "description_width": ""
      }
     },
     "01e2269f92c54984904a9802873736e2": {
      "model_module": "@jupyter-widgets/base",
      "model_module_version": "1.2.0",
      "model_name": "LayoutModel",
      "state": {
       "_model_module": "@jupyter-widgets/base",
       "_model_module_version": "1.2.0",
       "_model_name": "LayoutModel",
       "_view_count": null,
       "_view_module": "@jupyter-widgets/base",
       "_view_module_version": "1.2.0",
       "_view_name": "LayoutView",
       "align_content": null,
       "align_items": null,
       "align_self": null,
       "border": null,
       "bottom": null,
       "display": null,
       "flex": null,
       "flex_flow": null,
       "grid_area": null,
       "grid_auto_columns": null,
       "grid_auto_flow": null,
       "grid_auto_rows": null,
       "grid_column": null,
       "grid_gap": null,
       "grid_row": null,
       "grid_template_areas": null,
       "grid_template_columns": null,
       "grid_template_rows": null,
       "height": null,
       "justify_content": null,
       "justify_items": null,
       "left": null,
       "margin": null,
       "max_height": null,
       "max_width": null,
       "min_height": null,
       "min_width": null,
       "object_fit": null,
       "object_position": null,
       "order": null,
       "overflow": null,
       "overflow_x": null,
       "overflow_y": null,
       "padding": null,
       "right": null,
       "top": null,
       "visibility": null,
       "width": null
      }
     },
     "06fe2c9eb99f4ced92c15d6c06623d78": {
      "model_module": "@jupyter-widgets/base",
      "model_module_version": "1.2.0",
      "model_name": "LayoutModel",
      "state": {
       "_model_module": "@jupyter-widgets/base",
       "_model_module_version": "1.2.0",
       "_model_name": "LayoutModel",
       "_view_count": null,
       "_view_module": "@jupyter-widgets/base",
       "_view_module_version": "1.2.0",
       "_view_name": "LayoutView",
       "align_content": null,
       "align_items": null,
       "align_self": null,
       "border": null,
       "bottom": null,
       "display": null,
       "flex": null,
       "flex_flow": null,
       "grid_area": null,
       "grid_auto_columns": null,
       "grid_auto_flow": null,
       "grid_auto_rows": null,
       "grid_column": null,
       "grid_gap": null,
       "grid_row": null,
       "grid_template_areas": null,
       "grid_template_columns": null,
       "grid_template_rows": null,
       "height": null,
       "justify_content": null,
       "justify_items": null,
       "left": null,
       "margin": null,
       "max_height": null,
       "max_width": null,
       "min_height": null,
       "min_width": null,
       "object_fit": null,
       "object_position": null,
       "order": null,
       "overflow": null,
       "overflow_x": null,
       "overflow_y": null,
       "padding": null,
       "right": null,
       "top": null,
       "visibility": null,
       "width": null
      }
     },
     "08377a7a0bda4cf2b198044f80ee2107": {
      "model_module": "@jupyter-widgets/base",
      "model_module_version": "1.2.0",
      "model_name": "LayoutModel",
      "state": {
       "_model_module": "@jupyter-widgets/base",
       "_model_module_version": "1.2.0",
       "_model_name": "LayoutModel",
       "_view_count": null,
       "_view_module": "@jupyter-widgets/base",
       "_view_module_version": "1.2.0",
       "_view_name": "LayoutView",
       "align_content": null,
       "align_items": null,
       "align_self": null,
       "border": null,
       "bottom": null,
       "display": null,
       "flex": null,
       "flex_flow": null,
       "grid_area": null,
       "grid_auto_columns": null,
       "grid_auto_flow": null,
       "grid_auto_rows": null,
       "grid_column": null,
       "grid_gap": null,
       "grid_row": null,
       "grid_template_areas": null,
       "grid_template_columns": null,
       "grid_template_rows": null,
       "height": null,
       "justify_content": null,
       "justify_items": null,
       "left": null,
       "margin": null,
       "max_height": null,
       "max_width": null,
       "min_height": null,
       "min_width": null,
       "object_fit": null,
       "object_position": null,
       "order": null,
       "overflow": null,
       "overflow_x": null,
       "overflow_y": null,
       "padding": null,
       "right": null,
       "top": null,
       "visibility": null,
       "width": null
      }
     },
     "099f6969d89a471a94a1a125f85cbc7c": {
      "model_module": "@jupyter-widgets/base",
      "model_module_version": "1.2.0",
      "model_name": "LayoutModel",
      "state": {
       "_model_module": "@jupyter-widgets/base",
       "_model_module_version": "1.2.0",
       "_model_name": "LayoutModel",
       "_view_count": null,
       "_view_module": "@jupyter-widgets/base",
       "_view_module_version": "1.2.0",
       "_view_name": "LayoutView",
       "align_content": null,
       "align_items": null,
       "align_self": null,
       "border": null,
       "bottom": null,
       "display": null,
       "flex": null,
       "flex_flow": null,
       "grid_area": null,
       "grid_auto_columns": null,
       "grid_auto_flow": null,
       "grid_auto_rows": null,
       "grid_column": null,
       "grid_gap": null,
       "grid_row": null,
       "grid_template_areas": null,
       "grid_template_columns": null,
       "grid_template_rows": null,
       "height": null,
       "justify_content": null,
       "justify_items": null,
       "left": null,
       "margin": null,
       "max_height": null,
       "max_width": null,
       "min_height": null,
       "min_width": null,
       "object_fit": null,
       "object_position": null,
       "order": null,
       "overflow": null,
       "overflow_x": null,
       "overflow_y": null,
       "padding": null,
       "right": null,
       "top": null,
       "visibility": null,
       "width": null
      }
     },
     "0a76c0beb2344587b08b7a362bdbf695": {
      "model_module": "@jupyter-widgets/base",
      "model_module_version": "1.2.0",
      "model_name": "LayoutModel",
      "state": {
       "_model_module": "@jupyter-widgets/base",
       "_model_module_version": "1.2.0",
       "_model_name": "LayoutModel",
       "_view_count": null,
       "_view_module": "@jupyter-widgets/base",
       "_view_module_version": "1.2.0",
       "_view_name": "LayoutView",
       "align_content": null,
       "align_items": null,
       "align_self": null,
       "border": null,
       "bottom": null,
       "display": null,
       "flex": null,
       "flex_flow": null,
       "grid_area": null,
       "grid_auto_columns": null,
       "grid_auto_flow": null,
       "grid_auto_rows": null,
       "grid_column": null,
       "grid_gap": null,
       "grid_row": null,
       "grid_template_areas": null,
       "grid_template_columns": null,
       "grid_template_rows": null,
       "height": null,
       "justify_content": null,
       "justify_items": null,
       "left": null,
       "margin": null,
       "max_height": null,
       "max_width": null,
       "min_height": null,
       "min_width": null,
       "object_fit": null,
       "object_position": null,
       "order": null,
       "overflow": null,
       "overflow_x": null,
       "overflow_y": null,
       "padding": null,
       "right": null,
       "top": null,
       "visibility": null,
       "width": null
      }
     },
     "124e9ceb941b4484a55ec27d1a7fa58c": {
      "model_module": "@jupyter-widgets/controls",
      "model_module_version": "1.5.0",
      "model_name": "ProgressStyleModel",
      "state": {
       "_model_module": "@jupyter-widgets/controls",
       "_model_module_version": "1.5.0",
       "_model_name": "ProgressStyleModel",
       "_view_count": null,
       "_view_module": "@jupyter-widgets/base",
       "_view_module_version": "1.2.0",
       "_view_name": "StyleView",
       "bar_color": null,
       "description_width": ""
      }
     },
     "1726622e098147468000ee997d9afaf4": {
      "model_module": "@jupyter-widgets/controls",
      "model_module_version": "1.5.0",
      "model_name": "ProgressStyleModel",
      "state": {
       "_model_module": "@jupyter-widgets/controls",
       "_model_module_version": "1.5.0",
       "_model_name": "ProgressStyleModel",
       "_view_count": null,
       "_view_module": "@jupyter-widgets/base",
       "_view_module_version": "1.2.0",
       "_view_name": "StyleView",
       "bar_color": null,
       "description_width": ""
      }
     },
     "1e473903a09f4fffb36b356492f02645": {
      "model_module": "@jupyter-widgets/base",
      "model_module_version": "1.2.0",
      "model_name": "LayoutModel",
      "state": {
       "_model_module": "@jupyter-widgets/base",
       "_model_module_version": "1.2.0",
       "_model_name": "LayoutModel",
       "_view_count": null,
       "_view_module": "@jupyter-widgets/base",
       "_view_module_version": "1.2.0",
       "_view_name": "LayoutView",
       "align_content": null,
       "align_items": null,
       "align_self": null,
       "border": null,
       "bottom": null,
       "display": null,
       "flex": null,
       "flex_flow": null,
       "grid_area": null,
       "grid_auto_columns": null,
       "grid_auto_flow": null,
       "grid_auto_rows": null,
       "grid_column": null,
       "grid_gap": null,
       "grid_row": null,
       "grid_template_areas": null,
       "grid_template_columns": null,
       "grid_template_rows": null,
       "height": null,
       "justify_content": null,
       "justify_items": null,
       "left": null,
       "margin": null,
       "max_height": null,
       "max_width": null,
       "min_height": null,
       "min_width": null,
       "object_fit": null,
       "object_position": null,
       "order": null,
       "overflow": null,
       "overflow_x": null,
       "overflow_y": null,
       "padding": null,
       "right": null,
       "top": null,
       "visibility": null,
       "width": null
      }
     },
     "25a9e67717de40f8a0bef95f14d7f826": {
      "model_module": "@jupyter-widgets/base",
      "model_module_version": "1.2.0",
      "model_name": "LayoutModel",
      "state": {
       "_model_module": "@jupyter-widgets/base",
       "_model_module_version": "1.2.0",
       "_model_name": "LayoutModel",
       "_view_count": null,
       "_view_module": "@jupyter-widgets/base",
       "_view_module_version": "1.2.0",
       "_view_name": "LayoutView",
       "align_content": null,
       "align_items": null,
       "align_self": null,
       "border": null,
       "bottom": null,
       "display": null,
       "flex": null,
       "flex_flow": null,
       "grid_area": null,
       "grid_auto_columns": null,
       "grid_auto_flow": null,
       "grid_auto_rows": null,
       "grid_column": null,
       "grid_gap": null,
       "grid_row": null,
       "grid_template_areas": null,
       "grid_template_columns": null,
       "grid_template_rows": null,
       "height": null,
       "justify_content": null,
       "justify_items": null,
       "left": null,
       "margin": null,
       "max_height": null,
       "max_width": null,
       "min_height": null,
       "min_width": null,
       "object_fit": null,
       "object_position": null,
       "order": null,
       "overflow": null,
       "overflow_x": null,
       "overflow_y": null,
       "padding": null,
       "right": null,
       "top": null,
       "visibility": null,
       "width": null
      }
     },
     "2d09eb21795b4f4b9f2fbdafaa9d28c3": {
      "model_module": "@jupyter-widgets/controls",
      "model_module_version": "1.5.0",
      "model_name": "HTMLModel",
      "state": {
       "_dom_classes": [],
       "_model_module": "@jupyter-widgets/controls",
       "_model_module_version": "1.5.0",
       "_model_name": "HTMLModel",
       "_view_count": null,
       "_view_module": "@jupyter-widgets/controls",
       "_view_module_version": "1.5.0",
       "_view_name": "HTMLView",
       "description": "",
       "description_tooltip": null,
       "layout": "IPY_MODEL_1e473903a09f4fffb36b356492f02645",
       "placeholder": "​",
       "style": "IPY_MODEL_bf6152284cc04667b245da51d07c7f49",
       "value": "Downloading pytorch_model.bin: 100%"
      }
     },
     "2e5cfba26cd6449495ecbb83fd0d7245": {
      "model_module": "@jupyter-widgets/controls",
      "model_module_version": "1.5.0",
      "model_name": "DescriptionStyleModel",
      "state": {
       "_model_module": "@jupyter-widgets/controls",
       "_model_module_version": "1.5.0",
       "_model_name": "DescriptionStyleModel",
       "_view_count": null,
       "_view_module": "@jupyter-widgets/base",
       "_view_module_version": "1.2.0",
       "_view_name": "StyleView",
       "description_width": ""
      }
     },
     "33ec571f652c4809a93319345e8ca099": {
      "model_module": "@jupyter-widgets/base",
      "model_module_version": "1.2.0",
      "model_name": "LayoutModel",
      "state": {
       "_model_module": "@jupyter-widgets/base",
       "_model_module_version": "1.2.0",
       "_model_name": "LayoutModel",
       "_view_count": null,
       "_view_module": "@jupyter-widgets/base",
       "_view_module_version": "1.2.0",
       "_view_name": "LayoutView",
       "align_content": null,
       "align_items": null,
       "align_self": null,
       "border": null,
       "bottom": null,
       "display": null,
       "flex": null,
       "flex_flow": null,
       "grid_area": null,
       "grid_auto_columns": null,
       "grid_auto_flow": null,
       "grid_auto_rows": null,
       "grid_column": null,
       "grid_gap": null,
       "grid_row": null,
       "grid_template_areas": null,
       "grid_template_columns": null,
       "grid_template_rows": null,
       "height": null,
       "justify_content": null,
       "justify_items": null,
       "left": null,
       "margin": null,
       "max_height": null,
       "max_width": null,
       "min_height": null,
       "min_width": null,
       "object_fit": null,
       "object_position": null,
       "order": null,
       "overflow": null,
       "overflow_x": null,
       "overflow_y": null,
       "padding": null,
       "right": null,
       "top": null,
       "visibility": null,
       "width": null
      }
     },
     "348aaef5c01447a1984e0b01eebfe7a0": {
      "model_module": "@jupyter-widgets/controls",
      "model_module_version": "1.5.0",
      "model_name": "FloatProgressModel",
      "state": {
       "_dom_classes": [],
       "_model_module": "@jupyter-widgets/controls",
       "_model_module_version": "1.5.0",
       "_model_name": "FloatProgressModel",
       "_view_count": null,
       "_view_module": "@jupyter-widgets/controls",
       "_view_module_version": "1.5.0",
       "_view_name": "ProgressView",
       "bar_style": "success",
       "description": "",
       "description_tooltip": null,
       "layout": "IPY_MODEL_8858b83f0bc24cf4beeb6dbad072ec05",
       "max": 435797.0,
       "min": 0.0,
       "orientation": "horizontal",
       "style": "IPY_MODEL_fec9f9546369472cb5d4b7e15e39f144",
       "value": 435797.0
      }
     },
     "35ea6041485d477cb605de0b97e1da17": {
      "model_module": "@jupyter-widgets/controls",
      "model_module_version": "1.5.0",
      "model_name": "FloatProgressModel",
      "state": {
       "_dom_classes": [],
       "_model_module": "@jupyter-widgets/controls",
       "_model_module_version": "1.5.0",
       "_model_name": "FloatProgressModel",
       "_view_count": null,
       "_view_module": "@jupyter-widgets/controls",
       "_view_module_version": "1.5.0",
       "_view_name": "ProgressView",
       "bar_style": "success",
       "description": "",
       "description_tooltip": null,
       "layout": "IPY_MODEL_e8d3a0bb85c34230a3cf42d408bcabd9",
       "max": 570.0,
       "min": 0.0,
       "orientation": "horizontal",
       "style": "IPY_MODEL_124e9ceb941b4484a55ec27d1a7fa58c",
       "value": 570.0
      }
     },
     "46ba381bca8c4804bd502fbe9133cda8": {
      "model_module": "@jupyter-widgets/controls",
      "model_module_version": "1.5.0",
      "model_name": "HTMLModel",
      "state": {
       "_dom_classes": [],
       "_model_module": "@jupyter-widgets/controls",
       "_model_module_version": "1.5.0",
       "_model_name": "HTMLModel",
       "_view_count": null,
       "_view_module": "@jupyter-widgets/controls",
       "_view_module_version": "1.5.0",
       "_view_name": "HTMLView",
       "description": "",
       "description_tooltip": null,
       "layout": "IPY_MODEL_c6b1b1d6f2a0450f93d96c4e1fd6d691",
       "placeholder": "​",
       "style": "IPY_MODEL_0022d650c61b4b858ec7a5bf60b2fda8",
       "value": "Downloading (…)solve/main/vocab.txt: 100%"
      }
     },
     "4be4788b0eea4636bd2ac7222c025e18": {
      "model_module": "@jupyter-widgets/controls",
      "model_module_version": "1.5.0",
      "model_name": "ProgressStyleModel",
      "state": {
       "_model_module": "@jupyter-widgets/controls",
       "_model_module_version": "1.5.0",
       "_model_name": "ProgressStyleModel",
       "_view_count": null,
       "_view_module": "@jupyter-widgets/base",
       "_view_module_version": "1.2.0",
       "_view_name": "StyleView",
       "bar_color": null,
       "description_width": ""
      }
     },
     "509d3dc77251451da7b9ae8b6ebad8dd": {
      "model_module": "@jupyter-widgets/controls",
      "model_module_version": "1.5.0",
      "model_name": "HTMLModel",
      "state": {
       "_dom_classes": [],
       "_model_module": "@jupyter-widgets/controls",
       "_model_module_version": "1.5.0",
       "_model_name": "HTMLModel",
       "_view_count": null,
       "_view_module": "@jupyter-widgets/controls",
       "_view_module_version": "1.5.0",
       "_view_name": "HTMLView",
       "description": "",
       "description_tooltip": null,
       "layout": "IPY_MODEL_e531b0a91ae940b4aad46251ace7eb28",
       "placeholder": "​",
       "style": "IPY_MODEL_da01a9a10c0545a0974d9f1b9b3b2ad6",
       "value": " 570/570 [00:00&lt;00:00, 34.0kB/s]"
      }
     },
     "55da6088f7da4f6b8e3deb6344258e95": {
      "model_module": "@jupyter-widgets/controls",
      "model_module_version": "1.5.0",
      "model_name": "DescriptionStyleModel",
      "state": {
       "_model_module": "@jupyter-widgets/controls",
       "_model_module_version": "1.5.0",
       "_model_name": "DescriptionStyleModel",
       "_view_count": null,
       "_view_module": "@jupyter-widgets/base",
       "_view_module_version": "1.2.0",
       "_view_name": "StyleView",
       "description_width": ""
      }
     },
     "60dd13fdebb84ba0b02c866d229aecf0": {
      "model_module": "@jupyter-widgets/controls",
      "model_module_version": "1.5.0",
      "model_name": "DescriptionStyleModel",
      "state": {
       "_model_module": "@jupyter-widgets/controls",
       "_model_module_version": "1.5.0",
       "_model_name": "DescriptionStyleModel",
       "_view_count": null,
       "_view_module": "@jupyter-widgets/base",
       "_view_module_version": "1.2.0",
       "_view_name": "StyleView",
       "description_width": ""
      }
     },
     "6671ba716e0643308695024a9b7a43fb": {
      "model_module": "@jupyter-widgets/base",
      "model_module_version": "1.2.0",
      "model_name": "LayoutModel",
      "state": {
       "_model_module": "@jupyter-widgets/base",
       "_model_module_version": "1.2.0",
       "_model_name": "LayoutModel",
       "_view_count": null,
       "_view_module": "@jupyter-widgets/base",
       "_view_module_version": "1.2.0",
       "_view_name": "LayoutView",
       "align_content": null,
       "align_items": null,
       "align_self": null,
       "border": null,
       "bottom": null,
       "display": null,
       "flex": null,
       "flex_flow": null,
       "grid_area": null,
       "grid_auto_columns": null,
       "grid_auto_flow": null,
       "grid_auto_rows": null,
       "grid_column": null,
       "grid_gap": null,
       "grid_row": null,
       "grid_template_areas": null,
       "grid_template_columns": null,
       "grid_template_rows": null,
       "height": null,
       "justify_content": null,
       "justify_items": null,
       "left": null,
       "margin": null,
       "max_height": null,
       "max_width": null,
       "min_height": null,
       "min_width": null,
       "object_fit": null,
       "object_position": null,
       "order": null,
       "overflow": null,
       "overflow_x": null,
       "overflow_y": null,
       "padding": null,
       "right": null,
       "top": null,
       "visibility": null,
       "width": null
      }
     },
     "6dbaef596b0e4baeb5522dd5c8c57992": {
      "model_module": "@jupyter-widgets/controls",
      "model_module_version": "1.5.0",
      "model_name": "HTMLModel",
      "state": {
       "_dom_classes": [],
       "_model_module": "@jupyter-widgets/controls",
       "_model_module_version": "1.5.0",
       "_model_name": "HTMLModel",
       "_view_count": null,
       "_view_module": "@jupyter-widgets/controls",
       "_view_module_version": "1.5.0",
       "_view_name": "HTMLView",
       "description": "",
       "description_tooltip": null,
       "layout": "IPY_MODEL_aba67ec50ec241de877d9b9fa323bb56",
       "placeholder": "​",
       "style": "IPY_MODEL_89698292ac8241e2926a447c1e9fa809",
       "value": "Downloading (…)/main/tokenizer.json: 100%"
      }
     },
     "6e621dc412de44b5a9dbb943e08d319e": {
      "model_module": "@jupyter-widgets/controls",
      "model_module_version": "1.5.0",
      "model_name": "HBoxModel",
      "state": {
       "_dom_classes": [],
       "_model_module": "@jupyter-widgets/controls",
       "_model_module_version": "1.5.0",
       "_model_name": "HBoxModel",
       "_view_count": null,
       "_view_module": "@jupyter-widgets/controls",
       "_view_module_version": "1.5.0",
       "_view_name": "HBoxView",
       "box_style": "",
       "children": [
        "IPY_MODEL_a0e19eeb25704d629642cfe5af13f7e6",
        "IPY_MODEL_e6341d7f1b5841a19ca1b23917bd4580",
        "IPY_MODEL_8f0d2eaa06b9405687d6639d5a149542"
       ],
       "layout": "IPY_MODEL_08377a7a0bda4cf2b198044f80ee2107"
      }
     },
     "71c62236b569464ca3bedfbd144598c0": {
      "model_module": "@jupyter-widgets/base",
      "model_module_version": "1.2.0",
      "model_name": "LayoutModel",
      "state": {
       "_model_module": "@jupyter-widgets/base",
       "_model_module_version": "1.2.0",
       "_model_name": "LayoutModel",
       "_view_count": null,
       "_view_module": "@jupyter-widgets/base",
       "_view_module_version": "1.2.0",
       "_view_name": "LayoutView",
       "align_content": null,
       "align_items": null,
       "align_self": null,
       "border": null,
       "bottom": null,
       "display": null,
       "flex": null,
       "flex_flow": null,
       "grid_area": null,
       "grid_auto_columns": null,
       "grid_auto_flow": null,
       "grid_auto_rows": null,
       "grid_column": null,
       "grid_gap": null,
       "grid_row": null,
       "grid_template_areas": null,
       "grid_template_columns": null,
       "grid_template_rows": null,
       "height": null,
       "justify_content": null,
       "justify_items": null,
       "left": null,
       "margin": null,
       "max_height": null,
       "max_width": null,
       "min_height": null,
       "min_width": null,
       "object_fit": null,
       "object_position": null,
       "order": null,
       "overflow": null,
       "overflow_x": null,
       "overflow_y": null,
       "padding": null,
       "right": null,
       "top": null,
       "visibility": null,
       "width": null
      }
     },
     "74596e48bbe84ceb8154cb09b2344284": {
      "model_module": "@jupyter-widgets/controls",
      "model_module_version": "1.5.0",
      "model_name": "DescriptionStyleModel",
      "state": {
       "_model_module": "@jupyter-widgets/controls",
       "_model_module_version": "1.5.0",
       "_model_name": "DescriptionStyleModel",
       "_view_count": null,
       "_view_module": "@jupyter-widgets/base",
       "_view_module_version": "1.2.0",
       "_view_name": "StyleView",
       "description_width": ""
      }
     },
     "7e4a9dc496ed471f90dd96b32e1b789a": {
      "model_module": "@jupyter-widgets/controls",
      "model_module_version": "1.5.0",
      "model_name": "HBoxModel",
      "state": {
       "_dom_classes": [],
       "_model_module": "@jupyter-widgets/controls",
       "_model_module_version": "1.5.0",
       "_model_name": "HBoxModel",
       "_view_count": null,
       "_view_module": "@jupyter-widgets/controls",
       "_view_module_version": "1.5.0",
       "_view_name": "HBoxView",
       "box_style": "",
       "children": [
        "IPY_MODEL_46ba381bca8c4804bd502fbe9133cda8",
        "IPY_MODEL_b5e00402962c4f818f3db092b2d221b6",
        "IPY_MODEL_eb7989b6cc8b479099eaaa72709aaf10"
       ],
       "layout": "IPY_MODEL_099f6969d89a471a94a1a125f85cbc7c"
      }
     },
     "82408c286c3d4790bd5304e8e0d9d306": {
      "model_module": "@jupyter-widgets/controls",
      "model_module_version": "1.5.0",
      "model_name": "ProgressStyleModel",
      "state": {
       "_model_module": "@jupyter-widgets/controls",
       "_model_module_version": "1.5.0",
       "_model_name": "ProgressStyleModel",
       "_view_count": null,
       "_view_module": "@jupyter-widgets/base",
       "_view_module_version": "1.2.0",
       "_view_name": "StyleView",
       "bar_color": null,
       "description_width": ""
      }
     },
     "8858b83f0bc24cf4beeb6dbad072ec05": {
      "model_module": "@jupyter-widgets/base",
      "model_module_version": "1.2.0",
      "model_name": "LayoutModel",
      "state": {
       "_model_module": "@jupyter-widgets/base",
       "_model_module_version": "1.2.0",
       "_model_name": "LayoutModel",
       "_view_count": null,
       "_view_module": "@jupyter-widgets/base",
       "_view_module_version": "1.2.0",
       "_view_name": "LayoutView",
       "align_content": null,
       "align_items": null,
       "align_self": null,
       "border": null,
       "bottom": null,
       "display": null,
       "flex": null,
       "flex_flow": null,
       "grid_area": null,
       "grid_auto_columns": null,
       "grid_auto_flow": null,
       "grid_auto_rows": null,
       "grid_column": null,
       "grid_gap": null,
       "grid_row": null,
       "grid_template_areas": null,
       "grid_template_columns": null,
       "grid_template_rows": null,
       "height": null,
       "justify_content": null,
       "justify_items": null,
       "left": null,
       "margin": null,
       "max_height": null,
       "max_width": null,
       "min_height": null,
       "min_width": null,
       "object_fit": null,
       "object_position": null,
       "order": null,
       "overflow": null,
       "overflow_x": null,
       "overflow_y": null,
       "padding": null,
       "right": null,
       "top": null,
       "visibility": null,
       "width": null
      }
     },
     "88f024a96f9649b5b35f236333f1a28b": {
      "model_module": "@jupyter-widgets/controls",
      "model_module_version": "1.5.0",
      "model_name": "DescriptionStyleModel",
      "state": {
       "_model_module": "@jupyter-widgets/controls",
       "_model_module_version": "1.5.0",
       "_model_name": "DescriptionStyleModel",
       "_view_count": null,
       "_view_module": "@jupyter-widgets/base",
       "_view_module_version": "1.2.0",
       "_view_name": "StyleView",
       "description_width": ""
      }
     },
     "89698292ac8241e2926a447c1e9fa809": {
      "model_module": "@jupyter-widgets/controls",
      "model_module_version": "1.5.0",
      "model_name": "DescriptionStyleModel",
      "state": {
       "_model_module": "@jupyter-widgets/controls",
       "_model_module_version": "1.5.0",
       "_model_name": "DescriptionStyleModel",
       "_view_count": null,
       "_view_module": "@jupyter-widgets/base",
       "_view_module_version": "1.2.0",
       "_view_name": "StyleView",
       "description_width": ""
      }
     },
     "8b0779d165d74e8c8d0dd39b7aebf7d3": {
      "model_module": "@jupyter-widgets/base",
      "model_module_version": "1.2.0",
      "model_name": "LayoutModel",
      "state": {
       "_model_module": "@jupyter-widgets/base",
       "_model_module_version": "1.2.0",
       "_model_name": "LayoutModel",
       "_view_count": null,
       "_view_module": "@jupyter-widgets/base",
       "_view_module_version": "1.2.0",
       "_view_name": "LayoutView",
       "align_content": null,
       "align_items": null,
       "align_self": null,
       "border": null,
       "bottom": null,
       "display": null,
       "flex": null,
       "flex_flow": null,
       "grid_area": null,
       "grid_auto_columns": null,
       "grid_auto_flow": null,
       "grid_auto_rows": null,
       "grid_column": null,
       "grid_gap": null,
       "grid_row": null,
       "grid_template_areas": null,
       "grid_template_columns": null,
       "grid_template_rows": null,
       "height": null,
       "justify_content": null,
       "justify_items": null,
       "left": null,
       "margin": null,
       "max_height": null,
       "max_width": null,
       "min_height": null,
       "min_width": null,
       "object_fit": null,
       "object_position": null,
       "order": null,
       "overflow": null,
       "overflow_x": null,
       "overflow_y": null,
       "padding": null,
       "right": null,
       "top": null,
       "visibility": null,
       "width": null
      }
     },
     "8cb7e5d0883c442ebea2b37e49a3c497": {
      "model_module": "@jupyter-widgets/controls",
      "model_module_version": "1.5.0",
      "model_name": "DescriptionStyleModel",
      "state": {
       "_model_module": "@jupyter-widgets/controls",
       "_model_module_version": "1.5.0",
       "_model_name": "DescriptionStyleModel",
       "_view_count": null,
       "_view_module": "@jupyter-widgets/base",
       "_view_module_version": "1.2.0",
       "_view_name": "StyleView",
       "description_width": ""
      }
     },
     "8f0d2eaa06b9405687d6639d5a149542": {
      "model_module": "@jupyter-widgets/controls",
      "model_module_version": "1.5.0",
      "model_name": "HTMLModel",
      "state": {
       "_dom_classes": [],
       "_model_module": "@jupyter-widgets/controls",
       "_model_module_version": "1.5.0",
       "_model_name": "HTMLModel",
       "_view_count": null,
       "_view_module": "@jupyter-widgets/controls",
       "_view_module_version": "1.5.0",
       "_view_name": "HTMLView",
       "description": "",
       "description_tooltip": null,
       "layout": "IPY_MODEL_33ec571f652c4809a93319345e8ca099",
       "placeholder": "​",
       "style": "IPY_MODEL_74596e48bbe84ceb8154cb09b2344284",
       "value": " 29.0/29.0 [00:00&lt;00:00, 1.21kB/s]"
      }
     },
     "9d018b897a534e78a5a1ce932b43a123": {
      "model_module": "@jupyter-widgets/controls",
      "model_module_version": "1.5.0",
      "model_name": "HTMLModel",
      "state": {
       "_dom_classes": [],
       "_model_module": "@jupyter-widgets/controls",
       "_model_module_version": "1.5.0",
       "_model_name": "HTMLModel",
       "_view_count": null,
       "_view_module": "@jupyter-widgets/controls",
       "_view_module_version": "1.5.0",
       "_view_name": "HTMLView",
       "description": "",
       "description_tooltip": null,
       "layout": "IPY_MODEL_71c62236b569464ca3bedfbd144598c0",
       "placeholder": "​",
       "style": "IPY_MODEL_55da6088f7da4f6b8e3deb6344258e95",
       "value": " 436M/436M [00:01&lt;00:00, 244MB/s]"
      }
     },
     "a0e19eeb25704d629642cfe5af13f7e6": {
      "model_module": "@jupyter-widgets/controls",
      "model_module_version": "1.5.0",
      "model_name": "HTMLModel",
      "state": {
       "_dom_classes": [],
       "_model_module": "@jupyter-widgets/controls",
       "_model_module_version": "1.5.0",
       "_model_name": "HTMLModel",
       "_view_count": null,
       "_view_module": "@jupyter-widgets/controls",
       "_view_module_version": "1.5.0",
       "_view_name": "HTMLView",
       "description": "",
       "description_tooltip": null,
       "layout": "IPY_MODEL_e2c130e5d66747198623c3158cfb4bc3",
       "placeholder": "​",
       "style": "IPY_MODEL_60dd13fdebb84ba0b02c866d229aecf0",
       "value": "Downloading (…)okenizer_config.json: 100%"
      }
     },
     "a398757a226d4207b1ce908a481ccafa": {
      "model_module": "@jupyter-widgets/controls",
      "model_module_version": "1.5.0",
      "model_name": "HBoxModel",
      "state": {
       "_dom_classes": [],
       "_model_module": "@jupyter-widgets/controls",
       "_model_module_version": "1.5.0",
       "_model_name": "HBoxModel",
       "_view_count": null,
       "_view_module": "@jupyter-widgets/controls",
       "_view_module_version": "1.5.0",
       "_view_name": "HBoxView",
       "box_style": "",
       "children": [
        "IPY_MODEL_6dbaef596b0e4baeb5522dd5c8c57992",
        "IPY_MODEL_348aaef5c01447a1984e0b01eebfe7a0",
        "IPY_MODEL_c7bf0d963cdb4212af9d52391934a21a"
       ],
       "layout": "IPY_MODEL_06fe2c9eb99f4ced92c15d6c06623d78"
      }
     },
     "a88d2df5a2ac414b85ae6d8325305772": {
      "model_module": "@jupyter-widgets/controls",
      "model_module_version": "1.5.0",
      "model_name": "HBoxModel",
      "state": {
       "_dom_classes": [],
       "_model_module": "@jupyter-widgets/controls",
       "_model_module_version": "1.5.0",
       "_model_name": "HBoxModel",
       "_view_count": null,
       "_view_module": "@jupyter-widgets/controls",
       "_view_module_version": "1.5.0",
       "_view_name": "HBoxView",
       "box_style": "",
       "children": [
        "IPY_MODEL_ec84e013178c4b8bbcb1d2979b673c5e",
        "IPY_MODEL_35ea6041485d477cb605de0b97e1da17",
        "IPY_MODEL_509d3dc77251451da7b9ae8b6ebad8dd"
       ],
       "layout": "IPY_MODEL_01e2269f92c54984904a9802873736e2"
      }
     },
     "aba67ec50ec241de877d9b9fa323bb56": {
      "model_module": "@jupyter-widgets/base",
      "model_module_version": "1.2.0",
      "model_name": "LayoutModel",
      "state": {
       "_model_module": "@jupyter-widgets/base",
       "_model_module_version": "1.2.0",
       "_model_name": "LayoutModel",
       "_view_count": null,
       "_view_module": "@jupyter-widgets/base",
       "_view_module_version": "1.2.0",
       "_view_name": "LayoutView",
       "align_content": null,
       "align_items": null,
       "align_self": null,
       "border": null,
       "bottom": null,
       "display": null,
       "flex": null,
       "flex_flow": null,
       "grid_area": null,
       "grid_auto_columns": null,
       "grid_auto_flow": null,
       "grid_auto_rows": null,
       "grid_column": null,
       "grid_gap": null,
       "grid_row": null,
       "grid_template_areas": null,
       "grid_template_columns": null,
       "grid_template_rows": null,
       "height": null,
       "justify_content": null,
       "justify_items": null,
       "left": null,
       "margin": null,
       "max_height": null,
       "max_width": null,
       "min_height": null,
       "min_width": null,
       "object_fit": null,
       "object_position": null,
       "order": null,
       "overflow": null,
       "overflow_x": null,
       "overflow_y": null,
       "padding": null,
       "right": null,
       "top": null,
       "visibility": null,
       "width": null
      }
     },
     "b2f61f1b64fc4465ae5a82ec656b874c": {
      "model_module": "@jupyter-widgets/controls",
      "model_module_version": "1.5.0",
      "model_name": "FloatProgressModel",
      "state": {
       "_dom_classes": [],
       "_model_module": "@jupyter-widgets/controls",
       "_model_module_version": "1.5.0",
       "_model_name": "FloatProgressModel",
       "_view_count": null,
       "_view_module": "@jupyter-widgets/controls",
       "_view_module_version": "1.5.0",
       "_view_name": "ProgressView",
       "bar_style": "success",
       "description": "",
       "description_tooltip": null,
       "layout": "IPY_MODEL_8b0779d165d74e8c8d0dd39b7aebf7d3",
       "max": 435779157.0,
       "min": 0.0,
       "orientation": "horizontal",
       "style": "IPY_MODEL_4be4788b0eea4636bd2ac7222c025e18",
       "value": 435779157.0
      }
     },
     "b5e00402962c4f818f3db092b2d221b6": {
      "model_module": "@jupyter-widgets/controls",
      "model_module_version": "1.5.0",
      "model_name": "FloatProgressModel",
      "state": {
       "_dom_classes": [],
       "_model_module": "@jupyter-widgets/controls",
       "_model_module_version": "1.5.0",
       "_model_name": "FloatProgressModel",
       "_view_count": null,
       "_view_module": "@jupyter-widgets/controls",
       "_view_module_version": "1.5.0",
       "_view_name": "ProgressView",
       "bar_style": "success",
       "description": "",
       "description_tooltip": null,
       "layout": "IPY_MODEL_25a9e67717de40f8a0bef95f14d7f826",
       "max": 213450.0,
       "min": 0.0,
       "orientation": "horizontal",
       "style": "IPY_MODEL_1726622e098147468000ee997d9afaf4",
       "value": 213450.0
      }
     },
     "beceed485c024d91aafeef3bda38f0b4": {
      "model_module": "@jupyter-widgets/controls",
      "model_module_version": "1.5.0",
      "model_name": "HBoxModel",
      "state": {
       "_dom_classes": [],
       "_model_module": "@jupyter-widgets/controls",
       "_model_module_version": "1.5.0",
       "_model_name": "HBoxModel",
       "_view_count": null,
       "_view_module": "@jupyter-widgets/controls",
       "_view_module_version": "1.5.0",
       "_view_name": "HBoxView",
       "box_style": "",
       "children": [
        "IPY_MODEL_2d09eb21795b4f4b9f2fbdafaa9d28c3",
        "IPY_MODEL_b2f61f1b64fc4465ae5a82ec656b874c",
        "IPY_MODEL_9d018b897a534e78a5a1ce932b43a123"
       ],
       "layout": "IPY_MODEL_6671ba716e0643308695024a9b7a43fb"
      }
     },
     "bf6152284cc04667b245da51d07c7f49": {
      "model_module": "@jupyter-widgets/controls",
      "model_module_version": "1.5.0",
      "model_name": "DescriptionStyleModel",
      "state": {
       "_model_module": "@jupyter-widgets/controls",
       "_model_module_version": "1.5.0",
       "_model_name": "DescriptionStyleModel",
       "_view_count": null,
       "_view_module": "@jupyter-widgets/base",
       "_view_module_version": "1.2.0",
       "_view_name": "StyleView",
       "description_width": ""
      }
     },
     "bf6621c0ab3a449c8f4f15b9feff70d7": {
      "model_module": "@jupyter-widgets/base",
      "model_module_version": "1.2.0",
      "model_name": "LayoutModel",
      "state": {
       "_model_module": "@jupyter-widgets/base",
       "_model_module_version": "1.2.0",
       "_model_name": "LayoutModel",
       "_view_count": null,
       "_view_module": "@jupyter-widgets/base",
       "_view_module_version": "1.2.0",
       "_view_name": "LayoutView",
       "align_content": null,
       "align_items": null,
       "align_self": null,
       "border": null,
       "bottom": null,
       "display": null,
       "flex": null,
       "flex_flow": null,
       "grid_area": null,
       "grid_auto_columns": null,
       "grid_auto_flow": null,
       "grid_auto_rows": null,
       "grid_column": null,
       "grid_gap": null,
       "grid_row": null,
       "grid_template_areas": null,
       "grid_template_columns": null,
       "grid_template_rows": null,
       "height": null,
       "justify_content": null,
       "justify_items": null,
       "left": null,
       "margin": null,
       "max_height": null,
       "max_width": null,
       "min_height": null,
       "min_width": null,
       "object_fit": null,
       "object_position": null,
       "order": null,
       "overflow": null,
       "overflow_x": null,
       "overflow_y": null,
       "padding": null,
       "right": null,
       "top": null,
       "visibility": null,
       "width": null
      }
     },
     "c6b1b1d6f2a0450f93d96c4e1fd6d691": {
      "model_module": "@jupyter-widgets/base",
      "model_module_version": "1.2.0",
      "model_name": "LayoutModel",
      "state": {
       "_model_module": "@jupyter-widgets/base",
       "_model_module_version": "1.2.0",
       "_model_name": "LayoutModel",
       "_view_count": null,
       "_view_module": "@jupyter-widgets/base",
       "_view_module_version": "1.2.0",
       "_view_name": "LayoutView",
       "align_content": null,
       "align_items": null,
       "align_self": null,
       "border": null,
       "bottom": null,
       "display": null,
       "flex": null,
       "flex_flow": null,
       "grid_area": null,
       "grid_auto_columns": null,
       "grid_auto_flow": null,
       "grid_auto_rows": null,
       "grid_column": null,
       "grid_gap": null,
       "grid_row": null,
       "grid_template_areas": null,
       "grid_template_columns": null,
       "grid_template_rows": null,
       "height": null,
       "justify_content": null,
       "justify_items": null,
       "left": null,
       "margin": null,
       "max_height": null,
       "max_width": null,
       "min_height": null,
       "min_width": null,
       "object_fit": null,
       "object_position": null,
       "order": null,
       "overflow": null,
       "overflow_x": null,
       "overflow_y": null,
       "padding": null,
       "right": null,
       "top": null,
       "visibility": null,
       "width": null
      }
     },
     "c7bf0d963cdb4212af9d52391934a21a": {
      "model_module": "@jupyter-widgets/controls",
      "model_module_version": "1.5.0",
      "model_name": "HTMLModel",
      "state": {
       "_dom_classes": [],
       "_model_module": "@jupyter-widgets/controls",
       "_model_module_version": "1.5.0",
       "_model_name": "HTMLModel",
       "_view_count": null,
       "_view_module": "@jupyter-widgets/controls",
       "_view_module_version": "1.5.0",
       "_view_name": "HTMLView",
       "description": "",
       "description_tooltip": null,
       "layout": "IPY_MODEL_0a76c0beb2344587b08b7a362bdbf695",
       "placeholder": "​",
       "style": "IPY_MODEL_8cb7e5d0883c442ebea2b37e49a3c497",
       "value": " 436k/436k [00:00&lt;00:00, 3.01MB/s]"
      }
     },
     "d0570cc8d146406e9fd30fafa08e14d5": {
      "model_module": "@jupyter-widgets/base",
      "model_module_version": "1.2.0",
      "model_name": "LayoutModel",
      "state": {
       "_model_module": "@jupyter-widgets/base",
       "_model_module_version": "1.2.0",
       "_model_name": "LayoutModel",
       "_view_count": null,
       "_view_module": "@jupyter-widgets/base",
       "_view_module_version": "1.2.0",
       "_view_name": "LayoutView",
       "align_content": null,
       "align_items": null,
       "align_self": null,
       "border": null,
       "bottom": null,
       "display": null,
       "flex": null,
       "flex_flow": null,
       "grid_area": null,
       "grid_auto_columns": null,
       "grid_auto_flow": null,
       "grid_auto_rows": null,
       "grid_column": null,
       "grid_gap": null,
       "grid_row": null,
       "grid_template_areas": null,
       "grid_template_columns": null,
       "grid_template_rows": null,
       "height": null,
       "justify_content": null,
       "justify_items": null,
       "left": null,
       "margin": null,
       "max_height": null,
       "max_width": null,
       "min_height": null,
       "min_width": null,
       "object_fit": null,
       "object_position": null,
       "order": null,
       "overflow": null,
       "overflow_x": null,
       "overflow_y": null,
       "padding": null,
       "right": null,
       "top": null,
       "visibility": null,
       "width": null
      }
     },
     "da01a9a10c0545a0974d9f1b9b3b2ad6": {
      "model_module": "@jupyter-widgets/controls",
      "model_module_version": "1.5.0",
      "model_name": "DescriptionStyleModel",
      "state": {
       "_model_module": "@jupyter-widgets/controls",
       "_model_module_version": "1.5.0",
       "_model_name": "DescriptionStyleModel",
       "_view_count": null,
       "_view_module": "@jupyter-widgets/base",
       "_view_module_version": "1.2.0",
       "_view_name": "StyleView",
       "description_width": ""
      }
     },
     "e2c130e5d66747198623c3158cfb4bc3": {
      "model_module": "@jupyter-widgets/base",
      "model_module_version": "1.2.0",
      "model_name": "LayoutModel",
      "state": {
       "_model_module": "@jupyter-widgets/base",
       "_model_module_version": "1.2.0",
       "_model_name": "LayoutModel",
       "_view_count": null,
       "_view_module": "@jupyter-widgets/base",
       "_view_module_version": "1.2.0",
       "_view_name": "LayoutView",
       "align_content": null,
       "align_items": null,
       "align_self": null,
       "border": null,
       "bottom": null,
       "display": null,
       "flex": null,
       "flex_flow": null,
       "grid_area": null,
       "grid_auto_columns": null,
       "grid_auto_flow": null,
       "grid_auto_rows": null,
       "grid_column": null,
       "grid_gap": null,
       "grid_row": null,
       "grid_template_areas": null,
       "grid_template_columns": null,
       "grid_template_rows": null,
       "height": null,
       "justify_content": null,
       "justify_items": null,
       "left": null,
       "margin": null,
       "max_height": null,
       "max_width": null,
       "min_height": null,
       "min_width": null,
       "object_fit": null,
       "object_position": null,
       "order": null,
       "overflow": null,
       "overflow_x": null,
       "overflow_y": null,
       "padding": null,
       "right": null,
       "top": null,
       "visibility": null,
       "width": null
      }
     },
     "e531b0a91ae940b4aad46251ace7eb28": {
      "model_module": "@jupyter-widgets/base",
      "model_module_version": "1.2.0",
      "model_name": "LayoutModel",
      "state": {
       "_model_module": "@jupyter-widgets/base",
       "_model_module_version": "1.2.0",
       "_model_name": "LayoutModel",
       "_view_count": null,
       "_view_module": "@jupyter-widgets/base",
       "_view_module_version": "1.2.0",
       "_view_name": "LayoutView",
       "align_content": null,
       "align_items": null,
       "align_self": null,
       "border": null,
       "bottom": null,
       "display": null,
       "flex": null,
       "flex_flow": null,
       "grid_area": null,
       "grid_auto_columns": null,
       "grid_auto_flow": null,
       "grid_auto_rows": null,
       "grid_column": null,
       "grid_gap": null,
       "grid_row": null,
       "grid_template_areas": null,
       "grid_template_columns": null,
       "grid_template_rows": null,
       "height": null,
       "justify_content": null,
       "justify_items": null,
       "left": null,
       "margin": null,
       "max_height": null,
       "max_width": null,
       "min_height": null,
       "min_width": null,
       "object_fit": null,
       "object_position": null,
       "order": null,
       "overflow": null,
       "overflow_x": null,
       "overflow_y": null,
       "padding": null,
       "right": null,
       "top": null,
       "visibility": null,
       "width": null
      }
     },
     "e6341d7f1b5841a19ca1b23917bd4580": {
      "model_module": "@jupyter-widgets/controls",
      "model_module_version": "1.5.0",
      "model_name": "FloatProgressModel",
      "state": {
       "_dom_classes": [],
       "_model_module": "@jupyter-widgets/controls",
       "_model_module_version": "1.5.0",
       "_model_name": "FloatProgressModel",
       "_view_count": null,
       "_view_module": "@jupyter-widgets/controls",
       "_view_module_version": "1.5.0",
       "_view_name": "ProgressView",
       "bar_style": "success",
       "description": "",
       "description_tooltip": null,
       "layout": "IPY_MODEL_d0570cc8d146406e9fd30fafa08e14d5",
       "max": 29.0,
       "min": 0.0,
       "orientation": "horizontal",
       "style": "IPY_MODEL_82408c286c3d4790bd5304e8e0d9d306",
       "value": 29.0
      }
     },
     "e8d3a0bb85c34230a3cf42d408bcabd9": {
      "model_module": "@jupyter-widgets/base",
      "model_module_version": "1.2.0",
      "model_name": "LayoutModel",
      "state": {
       "_model_module": "@jupyter-widgets/base",
       "_model_module_version": "1.2.0",
       "_model_name": "LayoutModel",
       "_view_count": null,
       "_view_module": "@jupyter-widgets/base",
       "_view_module_version": "1.2.0",
       "_view_name": "LayoutView",
       "align_content": null,
       "align_items": null,
       "align_self": null,
       "border": null,
       "bottom": null,
       "display": null,
       "flex": null,
       "flex_flow": null,
       "grid_area": null,
       "grid_auto_columns": null,
       "grid_auto_flow": null,
       "grid_auto_rows": null,
       "grid_column": null,
       "grid_gap": null,
       "grid_row": null,
       "grid_template_areas": null,
       "grid_template_columns": null,
       "grid_template_rows": null,
       "height": null,
       "justify_content": null,
       "justify_items": null,
       "left": null,
       "margin": null,
       "max_height": null,
       "max_width": null,
       "min_height": null,
       "min_width": null,
       "object_fit": null,
       "object_position": null,
       "order": null,
       "overflow": null,
       "overflow_x": null,
       "overflow_y": null,
       "padding": null,
       "right": null,
       "top": null,
       "visibility": null,
       "width": null
      }
     },
     "eb7989b6cc8b479099eaaa72709aaf10": {
      "model_module": "@jupyter-widgets/controls",
      "model_module_version": "1.5.0",
      "model_name": "HTMLModel",
      "state": {
       "_dom_classes": [],
       "_model_module": "@jupyter-widgets/controls",
       "_model_module_version": "1.5.0",
       "_model_name": "HTMLModel",
       "_view_count": null,
       "_view_module": "@jupyter-widgets/controls",
       "_view_module_version": "1.5.0",
       "_view_name": "HTMLView",
       "description": "",
       "description_tooltip": null,
       "layout": "IPY_MODEL_bf6621c0ab3a449c8f4f15b9feff70d7",
       "placeholder": "​",
       "style": "IPY_MODEL_2e5cfba26cd6449495ecbb83fd0d7245",
       "value": " 213k/213k [00:00&lt;00:00, 4.74MB/s]"
      }
     },
     "ec84e013178c4b8bbcb1d2979b673c5e": {
      "model_module": "@jupyter-widgets/controls",
      "model_module_version": "1.5.0",
      "model_name": "HTMLModel",
      "state": {
       "_dom_classes": [],
       "_model_module": "@jupyter-widgets/controls",
       "_model_module_version": "1.5.0",
       "_model_name": "HTMLModel",
       "_view_count": null,
       "_view_module": "@jupyter-widgets/controls",
       "_view_module_version": "1.5.0",
       "_view_name": "HTMLView",
       "description": "",
       "description_tooltip": null,
       "layout": "IPY_MODEL_efbb9628f5244f609cf59850f723c0c6",
       "placeholder": "​",
       "style": "IPY_MODEL_88f024a96f9649b5b35f236333f1a28b",
       "value": "Downloading (…)lve/main/config.json: 100%"
      }
     },
     "efbb9628f5244f609cf59850f723c0c6": {
      "model_module": "@jupyter-widgets/base",
      "model_module_version": "1.2.0",
      "model_name": "LayoutModel",
      "state": {
       "_model_module": "@jupyter-widgets/base",
       "_model_module_version": "1.2.0",
       "_model_name": "LayoutModel",
       "_view_count": null,
       "_view_module": "@jupyter-widgets/base",
       "_view_module_version": "1.2.0",
       "_view_name": "LayoutView",
       "align_content": null,
       "align_items": null,
       "align_self": null,
       "border": null,
       "bottom": null,
       "display": null,
       "flex": null,
       "flex_flow": null,
       "grid_area": null,
       "grid_auto_columns": null,
       "grid_auto_flow": null,
       "grid_auto_rows": null,
       "grid_column": null,
       "grid_gap": null,
       "grid_row": null,
       "grid_template_areas": null,
       "grid_template_columns": null,
       "grid_template_rows": null,
       "height": null,
       "justify_content": null,
       "justify_items": null,
       "left": null,
       "margin": null,
       "max_height": null,
       "max_width": null,
       "min_height": null,
       "min_width": null,
       "object_fit": null,
       "object_position": null,
       "order": null,
       "overflow": null,
       "overflow_x": null,
       "overflow_y": null,
       "padding": null,
       "right": null,
       "top": null,
       "visibility": null,
       "width": null
      }
     },
     "fec9f9546369472cb5d4b7e15e39f144": {
      "model_module": "@jupyter-widgets/controls",
      "model_module_version": "1.5.0",
      "model_name": "ProgressStyleModel",
      "state": {
       "_model_module": "@jupyter-widgets/controls",
       "_model_module_version": "1.5.0",
       "_model_name": "ProgressStyleModel",
       "_view_count": null,
       "_view_module": "@jupyter-widgets/base",
       "_view_module_version": "1.2.0",
       "_view_name": "StyleView",
       "bar_color": null,
       "description_width": ""
      }
     }
    },
    "version_major": 2,
    "version_minor": 0
   }
  }
 },
 "nbformat": 4,
 "nbformat_minor": 5
}
