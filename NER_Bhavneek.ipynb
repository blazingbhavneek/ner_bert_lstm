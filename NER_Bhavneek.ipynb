{
  "nbformat": 4,
  "nbformat_minor": 0,
  "metadata": {
    "colab": {
      "provenance": [],
      "mount_file_id": "1xs_r4p7xrctqpBj6aFwti9EWhd9pT-WV",
      "authorship_tag": "ABX9TyOdGIUMFgcwTRfXQzBWdRhu",
      "include_colab_link": true
    },
    "kernelspec": {
      "name": "python3",
      "display_name": "Python 3"
    },
    "language_info": {
      "name": "python"
    },
    "accelerator": "GPU",
    "gpuClass": "standard"
  },
  "cells": [
    {
      "cell_type": "markdown",
      "metadata": {
        "id": "view-in-github",
        "colab_type": "text"
      },
      "source": [
        "<a href=\"https://colab.research.google.com/github/blazingbhavneek/ner_crf_tf/blob/main/NER_Bhavneek.ipynb\" target=\"_parent\"><img src=\"https://colab.research.google.com/assets/colab-badge.svg\" alt=\"Open In Colab\"/></a>"
      ]
    },
    {
      "cell_type": "markdown",
      "source": [
        "# Assignment 2\n",
        "## Bhavneek Singh\n",
        "## 2020EE10482"
      ],
      "metadata": {
        "id": "TEkngEYNTlMb"
      }
    },
    {
      "cell_type": "code",
      "execution_count": 1,
      "metadata": {
        "id": "cGV9kpV8TfOS"
      },
      "outputs": [],
      "source": [
        "import tensorflow as tf\n",
        "import random \n",
        "import zipfile\n",
        "import pandas as pd\n",
        "import numpy as np"
      ]
    },
    {
      "cell_type": "code",
      "source": [
        "zip_ref = zipfile.ZipFile(\"/content/drive/My Drive/Assignment_2.zip\", 'r') # mounted my gdrive\n",
        "zip_ref.extractall(\"/tmp\")\n",
        "zip_ref.close()"
      ],
      "metadata": {
        "id": "JkpZA7HXTnzh"
      },
      "execution_count": 2,
      "outputs": []
    },
    {
      "cell_type": "code",
      "source": [
        "def read_file(filename):\n",
        "    with open(filename, \"r\") as file:\n",
        "        text = file.readlines()\n",
        "    return text\n",
        "\n",
        "def process_text(text):\n",
        "    X = []\n",
        "    Y = []\n",
        "    sentenceX = []\n",
        "    sentenceY = []\n",
        "    for line in text:\n",
        "        split = line.split(\" \")\n",
        "        if len(split) > 1:\n",
        "            sentenceX.append(split[0])\n",
        "            sentenceY.append(split[1].replace(\"\\n\", \"\"))\n",
        "        else:\n",
        "            X.append(sentenceX)\n",
        "            Y.append(sentenceY)\n",
        "            sentenceX = []\n",
        "            sentenceY = []\n",
        "    return X, Y\n",
        "\n",
        "text = read_file(\"/tmp/Assignment 2/data/train.txt\")\n",
        "X, Y = process_text(text)\n",
        "\n",
        "text_test = read_file(\"/tmp/Assignment 2/data/test.txt\")\n",
        "X_test, Y_test = process_text(text_test)"
      ],
      "metadata": {
        "id": "q94bgIShT6pX"
      },
      "execution_count": 3,
      "outputs": []
    },
    {
      "cell_type": "code",
      "source": [
        "ind = random.randint(0,len(X))\n",
        "\n",
        "for i in range(len(X[ind])):\n",
        "    print(X[ind][i], Y[ind][i])"
      ],
      "metadata": {
        "colab": {
          "base_uri": "https://localhost:8080/"
        },
        "id": "6t78dS2SVeCA",
        "outputId": "69f62401-059f-4650-86c1-fdd739f3ba3d"
      },
      "execution_count": 4,
      "outputs": [
        {
          "output_type": "stream",
          "name": "stdout",
          "text": [
            "But O\n",
            "the B-NP\n",
            "UAL I-NP\n",
            "collapse I-NP\n",
            ", O\n",
            "he B-NP\n",
            "says B-VP\n",
            ", O\n",
            "`` O\n",
            "may B-VP\n",
            "tell I-VP\n",
            "you B-NP\n",
            "it B-NP\n",
            "'s B-VP\n",
            "not I-VP\n",
            "going I-VP\n",
            "to I-VP\n",
            "work I-VP\n",
            "that B-ADVP\n",
            "easily I-ADVP\n",
            ". O\n",
            "'' O\n"
          ]
        }
      ]
    },
    {
      "cell_type": "code",
      "source": [
        "labels = {'I-NP'} # Initialize a set of strings\n",
        "\n",
        "for i in range(len(Y)):\n",
        "    for j in range(len(Y[i])):\n",
        "      labels.add(Y[i][j])\n",
        "\n",
        "for i in range(len(Y_test)):\n",
        "    for j in range(len(Y_test[i])):\n",
        "      labels.add(Y_test[i][j])\n",
        "\n",
        "labels = np.array(list(labels))\n",
        "print(labels)\n",
        "print(len(labels))"
      ],
      "metadata": {
        "colab": {
          "base_uri": "https://localhost:8080/"
        },
        "id": "oiFYASH-Vx3W",
        "outputId": "7155a3ef-cf75-4c02-e420-cb976b81f533"
      },
      "execution_count": 5,
      "outputs": [
        {
          "output_type": "stream",
          "name": "stdout",
          "text": [
            "['B-SBAR' 'I-PP' 'I-UCP' 'B-INTJ' 'I-SBAR' 'B-CONJP' 'B-ADJP' 'I-INTJ'\n",
            " 'I-ADVP' 'B-PRT' 'I-PRT' 'B-PP' 'I-ADJP' 'I-VP' 'B-UCP' 'I-LST' 'O'\n",
            " 'B-LST' 'I-CONJP' 'B-NP' 'B-ADVP' 'B-VP' 'I-NP']\n",
            "23\n"
          ]
        }
      ]
    },
    {
      "cell_type": "code",
      "source": [
        "arr = np.arange(1,24) # 1-23 because we will have a 0 class for empty slots, i.e no word there\n",
        "arr"
      ],
      "metadata": {
        "colab": {
          "base_uri": "https://localhost:8080/"
        },
        "id": "gpnjPp-LWUX1",
        "outputId": "dae8aebc-f441-4910-87e4-285c377a0a61"
      },
      "execution_count": 6,
      "outputs": [
        {
          "output_type": "execute_result",
          "data": {
            "text/plain": [
              "array([ 1,  2,  3,  4,  5,  6,  7,  8,  9, 10, 11, 12, 13, 14, 15, 16, 17,\n",
              "       18, 19, 20, 21, 22, 23])"
            ]
          },
          "metadata": {},
          "execution_count": 6
        }
      ]
    },
    {
      "cell_type": "code",
      "source": [
        "dict = {}\n",
        "for A, B in zip(labels, arr):\n",
        "    dict[A] = B"
      ],
      "metadata": {
        "id": "a3Ak5uL4Zfeb"
      },
      "execution_count": 7,
      "outputs": []
    },
    {
      "cell_type": "code",
      "source": [
        "dict"
      ],
      "metadata": {
        "colab": {
          "base_uri": "https://localhost:8080/"
        },
        "id": "rp8gVmmFkWgV",
        "outputId": "64d7f7ff-fcc5-446d-aa0c-b5a71af1b77b"
      },
      "execution_count": 8,
      "outputs": [
        {
          "output_type": "execute_result",
          "data": {
            "text/plain": [
              "{'B-SBAR': 1,\n",
              " 'I-PP': 2,\n",
              " 'I-UCP': 3,\n",
              " 'B-INTJ': 4,\n",
              " 'I-SBAR': 5,\n",
              " 'B-CONJP': 6,\n",
              " 'B-ADJP': 7,\n",
              " 'I-INTJ': 8,\n",
              " 'I-ADVP': 9,\n",
              " 'B-PRT': 10,\n",
              " 'I-PRT': 11,\n",
              " 'B-PP': 12,\n",
              " 'I-ADJP': 13,\n",
              " 'I-VP': 14,\n",
              " 'B-UCP': 15,\n",
              " 'I-LST': 16,\n",
              " 'O': 17,\n",
              " 'B-LST': 18,\n",
              " 'I-CONJP': 19,\n",
              " 'B-NP': 20,\n",
              " 'B-ADVP': 21,\n",
              " 'B-VP': 22,\n",
              " 'I-NP': 23}"
            ]
          },
          "metadata": {},
          "execution_count": 8
        }
      ]
    },
    {
      "cell_type": "code",
      "source": [
        "X_sentences = []\n",
        "maxlen = 0\n",
        "for i in range(len(X)):\n",
        "  str = \"\"\n",
        "  maxlen = max(maxlen,len(X[i]))\n",
        "  for j in range(len(X[i])):\n",
        "    str += X[i][j].lower()\n",
        "    str += \" \"\n",
        "  X_sentences.append(str)"
      ],
      "metadata": {
        "id": "g0S5hfbUW4A2"
      },
      "execution_count": 9,
      "outputs": []
    },
    {
      "cell_type": "code",
      "source": [
        "Xt_sentences = []\n",
        "\n",
        "for i in range(len(X_test)):\n",
        "  str = \"\"\n",
        "  maxlen = max(maxlen,len(X_test[i]))\n",
        "  for j in range(len(X_test[i])):\n",
        "    str += X_test[i][j].lower()\n",
        "    str += \" \"\n",
        "  Xt_sentences.append(str)"
      ],
      "metadata": {
        "id": "_AYPAU6Eb-I5"
      },
      "execution_count": 10,
      "outputs": []
    },
    {
      "cell_type": "code",
      "source": [
        "print(X_sentences[0])\n",
        "print(Xt_sentences[0])\n",
        "print(maxlen)"
      ],
      "metadata": {
        "colab": {
          "base_uri": "https://localhost:8080/"
        },
        "id": "DbdUt_1eYweU",
        "outputId": "e26387ed-2b09-48cd-f15d-b1a1ceaafaf5"
      },
      "execution_count": 11,
      "outputs": [
        {
          "output_type": "stream",
          "name": "stdout",
          "text": [
            "confidence in the pound is widely expected to take another sharp dive if trade figures for september , due for release tomorrow , fail to show a substantial improvement from july and august 's near-record deficits . \n",
            "rockwell international corp. 's tulsa unit said it signed a tentative agreement extending its contract with boeing co. to provide structural parts for boeing 's 747 jetliners . \n",
            "78\n"
          ]
        }
      ]
    },
    {
      "cell_type": "code",
      "source": [
        "Y_labels = []\n",
        "\n",
        "for i in range(len(Y)):\n",
        "  arr = []\n",
        "  for j in range(len(Y[i])):\n",
        "    arr.append(int(dict[Y[i][j]]))\n",
        "  arr = np.array(arr, dtype = 'int32').astype('int32')\n",
        "  Y_labels.append(arr)\n",
        "\n",
        "Y_labels = np.array(Y_labels)"
      ],
      "metadata": {
        "colab": {
          "base_uri": "https://localhost:8080/"
        },
        "id": "_vsEFMeiZJxx",
        "outputId": "c9585785-423c-4bf2-c828-ea4e3389c808"
      },
      "execution_count": 12,
      "outputs": [
        {
          "output_type": "stream",
          "name": "stderr",
          "text": [
            "<ipython-input-12-343049478399>:10: VisibleDeprecationWarning: Creating an ndarray from ragged nested sequences (which is a list-or-tuple of lists-or-tuples-or ndarrays with different lengths or shapes) is deprecated. If you meant to do this, you must specify 'dtype=object' when creating the ndarray.\n",
            "  Y_labels = np.array(Y_labels)\n"
          ]
        }
      ]
    },
    {
      "cell_type": "code",
      "source": [
        "Yt_labels = []\n",
        "for i in range(len(Y_test)):\n",
        "  arr = []\n",
        "  for j in range(len(Y_test[i])):\n",
        "    arr.append(dict[Y_test[i][j]])\n",
        "  arr = np.array(arr, dtype = 'int32').astype('int32')\n",
        "  Yt_labels.append(arr)\n",
        "\n",
        "Yt_labels = np.array(Yt_labels)"
      ],
      "metadata": {
        "colab": {
          "base_uri": "https://localhost:8080/"
        },
        "id": "h_D2NrxSbd-P",
        "outputId": "301db770-8d53-4878-8b64-720cf222c0c6"
      },
      "execution_count": 13,
      "outputs": [
        {
          "output_type": "stream",
          "name": "stderr",
          "text": [
            "<ipython-input-13-98b44f0eacbe>:9: VisibleDeprecationWarning: Creating an ndarray from ragged nested sequences (which is a list-or-tuple of lists-or-tuples-or ndarrays with different lengths or shapes) is deprecated. If you meant to do this, you must specify 'dtype=object' when creating the ndarray.\n",
            "  Yt_labels = np.array(Yt_labels)\n"
          ]
        }
      ]
    },
    {
      "cell_type": "code",
      "source": [
        "print(Y_labels[:5])\n",
        "print(Y_labels.shape)"
      ],
      "metadata": {
        "colab": {
          "base_uri": "https://localhost:8080/"
        },
        "id": "trEIU6E4Zxwl",
        "outputId": "8a0ef7e9-d4e7-4313-c7e1-a16b8ebfbbf6"
      },
      "execution_count": 30,
      "outputs": [
        {
          "output_type": "stream",
          "name": "stdout",
          "text": [
            "[array([17, 19, 17,  4,  6, 15, 15, 15, 15, 17,  4,  4, 13, 17,  4, 19, 17,\n",
            "         5, 20, 19, 17, 17,  5,  6, 15, 15, 17,  4,  4, 19, 17,  4,  4, 17,\n",
            "         4,  4,  5], dtype=int32)\n",
            " array([ 5, 19, 17,  4, 17,  4, 17,  4,  4, 19, 17,  4,  4,  4,  6, 15, 15,\n",
            "        15, 17,  4, 19, 17, 19, 17,  4,  4,  5], dtype=int32)\n",
            " array([ 5, 17,  6, 17,  4, 19, 17,  6, 15, 15, 19, 17,  4, 17,  4,  6, 15,\n",
            "        17,  4,  4,  4, 19, 17,  4,  4,  4, 17,  4,  5], dtype=int32)\n",
            " array([17,  6, 15, 17,  4, 19, 17,  4,  6, 15, 15, 15, 17,  4, 19, 17,  4,\n",
            "        19, 17,  4,  4,  4,  4,  6, 15, 17,  4,  5, 17,  5, 17,  4,  4,  4,\n",
            "         6,  5], dtype=int32)\n",
            " array([ 5, 17,  4, 19, 17, 19, 17,  4,  4,  4,  6, 12,  2, 19, 17,  4,  4,\n",
            "         5,  5,  6, 17,  4,  5, 17,  4,  4, 19, 17,  4,  4,  5],\n",
            "       dtype=int32)                                                        ]\n",
            "(8936,)\n"
          ]
        }
      ]
    },
    {
      "cell_type": "code",
      "source": [
        "from tensorflow.keras.preprocessing.sequence import pad_sequences\n",
        "Ytrain = pad_sequences(Y_labels, maxlen = maxlen,  padding = 'post', truncating = 'post')"
      ],
      "metadata": {
        "id": "hCucjIfqnPnV"
      },
      "execution_count": 14,
      "outputs": []
    },
    {
      "cell_type": "code",
      "source": [
        "print(Ytrain[:5])\n",
        "print(Ytrain.shape)"
      ],
      "metadata": {
        "colab": {
          "base_uri": "https://localhost:8080/"
        },
        "id": "xVsP0TDfyuAi",
        "outputId": "ac933046-9fe2-44f6-a825-48d3065a31ae"
      },
      "execution_count": 15,
      "outputs": [
        {
          "output_type": "stream",
          "name": "stdout",
          "text": [
            "[[20 12 20 23 22 14 14 14 14 20 23 23  1 20 23 12 20 17  7 12 20 20 17 22\n",
            "  14 14 20 23 23 12 20 23 23 20 23 23 17  0  0  0  0  0  0  0  0  0  0  0\n",
            "   0  0  0  0  0  0  0  0  0  0  0  0  0  0  0  0  0  0  0  0  0  0  0  0\n",
            "   0  0  0  0  0  0]\n",
            " [17 12 20 23 20 23 20 23 23 12 20 23 23 23 22 14 14 14 20 23 12 20 12 20\n",
            "  23 23 17  0  0  0  0  0  0  0  0  0  0  0  0  0  0  0  0  0  0  0  0  0\n",
            "   0  0  0  0  0  0  0  0  0  0  0  0  0  0  0  0  0  0  0  0  0  0  0  0\n",
            "   0  0  0  0  0  0]\n",
            " [17 20 22 20 23 12 20 22 14 14 12 20 23 20 23 22 14 20 23 23 23 12 20 23\n",
            "  23 23 20 23 17  0  0  0  0  0  0  0  0  0  0  0  0  0  0  0  0  0  0  0\n",
            "   0  0  0  0  0  0  0  0  0  0  0  0  0  0  0  0  0  0  0  0  0  0  0  0\n",
            "   0  0  0  0  0  0]\n",
            " [20 22 14 20 23 12 20 23 22 14 14 14 20 23 12 20 23 12 20 23 23 23 23 22\n",
            "  14 20 23 17 20 17 20 23 23 23 22 17  0  0  0  0  0  0  0  0  0  0  0  0\n",
            "   0  0  0  0  0  0  0  0  0  0  0  0  0  0  0  0  0  0  0  0  0  0  0  0\n",
            "   0  0  0  0  0  0]\n",
            " [17 20 23 12 20 12 20 23 23 23 22 21  9 12 20 23 23 17 17 22 20 23 17 20\n",
            "  23 23 12 20 23 23 17  0  0  0  0  0  0  0  0  0  0  0  0  0  0  0  0  0\n",
            "   0  0  0  0  0  0  0  0  0  0  0  0  0  0  0  0  0  0  0  0  0  0  0  0\n",
            "   0  0  0  0  0  0]]\n",
            "(8936, 78)\n"
          ]
        }
      ]
    },
    {
      "cell_type": "code",
      "source": [
        "from tensorflow.keras.utils import to_categorical\n",
        "Ytrain_cat = to_categorical(Ytrain)"
      ],
      "metadata": {
        "id": "9_mJBxiSiAjV"
      },
      "execution_count": 16,
      "outputs": []
    },
    {
      "cell_type": "code",
      "source": [
        "print(Ytrain_cat[0])\n",
        "Ytrain_cat.shape"
      ],
      "metadata": {
        "colab": {
          "base_uri": "https://localhost:8080/"
        },
        "id": "0s2UnLTCy-bP",
        "outputId": "4163aac4-682d-4208-ac55-15881aa53ec2"
      },
      "execution_count": 34,
      "outputs": [
        {
          "output_type": "stream",
          "name": "stdout",
          "text": [
            "[[0. 0. 0. ... 0. 0. 0.]\n",
            " [0. 0. 0. ... 0. 0. 0.]\n",
            " [0. 0. 0. ... 0. 0. 0.]\n",
            " ...\n",
            " [1. 0. 0. ... 0. 0. 0.]\n",
            " [1. 0. 0. ... 0. 0. 0.]\n",
            " [1. 0. 0. ... 0. 0. 0.]]\n"
          ]
        },
        {
          "output_type": "execute_result",
          "data": {
            "text/plain": [
              "(8936, 78, 24)"
            ]
          },
          "metadata": {},
          "execution_count": 34
        }
      ]
    },
    {
      "cell_type": "code",
      "source": [
        "Ytest = pad_sequences(Yt_labels, maxlen = maxlen,  padding = 'post', truncating = 'post')\n",
        "Ytest_cat = to_categorical(Ytest)"
      ],
      "metadata": {
        "id": "i06Pa8p2RZpC"
      },
      "execution_count": 17,
      "outputs": []
    },
    {
      "cell_type": "code",
      "source": [
        "from keras.preprocessing.text import Tokenizer\n",
        "\n",
        "tokenizer = Tokenizer()\n",
        "tokenizer.fit_on_texts(X_sentences)\n",
        "word2index = tokenizer.word_index"
      ],
      "metadata": {
        "id": "7Pe80UIbaO9H"
      },
      "execution_count": 18,
      "outputs": []
    },
    {
      "cell_type": "code",
      "source": [
        "Xtokens = tokenizer.texts_to_sequences(X_sentences)\n",
        "Xtrain = pad_sequences(Xtokens, maxlen = maxlen,  padding = 'post', truncating = 'post')"
      ],
      "metadata": {
        "id": "1KD2d2_WbWhw"
      },
      "execution_count": 19,
      "outputs": []
    },
    {
      "cell_type": "code",
      "source": [
        "Xtrain[0]"
      ],
      "metadata": {
        "colab": {
          "base_uri": "https://localhost:8080/"
        },
        "id": "jjOQ8S27cv1p",
        "outputId": "17c0f801-9c11-4e0e-8fe0-176197011698"
      },
      "execution_count": 18,
      "outputs": [
        {
          "output_type": "execute_result",
          "data": {
            "text/plain": [
              "array([1600,    5,    1, 1517,   11, 1160,  192,    3,  224,  273, 1202,\n",
              "       4919,   75,  489,  605,    7,  473,  252,    7, 1816, 2587, 4139,\n",
              "          3,  606,    4, 1375, 1439,   16,  753,    6,  588,    8,  754,\n",
              "        525, 8485,    0,    0,    0,    0,    0,    0,    0,    0,    0,\n",
              "          0,    0,    0,    0,    0,    0,    0,    0,    0,    0,    0,\n",
              "          0,    0,    0,    0,    0,    0,    0,    0,    0,    0,    0,\n",
              "          0,    0,    0,    0,    0,    0,    0,    0,    0,    0,    0,\n",
              "          0], dtype=int32)"
            ]
          },
          "metadata": {},
          "execution_count": 18
        }
      ]
    },
    {
      "cell_type": "code",
      "source": [
        "type(Xtrain[0][0])"
      ],
      "metadata": {
        "colab": {
          "base_uri": "https://localhost:8080/"
        },
        "id": "iNNsxw0OlbLM",
        "outputId": "6edf308c-8794-41a7-e76f-712cf7d1f3a4"
      },
      "execution_count": 38,
      "outputs": [
        {
          "output_type": "execute_result",
          "data": {
            "text/plain": [
              "numpy.int32"
            ]
          },
          "metadata": {},
          "execution_count": 38
        }
      ]
    },
    {
      "cell_type": "code",
      "source": [
        "X_test_tokens = tokenizer.texts_to_sequences(Xt_sentences)\n",
        "Xtest = pad_sequences(X_test_tokens, maxlen = maxlen,  padding = 'post', truncating = 'post')\n",
        "Xtest[0]"
      ],
      "metadata": {
        "colab": {
          "base_uri": "https://localhost:8080/"
        },
        "id": "jSGI048j9oex",
        "outputId": "621578b2-0bc7-4e97-e181-759dfd86ed74"
      },
      "execution_count": 20,
      "outputs": [
        {
          "output_type": "execute_result",
          "data": {
            "text/plain": [
              "array([  235,    71,     8, 12484,   216,    12,    13,  2256,     4,\n",
              "        4284,   459,    25,   478,    21,  4296,    95,     3,   876,\n",
              "        1697,  1007,     7,  4296,     8,  5793,     0,     0,     0,\n",
              "           0,     0,     0,     0,     0,     0,     0,     0,     0,\n",
              "           0,     0,     0,     0,     0,     0,     0,     0,     0,\n",
              "           0,     0,     0,     0,     0,     0,     0,     0,     0,\n",
              "           0,     0,     0,     0,     0,     0,     0,     0,     0,\n",
              "           0,     0,     0,     0,     0,     0,     0,     0,     0,\n",
              "           0,     0,     0,     0,     0,     0], dtype=int32)"
            ]
          },
          "metadata": {},
          "execution_count": 20
        }
      ]
    },
    {
      "cell_type": "code",
      "source": [
        "file = open('/content/drive/My Drive/glove.6B.100d.txt', 'r', encoding = 'utf8')\n",
        "content = file.readlines()\n",
        "file.close()"
      ],
      "metadata": {
        "id": "JGOq7Dh2eVQT"
      },
      "execution_count": 21,
      "outputs": []
    },
    {
      "cell_type": "code",
      "source": [
        "embeddings = {}\n",
        "\n",
        "for line in content:\n",
        "    line = line.split()\n",
        "    embeddings[line[0]] = np.array(line[1:], dtype = float)"
      ],
      "metadata": {
        "id": "AewHWXhFecCF"
      },
      "execution_count": 22,
      "outputs": []
    },
    {
      "cell_type": "code",
      "source": [
        "embed_size = 100 # The vector size we chose\n",
        "embedding_matrix = np.zeros((len(word2index)+1, embed_size)) # initializing a 0 matrix\n",
        "\n",
        "miss_count = 0\n",
        "\n",
        "for word, i in word2index.items():\n",
        "  if word in embeddings.keys(): # Some words are not present\n",
        "    embed_vector = embeddings[word]\n",
        "    embedding_matrix[i] = embed_vector\n",
        "  else:\n",
        "    miss_count+=1\n",
        "    embedding_matrix[i] = np.random.rand(100) # Initializing a random vector for them\n",
        "\n",
        "print(miss_count)"
      ],
      "metadata": {
        "colab": {
          "base_uri": "https://localhost:8080/"
        },
        "id": "NJO8l1jYetOS",
        "outputId": "63e2c0a7-6f0b-497a-ed0f-7a07e2169ec9"
      },
      "execution_count": 23,
      "outputs": [
        {
          "output_type": "stream",
          "name": "stdout",
          "text": [
            "357\n"
          ]
        }
      ]
    },
    {
      "cell_type": "code",
      "source": [
        "from keras.models import Sequential\n",
        "from keras.layers import Dense, LSTM, Embedding, Bidirectional\n",
        "\n",
        "model = Sequential([\n",
        "    tf.keras.layers.Input(shape=(78), dtype='int32'),\n",
        "    Embedding(input_dim = len(word2index) + 1,\n",
        "              output_dim = embed_size,\n",
        "              input_length = maxlen,\n",
        "              weights = [embedding_matrix],\n",
        "              trainable = True # We have a 357 random vectors in the matrix\n",
        "             ),\n",
        "    \n",
        "    Bidirectional(LSTM(units = 64, return_sequences = True)),\n",
        "    Bidirectional(LSTM(units = 16, return_sequences = True)),\n",
        "    Dense(24, activation = 'softmax')\n",
        "])\n",
        "\n",
        "model.compile(optimizer = 'adam', loss = 'categorical_crossentropy', metrics = ['accuracy'])"
      ],
      "metadata": {
        "id": "aWm0R3ORP-Vj"
      },
      "execution_count": 44,
      "outputs": []
    },
    {
      "cell_type": "code",
      "source": [
        "model.summary()"
      ],
      "metadata": {
        "colab": {
          "base_uri": "https://localhost:8080/"
        },
        "id": "3KOsRRprQRMF",
        "outputId": "5f275b48-8e2c-4170-96ec-86a33ec41848"
      },
      "execution_count": 45,
      "outputs": [
        {
          "output_type": "stream",
          "name": "stdout",
          "text": [
            "Model: \"sequential\"\n",
            "_________________________________________________________________\n",
            " Layer (type)                Output Shape              Param #   \n",
            "=================================================================\n",
            " embedding (Embedding)       (None, 78, 100)           1489400   \n",
            "                                                                 \n",
            " bidirectional (Bidirectiona  (None, 78, 128)          84480     \n",
            " l)                                                              \n",
            "                                                                 \n",
            " bidirectional_1 (Bidirectio  (None, 78, 32)           18560     \n",
            " nal)                                                            \n",
            "                                                                 \n",
            " dense (Dense)               (None, 78, 24)            792       \n",
            "                                                                 \n",
            "=================================================================\n",
            "Total params: 1,593,232\n",
            "Trainable params: 1,593,232\n",
            "Non-trainable params: 0\n",
            "_________________________________________________________________\n"
          ]
        }
      ]
    },
    {
      "cell_type": "code",
      "source": [
        "print(Xtrain.shape)\n",
        "print(Ytrain_cat.shape)\n",
        "print(Xtest.shape)\n",
        "print(Ytest_cat.shape)"
      ],
      "metadata": {
        "colab": {
          "base_uri": "https://localhost:8080/"
        },
        "id": "X9TOaIOT2sKZ",
        "outputId": "30b22bab-f0b4-4712-9ccb-385ca430a42e"
      },
      "execution_count": 51,
      "outputs": [
        {
          "output_type": "stream",
          "name": "stdout",
          "text": [
            "(8936, 78)\n",
            "(8936, 78, 24)\n",
            "(2012, 78)\n",
            "(2012, 78, 24)\n"
          ]
        }
      ]
    },
    {
      "cell_type": "code",
      "source": [
        "model_checkpoint_callback = tf.keras.callbacks.ModelCheckpoint(\n",
        "    filepath=\"tmp/checkpoint/\",\n",
        "    save_weights_only=True,\n",
        "    monitor='val_accuracy',\n",
        "    mode='max',\n",
        "    save_best_only=True)"
      ],
      "metadata": {
        "id": "YvYZqDuKQate"
      },
      "execution_count": 33,
      "outputs": []
    },
    {
      "cell_type": "code",
      "source": [
        "history_1 = model.fit(Xtrain, Ytrain_cat, epochs = 20, validation_data=(Xtest,Ytest_cat), callbacks=[model_checkpoint_callback])"
      ],
      "metadata": {
        "colab": {
          "base_uri": "https://localhost:8080/"
        },
        "id": "7pmz5fEkQTDY",
        "outputId": "cb27b272-2d90-4694-fba2-473c39f6163f"
      },
      "execution_count": 52,
      "outputs": [
        {
          "output_type": "stream",
          "name": "stdout",
          "text": [
            "Epoch 1/20\n",
            "280/280 [==============================] - 85s 266ms/step - loss: 0.7174 - accuracy: 0.7881 - val_loss: 0.5708 - val_accuracy: 0.7992\n",
            "Epoch 2/20\n",
            "280/280 [==============================] - 67s 239ms/step - loss: 0.4918 - accuracy: 0.8229 - val_loss: 0.5278 - val_accuracy: 0.8134\n",
            "Epoch 3/20\n",
            "280/280 [==============================] - 69s 246ms/step - loss: 0.4473 - accuracy: 0.8378 - val_loss: 0.5233 - val_accuracy: 0.8198\n",
            "Epoch 4/20\n",
            "280/280 [==============================] - 70s 250ms/step - loss: 0.4152 - accuracy: 0.8477 - val_loss: 0.5195 - val_accuracy: 0.8216\n",
            "Epoch 5/20\n",
            "280/280 [==============================] - 69s 247ms/step - loss: 0.3863 - accuracy: 0.8566 - val_loss: 0.5143 - val_accuracy: 0.8245\n",
            "Epoch 6/20\n",
            "280/280 [==============================] - 70s 250ms/step - loss: 0.3597 - accuracy: 0.8665 - val_loss: 0.5525 - val_accuracy: 0.8235\n",
            "Epoch 7/20\n",
            "280/280 [==============================] - 68s 241ms/step - loss: 0.3349 - accuracy: 0.8759 - val_loss: 0.5583 - val_accuracy: 0.8264\n",
            "Epoch 8/20\n",
            "280/280 [==============================] - 75s 267ms/step - loss: 0.3110 - accuracy: 0.8855 - val_loss: 0.5785 - val_accuracy: 0.8253\n",
            "Epoch 9/20\n",
            "280/280 [==============================] - 78s 278ms/step - loss: 0.2918 - accuracy: 0.8928 - val_loss: 0.6290 - val_accuracy: 0.8249\n",
            "Epoch 10/20\n",
            "280/280 [==============================] - 70s 250ms/step - loss: 0.2722 - accuracy: 0.9009 - val_loss: 0.6367 - val_accuracy: 0.8265\n",
            "Epoch 11/20\n",
            "280/280 [==============================] - 67s 240ms/step - loss: 0.2547 - accuracy: 0.9079 - val_loss: 0.6492 - val_accuracy: 0.8263\n",
            "Epoch 12/20\n",
            "280/280 [==============================] - 68s 243ms/step - loss: 0.2395 - accuracy: 0.9143 - val_loss: 0.6559 - val_accuracy: 0.8276\n",
            "Epoch 13/20\n",
            "280/280 [==============================] - 68s 241ms/step - loss: 0.2258 - accuracy: 0.9194 - val_loss: 0.7321 - val_accuracy: 0.8243\n",
            "Epoch 14/20\n",
            "280/280 [==============================] - 68s 241ms/step - loss: 0.2128 - accuracy: 0.9243 - val_loss: 0.7511 - val_accuracy: 0.8271\n",
            "Epoch 15/20\n",
            "280/280 [==============================] - 68s 244ms/step - loss: 0.2011 - accuracy: 0.9291 - val_loss: 0.7546 - val_accuracy: 0.8263\n",
            "Epoch 16/20\n",
            "280/280 [==============================] - 69s 245ms/step - loss: 0.1897 - accuracy: 0.9336 - val_loss: 0.7806 - val_accuracy: 0.8263\n",
            "Epoch 17/20\n",
            "280/280 [==============================] - 69s 244ms/step - loss: 0.1787 - accuracy: 0.9377 - val_loss: 0.8114 - val_accuracy: 0.8266\n",
            "Epoch 18/20\n",
            "280/280 [==============================] - 69s 245ms/step - loss: 0.1693 - accuracy: 0.9414 - val_loss: 0.8290 - val_accuracy: 0.8263\n",
            "Epoch 19/20\n",
            "280/280 [==============================] - 66s 234ms/step - loss: 0.1613 - accuracy: 0.9444 - val_loss: 0.8426 - val_accuracy: 0.8260\n",
            "Epoch 20/20\n",
            "280/280 [==============================] - 68s 243ms/step - loss: 0.1526 - accuracy: 0.9478 - val_loss: 0.8607 - val_accuracy: 0.8268\n"
          ]
        }
      ]
    },
    {
      "cell_type": "code",
      "source": [
        "pd.DataFrame(history_1.history).plot(figsize=(10, 7));"
      ],
      "metadata": {
        "colab": {
          "base_uri": "https://localhost:8080/",
          "height": 428
        },
        "id": "1cIsGdSKs3TM",
        "outputId": "3a139226-0b63-4e5c-a63a-93e6819e0107"
      },
      "execution_count": 57,
      "outputs": [
        {
          "output_type": "display_data",
          "data": {
            "text/plain": [
              "<Figure size 720x504 with 1 Axes>"
            ],
            "image/png": "[encoded data removed]"
          },
          "metadata": {
            "needs_background": "light"
          }
        }
      ]
    },
    {
      "cell_type": "code",
      "source": [
        "model.load_weights(\"tmp/checkpoint/\")"
      ],
      "metadata": {
        "colab": {
          "base_uri": "https://localhost:8080/"
        },
        "id": "1c84t-7086b7",
        "outputId": "f039fa1e-e7f7-4613-fa61-511cc9711390"
      },
      "execution_count": 53,
      "outputs": [
        {
          "output_type": "execute_result",
          "data": {
            "text/plain": [
              "<tensorflow.python.checkpoint.checkpoint.CheckpointLoadStatus at 0x7fcc82246f70>"
            ]
          },
          "metadata": {},
          "execution_count": 53
        }
      ]
    },
    {
      "cell_type": "code",
      "source": [
        "model.save(\"tmp/bhavneek_model.h5\")"
      ],
      "metadata": {
        "id": "_2Wk3vrt9FMw"
      },
      "execution_count": 54,
      "outputs": []
    },
    {
      "cell_type": "code",
      "source": [
        "from google.colab import files\n",
        "files.download(\"tmp/bhavneek_model.h5\")"
      ],
      "metadata": {
        "colab": {
          "base_uri": "https://localhost:8080/",
          "height": 17
        },
        "id": "ZnBFw-iK9Je8",
        "outputId": "ee5cfa94-bc83-4190-dd3e-efeed5050d40"
      },
      "execution_count": 55,
      "outputs": [
        {
          "output_type": "display_data",
          "data": {
            "text/plain": [
              "<IPython.core.display.Javascript object>"
            ],
            "application/javascript": [
              "\n",
              "    async function download(id, filename, size) {\n",
              "      if (!google.colab.kernel.accessAllowed) {\n",
              "        return;\n",
              "      }\n",
              "      const div = document.createElement('div');\n",
              "      const label = document.createElement('label');\n",
              "      label.textContent = `Downloading \"${filename}\": `;\n",
              "      div.appendChild(label);\n",
              "      const progress = document.createElement('progress');\n",
              "      progress.max = size;\n",
              "      div.appendChild(progress);\n",
              "      document.body.appendChild(div);\n",
              "\n",
              "      const buffers = [];\n",
              "      let downloaded = 0;\n",
              "\n",
              "      const channel = await google.colab.kernel.comms.open(id);\n",
              "      // Send a message to notify the kernel that we're ready.\n",
              "      channel.send({})\n",
              "\n",
              "      for await (const message of channel.messages) {\n",
              "        // Send a message to notify the kernel that we're ready.\n",
              "        channel.send({})\n",
              "        if (message.buffers) {\n",
              "          for (const buffer of message.buffers) {\n",
              "            buffers.push(buffer);\n",
              "            downloaded += buffer.byteLength;\n",
              "            progress.value = downloaded;\n",
              "          }\n",
              "        }\n",
              "      }\n",
              "      const blob = new Blob(buffers, {type: 'application/binary'});\n",
              "      const a = document.createElement('a');\n",
              "      a.href = window.URL.createObjectURL(blob);\n",
              "      a.download = filename;\n",
              "      div.appendChild(a);\n",
              "      a.click();\n",
              "      div.remove();\n",
              "    }\n",
              "  "
            ]
          },
          "metadata": {}
        },
        {
          "output_type": "display_data",
          "data": {
            "text/plain": [
              "<IPython.core.display.Javascript object>"
            ],
            "application/javascript": [
              "download(\"download_f5445b7f-e091-4ea5-9930-c765a03bbc55\", \"bhavneek_model.h5\", 19190640)"
            ]
          },
          "metadata": {}
        }
      ]
    },
    {
      "cell_type": "code",
      "source": [
        "files.download(\"tmp/checkpoint/checkpoint\")"
      ],
      "metadata": {
        "colab": {
          "base_uri": "https://localhost:8080/",
          "height": 17
        },
        "id": "h9eVYvhB9MZ3",
        "outputId": "d238b984-1b15-4376-d942-a25d1905bc01"
      },
      "execution_count": 56,
      "outputs": [
        {
          "output_type": "display_data",
          "data": {
            "text/plain": [
              "<IPython.core.display.Javascript object>"
            ],
            "application/javascript": [
              "\n",
              "    async function download(id, filename, size) {\n",
              "      if (!google.colab.kernel.accessAllowed) {\n",
              "        return;\n",
              "      }\n",
              "      const div = document.createElement('div');\n",
              "      const label = document.createElement('label');\n",
              "      label.textContent = `Downloading \"${filename}\": `;\n",
              "      div.appendChild(label);\n",
              "      const progress = document.createElement('progress');\n",
              "      progress.max = size;\n",
              "      div.appendChild(progress);\n",
              "      document.body.appendChild(div);\n",
              "\n",
              "      const buffers = [];\n",
              "      let downloaded = 0;\n",
              "\n",
              "      const channel = await google.colab.kernel.comms.open(id);\n",
              "      // Send a message to notify the kernel that we're ready.\n",
              "      channel.send({})\n",
              "\n",
              "      for await (const message of channel.messages) {\n",
              "        // Send a message to notify the kernel that we're ready.\n",
              "        channel.send({})\n",
              "        if (message.buffers) {\n",
              "          for (const buffer of message.buffers) {\n",
              "            buffers.push(buffer);\n",
              "            downloaded += buffer.byteLength;\n",
              "            progress.value = downloaded;\n",
              "          }\n",
              "        }\n",
              "      }\n",
              "      const blob = new Blob(buffers, {type: 'application/binary'});\n",
              "      const a = document.createElement('a');\n",
              "      a.href = window.URL.createObjectURL(blob);\n",
              "      a.download = filename;\n",
              "      div.appendChild(a);\n",
              "      a.click();\n",
              "      div.remove();\n",
              "    }\n",
              "  "
            ]
          },
          "metadata": {}
        },
        {
          "output_type": "display_data",
          "data": {
            "text/plain": [
              "<IPython.core.display.Javascript object>"
            ],
            "application/javascript": [
              "download(\"download_599a35b0-4250-43bb-9be4-79df47b3d5cd\", \"checkpoint\", 59)"
            ]
          },
          "metadata": {}
        }
      ]
    },
    {
      "cell_type": "code",
      "source": [
        "loaded_model = tf.keras.models.load_model(\"/content/drive/My Drive/bhavneek_model.h5\")"
      ],
      "metadata": {
        "id": "iR03CSCe8oF-"
      },
      "execution_count": 24,
      "outputs": []
    },
    {
      "cell_type": "code",
      "source": [
        "embedding_layer = loaded_model.get_layer('embedding')\n",
        "embedding_weights = embedding_layer.get_weights()[0]"
      ],
      "metadata": {
        "id": "t1oJ5cXit591"
      },
      "execution_count": 25,
      "outputs": []
    },
    {
      "cell_type": "code",
      "source": [
        "from keras.models import Sequential\n",
        "from keras.layers import Dense, LSTM, Embedding, Bidirectional\n",
        "\n",
        "model_2 = Sequential([\n",
        "    tf.keras.layers.Input(shape=(78), dtype='int32'),\n",
        "    tf.keras.layers.Embedding(\n",
        "        input_dim=embedding_weights.shape[0],\n",
        "        output_dim=embedding_weights.shape[1],\n",
        "        weights=[embedding_weights],\n",
        "        trainable=False\n",
        "    ),\n",
        "    \n",
        "    Bidirectional(LSTM(units = 128, return_sequences = True)),\n",
        "    Bidirectional(LSTM(units = 128, return_sequences = True)),\n",
        "    Dense(24, activation = 'softmax')\n",
        "])\n",
        "\n",
        "model_2.compile(optimizer = 'adam', loss = 'categorical_crossentropy', metrics = ['accuracy'])"
      ],
      "metadata": {
        "id": "U2iRXvZVstAs"
      },
      "execution_count": 30,
      "outputs": []
    },
    {
      "cell_type": "code",
      "source": [
        "model_2.summary()"
      ],
      "metadata": {
        "colab": {
          "base_uri": "https://localhost:8080/"
        },
        "id": "QhxDSPuOupVC",
        "outputId": "e66da9ac-7be9-4082-9faa-77ea23cfe297"
      },
      "execution_count": 31,
      "outputs": [
        {
          "output_type": "stream",
          "name": "stdout",
          "text": [
            "Model: \"sequential_1\"\n",
            "_________________________________________________________________\n",
            " Layer (type)                Output Shape              Param #   \n",
            "=================================================================\n",
            " embedding_1 (Embedding)     (None, 78, 100)           1489400   \n",
            "                                                                 \n",
            " bidirectional_2 (Bidirectio  (None, 78, 256)          234496    \n",
            " nal)                                                            \n",
            "                                                                 \n",
            " bidirectional_3 (Bidirectio  (None, 78, 256)          394240    \n",
            " nal)                                                            \n",
            "                                                                 \n",
            " dense_1 (Dense)             (None, 78, 24)            6168      \n",
            "                                                                 \n",
            "=================================================================\n",
            "Total params: 2,124,304\n",
            "Trainable params: 634,904\n",
            "Non-trainable params: 1,489,400\n",
            "_________________________________________________________________\n"
          ]
        }
      ]
    },
    {
      "cell_type": "code",
      "source": [
        "history_2 = model_2.fit(Xtrain, Ytrain_cat, epochs = 10, validation_data=(Xtest,Ytest_cat), callbacks=[model_checkpoint_callback])"
      ],
      "metadata": {
        "colab": {
          "base_uri": "https://localhost:8080/"
        },
        "id": "l-bYSJxatDIM",
        "outputId": "8ceab5e7-4ac5-4d65-96e4-4d9f717db335"
      },
      "execution_count": 34,
      "outputs": [
        {
          "output_type": "stream",
          "name": "stdout",
          "text": [
            "Epoch 1/10\n",
            "280/280 [==============================] - 6s 22ms/step - loss: 0.3496 - accuracy: 0.8699 - val_loss: 0.6046 - val_accuracy: 0.8233\n",
            "Epoch 2/10\n",
            "280/280 [==============================] - 6s 22ms/step - loss: 0.2825 - accuracy: 0.8956 - val_loss: 0.6899 - val_accuracy: 0.8257\n",
            "Epoch 3/10\n",
            "280/280 [==============================] - 5s 17ms/step - loss: 0.2550 - accuracy: 0.9063 - val_loss: 0.6552 - val_accuracy: 0.8268\n",
            "Epoch 4/10\n",
            "280/280 [==============================] - 5s 20ms/step - loss: 0.2310 - accuracy: 0.9156 - val_loss: 0.7217 - val_accuracy: 0.8275\n",
            "Epoch 5/10\n",
            "280/280 [==============================] - 5s 18ms/step - loss: 0.2167 - accuracy: 0.9208 - val_loss: 0.6871 - val_accuracy: 0.8294\n",
            "Epoch 6/10\n",
            "280/280 [==============================] - 5s 17ms/step - loss: 0.2046 - accuracy: 0.9258 - val_loss: 0.6585 - val_accuracy: 0.8302\n",
            "Epoch 7/10\n",
            "280/280 [==============================] - 6s 21ms/step - loss: 0.1915 - accuracy: 0.9308 - val_loss: 0.7680 - val_accuracy: 0.8288\n",
            "Epoch 8/10\n",
            "280/280 [==============================] - 5s 17ms/step - loss: 0.1814 - accuracy: 0.9348 - val_loss: 0.7536 - val_accuracy: 0.8310\n",
            "Epoch 9/10\n",
            "280/280 [==============================] - 6s 21ms/step - loss: 0.1697 - accuracy: 0.9393 - val_loss: 0.8287 - val_accuracy: 0.8304\n",
            "Epoch 10/10\n",
            "280/280 [==============================] - 5s 19ms/step - loss: 0.1606 - accuracy: 0.9426 - val_loss: 0.8011 - val_accuracy: 0.8300\n"
          ]
        }
      ]
    },
    {
      "cell_type": "code",
      "source": [
        "history_2_2 = model_2.fit(Xtrain, Ytrain_cat, epochs = 10, validation_data=(Xtest,Ytest_cat), callbacks=[model_checkpoint_callback])"
      ],
      "metadata": {
        "colab": {
          "base_uri": "https://localhost:8080/"
        },
        "id": "U2eWdcPFPDtR",
        "outputId": "85f8b4ce-41fb-4d82-84a7-1157afcab7af"
      },
      "execution_count": 35,
      "outputs": [
        {
          "output_type": "stream",
          "name": "stdout",
          "text": [
            "Epoch 1/10\n",
            "280/280 [==============================] - 5s 17ms/step - loss: 0.1515 - accuracy: 0.9463 - val_loss: 0.8359 - val_accuracy: 0.8301\n",
            "Epoch 2/10\n",
            "280/280 [==============================] - 5s 17ms/step - loss: 0.1428 - accuracy: 0.9494 - val_loss: 0.8970 - val_accuracy: 0.8309\n",
            "Epoch 3/10\n",
            "280/280 [==============================] - 6s 20ms/step - loss: 0.1315 - accuracy: 0.9537 - val_loss: 0.8257 - val_accuracy: 0.8302\n",
            "Epoch 4/10\n",
            "280/280 [==============================] - 5s 17ms/step - loss: 0.1220 - accuracy: 0.9574 - val_loss: 0.9424 - val_accuracy: 0.8311\n",
            "Epoch 5/10\n",
            "280/280 [==============================] - 5s 20ms/step - loss: 0.1123 - accuracy: 0.9610 - val_loss: 0.9644 - val_accuracy: 0.8310\n",
            "Epoch 6/10\n",
            "280/280 [==============================] - 5s 18ms/step - loss: 0.1036 - accuracy: 0.9645 - val_loss: 1.0364 - val_accuracy: 0.8297\n",
            "Epoch 7/10\n",
            "280/280 [==============================] - 5s 16ms/step - loss: 0.0983 - accuracy: 0.9662 - val_loss: 1.0430 - val_accuracy: 0.8300\n",
            "Epoch 8/10\n",
            "280/280 [==============================] - 6s 21ms/step - loss: 0.0892 - accuracy: 0.9695 - val_loss: 1.0772 - val_accuracy: 0.8312\n",
            "Epoch 9/10\n",
            "280/280 [==============================] - 5s 17ms/step - loss: 0.0791 - accuracy: 0.9734 - val_loss: 1.1175 - val_accuracy: 0.8315\n",
            "Epoch 10/10\n",
            "280/280 [==============================] - 5s 18ms/step - loss: 0.0748 - accuracy: 0.9747 - val_loss: 1.1189 - val_accuracy: 0.8307\n"
          ]
        }
      ]
    },
    {
      "cell_type": "code",
      "source": [
        "pd.DataFrame(history_2.history).plot(figsize=(10, 7));"
      ],
      "metadata": {
        "colab": {
          "base_uri": "https://localhost:8080/",
          "height": 428
        },
        "id": "y8L-GdqaPkE1",
        "outputId": "9fbdcf3b-5878-44aa-def1-491a230a1ef1"
      },
      "execution_count": 38,
      "outputs": [
        {
          "output_type": "display_data",
          "data": {
            "text/plain": [
              "<Figure size 720x504 with 1 Axes>"
            ],
            "image/png": "[encoded data removed]"
          },
          "metadata": {
            "needs_background": "light"
          }
        }
      ]
    },
    {
      "cell_type": "code",
      "source": [
        "pd.DataFrame(history_2_2.history).plot(figsize=(10, 7));"
      ],
      "metadata": {
        "colab": {
          "base_uri": "https://localhost:8080/",
          "height": 428
        },
        "id": "Y0rcVZltBQ7G",
        "outputId": "268a12d0-60a9-40d2-efec-7eb23c5e5b04"
      },
      "execution_count": 37,
      "outputs": [
        {
          "output_type": "display_data",
          "data": {
            "text/plain": [
              "<Figure size 720x504 with 1 Axes>"
            ],
            "image/png": "[encoded data removed]"
          },
          "metadata": {
            "needs_background": "light"
          }
        }
      ]
    },
    {
      "cell_type": "markdown",
      "source": [
        "Runtime keeps disconnecting, model is too big to train"
      ],
      "metadata": {
        "id": "S0lwFmRQNO4o"
      }
    },
    {
      "cell_type": "code",
      "source": [
        "model_2.load_weights(\"tmp/checkpoint/\")\n",
        "model_2.save(\"tmp/bhavneek_model_2.h5\")\n",
        "\n",
        "from google.colab import files\n",
        "files.download(\"tmp/bhavneek_model_2.h5\")\n",
        "files.download(\"tmp/checkpoint/checkpoint\")"
      ],
      "metadata": {
        "colab": {
          "base_uri": "https://localhost:8080/",
          "height": 17
        },
        "id": "D5T_Sk1QBdwy",
        "outputId": "bb69e206-764e-4830-d15c-a638e638c38c"
      },
      "execution_count": 39,
      "outputs": [
        {
          "output_type": "display_data",
          "data": {
            "text/plain": [
              "<IPython.core.display.Javascript object>"
            ],
            "application/javascript": [
              "\n",
              "    async function download(id, filename, size) {\n",
              "      if (!google.colab.kernel.accessAllowed) {\n",
              "        return;\n",
              "      }\n",
              "      const div = document.createElement('div');\n",
              "      const label = document.createElement('label');\n",
              "      label.textContent = `Downloading \"${filename}\": `;\n",
              "      div.appendChild(label);\n",
              "      const progress = document.createElement('progress');\n",
              "      progress.max = size;\n",
              "      div.appendChild(progress);\n",
              "      document.body.appendChild(div);\n",
              "\n",
              "      const buffers = [];\n",
              "      let downloaded = 0;\n",
              "\n",
              "      const channel = await google.colab.kernel.comms.open(id);\n",
              "      // Send a message to notify the kernel that we're ready.\n",
              "      channel.send({})\n",
              "\n",
              "      for await (const message of channel.messages) {\n",
              "        // Send a message to notify the kernel that we're ready.\n",
              "        channel.send({})\n",
              "        if (message.buffers) {\n",
              "          for (const buffer of message.buffers) {\n",
              "            buffers.push(buffer);\n",
              "            downloaded += buffer.byteLength;\n",
              "            progress.value = downloaded;\n",
              "          }\n",
              "        }\n",
              "      }\n",
              "      const blob = new Blob(buffers, {type: 'application/binary'});\n",
              "      const a = document.createElement('a');\n",
              "      a.href = window.URL.createObjectURL(blob);\n",
              "      a.download = filename;\n",
              "      div.appendChild(a);\n",
              "      a.click();\n",
              "      div.remove();\n",
              "    }\n",
              "  "
            ]
          },
          "metadata": {}
        },
        {
          "output_type": "display_data",
          "data": {
            "text/plain": [
              "<IPython.core.display.Javascript object>"
            ],
            "application/javascript": [
              "download(\"download_20ddf857-e0de-43cd-9ca4-f4ea429273f1\", \"bhavneek_model_2.h5\", 13647248)"
            ]
          },
          "metadata": {}
        },
        {
          "output_type": "display_data",
          "data": {
            "text/plain": [
              "<IPython.core.display.Javascript object>"
            ],
            "application/javascript": [
              "\n",
              "    async function download(id, filename, size) {\n",
              "      if (!google.colab.kernel.accessAllowed) {\n",
              "        return;\n",
              "      }\n",
              "      const div = document.createElement('div');\n",
              "      const label = document.createElement('label');\n",
              "      label.textContent = `Downloading \"${filename}\": `;\n",
              "      div.appendChild(label);\n",
              "      const progress = document.createElement('progress');\n",
              "      progress.max = size;\n",
              "      div.appendChild(progress);\n",
              "      document.body.appendChild(div);\n",
              "\n",
              "      const buffers = [];\n",
              "      let downloaded = 0;\n",
              "\n",
              "      const channel = await google.colab.kernel.comms.open(id);\n",
              "      // Send a message to notify the kernel that we're ready.\n",
              "      channel.send({})\n",
              "\n",
              "      for await (const message of channel.messages) {\n",
              "        // Send a message to notify the kernel that we're ready.\n",
              "        channel.send({})\n",
              "        if (message.buffers) {\n",
              "          for (const buffer of message.buffers) {\n",
              "            buffers.push(buffer);\n",
              "            downloaded += buffer.byteLength;\n",
              "            progress.value = downloaded;\n",
              "          }\n",
              "        }\n",
              "      }\n",
              "      const blob = new Blob(buffers, {type: 'application/binary'});\n",
              "      const a = document.createElement('a');\n",
              "      a.href = window.URL.createObjectURL(blob);\n",
              "      a.download = filename;\n",
              "      div.appendChild(a);\n",
              "      a.click();\n",
              "      div.remove();\n",
              "    }\n",
              "  "
            ]
          },
          "metadata": {}
        },
        {
          "output_type": "display_data",
          "data": {
            "text/plain": [
              "<IPython.core.display.Javascript object>"
            ],
            "application/javascript": [
              "download(\"download_ba253248-ad77-40bf-b017-d6a68f8d97df\", \"checkpoint\", 59)"
            ]
          },
          "metadata": {}
        }
      ]
    },
    {
      "cell_type": "markdown",
      "source": [],
      "metadata": {
        "id": "hWyineWussvY"
      }
    },
    {
      "cell_type": "code",
      "source": [
        "Y_pred_cat_1 = loaded_model.predict(Xtest)\n",
        "Y_pred_cat_2 = model_2.predict(Xtest)"
      ],
      "metadata": {
        "colab": {
          "base_uri": "https://localhost:8080/"
        },
        "id": "L03lzxlH-up2",
        "outputId": "4a5143be-b0e4-4087-93e3-0096c1d8e347"
      },
      "execution_count": 41,
      "outputs": [
        {
          "output_type": "stream",
          "name": "stdout",
          "text": [
            "63/63 [==============================] - 3s 11ms/step\n",
            "63/63 [==============================] - 2s 9ms/step\n"
          ]
        }
      ]
    },
    {
      "cell_type": "code",
      "source": [
        "print(Y_pred_cat_1.shape)\n",
        "print(Y_pred_cat_2.shape)"
      ],
      "metadata": {
        "colab": {
          "base_uri": "https://localhost:8080/"
        },
        "id": "tURKh6EH-1jc",
        "outputId": "caca4688-98e7-49ca-9a93-5913b3e5c81d"
      },
      "execution_count": 42,
      "outputs": [
        {
          "output_type": "stream",
          "name": "stdout",
          "text": [
            "(2012, 78, 24)\n",
            "(2012, 78, 24)\n"
          ]
        }
      ]
    },
    {
      "cell_type": "code",
      "source": [
        "from tensorflow.python.ops.math_ops import argmax\n",
        "Y_pred_label_1 = []\n",
        "Y_pred_label_2 = []\n",
        "\n",
        "for i in range(len(Y_pred_cat_1)):\n",
        "  arr1 = []\n",
        "  arr2 = []\n",
        "  for j in range(len(Y_pred_cat_1[i])):\n",
        "    arr1.append(argmax(Y_pred_cat_1[i][j]))\n",
        "    arr2.append(argmax(Y_pred_cat_2[i][j]))\n",
        "  arr1 = np.array(arr1)\n",
        "  arr2 = np.array(arr2)\n",
        "  Y_pred_label_1.append(arr1)\n",
        "  Y_pred_label_2.append(arr2)\n",
        "\n",
        "Y_pred_label_1 = np.array(Y_pred_label_1)\n",
        "Y_pred_label_2 = np.array(Y_pred_label_2)"
      ],
      "metadata": {
        "id": "gEcC-hKo_Blu"
      },
      "execution_count": 43,
      "outputs": []
    },
    {
      "cell_type": "code",
      "source": [
        "print(Y_pred_label_1.shape)\n",
        "print(Y_pred_label_2.shape)"
      ],
      "metadata": {
        "colab": {
          "base_uri": "https://localhost:8080/"
        },
        "id": "HhlRmvFeRfXh",
        "outputId": "c46b473f-6e9b-4924-b693-ae6a1851e6b7"
      },
      "execution_count": 44,
      "outputs": [
        {
          "output_type": "stream",
          "name": "stdout",
          "text": [
            "(2012, 78)\n",
            "(2012, 78)\n"
          ]
        }
      ]
    },
    {
      "cell_type": "code",
      "source": [
        "from itertools import chain\n",
        "\n",
        "Y_test_flat = list(chain.from_iterable(Ytest))\n",
        "Y_pred_flat_1 = list(chain.from_iterable(Y_pred_label_1))\n",
        "Y_pred_flat_2 = list(chain.from_iterable(Y_pred_label_2))"
      ],
      "metadata": {
        "id": "UNm24jR9RvtL"
      },
      "execution_count": 48,
      "outputs": []
    },
    {
      "cell_type": "code",
      "source": [
        "from sklearn.metrics import f1_score\n",
        "\n",
        "def get_scores(predY, trueY):\n",
        "  print(\"Micro F1 score: \", f1_score(trueY, predY, average=\"micro\"))\n",
        "  print(\"Macro F1 score: \", f1_score(trueY, predY, average=\"macro\"))\n",
        "  print(\"Average F1 score: \", (f1_score(trueY, predY, average=\"micro\") + f1_score(trueY, predY, average=\"macro\")) / 2)"
      ],
      "metadata": {
        "id": "gWxr4QxjQ8hD"
      },
      "execution_count": 46,
      "outputs": []
    },
    {
      "cell_type": "code",
      "source": [
        "get_scores(Y_pred_flat_1, Y_test_flat)"
      ],
      "metadata": {
        "colab": {
          "base_uri": "https://localhost:8080/"
        },
        "id": "SbT7_wJeRzTU",
        "outputId": "ac1fea1a-56ed-472b-d0f8-a635917db01c"
      },
      "execution_count": 49,
      "outputs": [
        {
          "output_type": "stream",
          "name": "stdout",
          "text": [
            "Micro F1 score:  0.7014770352245502\n",
            "Macro F1 score:  0.05445911463788042\n",
            "Average F1 score:  0.3779680749312153\n"
          ]
        }
      ]
    },
    {
      "cell_type": "code",
      "source": [
        "get_scores(Y_pred_flat_2, Y_test_flat)"
      ],
      "metadata": {
        "colab": {
          "base_uri": "https://localhost:8080/"
        },
        "id": "CPCAIxzFSYV3",
        "outputId": "5059182a-56ed-48cb-e92f-d5709e01ee44"
      },
      "execution_count": 50,
      "outputs": [
        {
          "output_type": "stream",
          "name": "stdout",
          "text": [
            "Micro F1 score:  0.8314790742723148\n",
            "Macro F1 score:  0.30469352810425854\n",
            "Average F1 score:  0.5680863011882866\n"
          ]
        }
      ]
    },
    {
      "cell_type": "markdown",
      "source": [
        "Model 2 works significantly better"
      ],
      "metadata": {
        "id": "HGuq54HUS41c"
      }
    },
    {
      "cell_type": "code",
      "source": [
        "arr = np.arange(1,24)\n",
        "\n",
        "dict2 = {}\n",
        "for A, B in zip(labels, arr):\n",
        "    dict2[B] = A\n",
        "\n",
        "dict2"
      ],
      "metadata": {
        "colab": {
          "base_uri": "https://localhost:8080/"
        },
        "id": "e0Proca1INqw",
        "outputId": "c3e71878-8b12-434e-d6b1-47a8d213fc86"
      },
      "execution_count": 51,
      "outputs": [
        {
          "output_type": "execute_result",
          "data": {
            "text/plain": [
              "{1: 'B-SBAR',\n",
              " 2: 'I-PP',\n",
              " 3: 'I-UCP',\n",
              " 4: 'B-INTJ',\n",
              " 5: 'I-SBAR',\n",
              " 6: 'B-CONJP',\n",
              " 7: 'B-ADJP',\n",
              " 8: 'I-INTJ',\n",
              " 9: 'I-ADVP',\n",
              " 10: 'B-PRT',\n",
              " 11: 'I-PRT',\n",
              " 12: 'B-PP',\n",
              " 13: 'I-ADJP',\n",
              " 14: 'I-VP',\n",
              " 15: 'B-UCP',\n",
              " 16: 'I-LST',\n",
              " 17: 'O',\n",
              " 18: 'B-LST',\n",
              " 19: 'I-CONJP',\n",
              " 20: 'B-NP',\n",
              " 21: 'B-ADVP',\n",
              " 22: 'B-VP',\n",
              " 23: 'I-NP'}"
            ]
          },
          "metadata": {},
          "execution_count": 51
        }
      ]
    },
    {
      "cell_type": "code",
      "source": [
        "Y_pred_2 = []\n",
        "\n",
        "for i in range(len(Y_pred_label_2)):\n",
        "  arr = []\n",
        "  for j in range(len(Y_pred_label_2[i])):\n",
        "    if Y_pred_label_2[i][j] == 0:\n",
        "      continue\n",
        "    else:\n",
        "      arr.append(dict2[Y_pred_label_2[i][j]])\n",
        "  arr = np.array(arr)\n",
        "  Y_pred_2.append(arr)\n",
        "\n",
        "Y_pred_2 = np.array(Y_pred_2)"
      ],
      "metadata": {
        "colab": {
          "base_uri": "https://localhost:8080/"
        },
        "id": "P3UFjRPOIo70",
        "outputId": "86a625b6-b068-4ee1-cf0e-21a81b5fa11f"
      },
      "execution_count": 52,
      "outputs": [
        {
          "output_type": "stream",
          "name": "stderr",
          "text": [
            "<ipython-input-52-1c7942c01ab9>:13: VisibleDeprecationWarning: Creating an ndarray from ragged nested sequences (which is a list-or-tuple of lists-or-tuples-or ndarrays with different lengths or shapes) is deprecated. If you meant to do this, you must specify 'dtype=object' when creating the ndarray.\n",
            "  Y_pred_2 = np.array(Y_pred_2)\n"
          ]
        }
      ]
    },
    {
      "cell_type": "code",
      "source": [
        "ind = random.randint(0,len(Y_pred_2))\n",
        "print(Xt_sentences[ind])\n",
        "print(len(Y_test[ind]), Y_test[ind])\n",
        "print(len(Y_pred_2[ind]), Y_pred_2[ind])"
      ],
      "metadata": {
        "colab": {
          "base_uri": "https://localhost:8080/"
        },
        "id": "Ci73GnlzJWS9",
        "outputId": "63a3f69e-00c4-4c9a-9e9c-1c987483e918"
      },
      "execution_count": 58,
      "outputs": [
        {
          "output_type": "stream",
          "name": "stdout",
          "text": [
            "microsoft corp. 's earnings growth continued to outstrip that of most of its competitors and customers in the personal-computer industry , as it reported a 36 % jump in fiscal first-quarter earnings on a 33 % revenue gain . \n",
            "39 ['B-NP', 'I-NP', 'B-NP', 'I-NP', 'I-NP', 'B-VP', 'I-VP', 'I-VP', 'B-NP', 'B-PP', 'B-NP', 'B-PP', 'B-NP', 'I-NP', 'I-NP', 'I-NP', 'B-PP', 'B-NP', 'I-NP', 'I-NP', 'O', 'B-SBAR', 'B-NP', 'B-VP', 'B-NP', 'I-NP', 'I-NP', 'I-NP', 'B-PP', 'B-NP', 'I-NP', 'I-NP', 'B-PP', 'B-NP', 'I-NP', 'I-NP', 'I-NP', 'I-NP', 'O']\n",
            "39 ['B-NP' 'I-NP' 'B-NP' 'I-NP' 'I-NP' 'B-VP' 'B-PP' 'B-NP' 'B-PP' 'B-NP'\n",
            " 'B-PP' 'B-NP' 'I-NP' 'O' 'B-NP' 'B-PP' 'B-NP' 'I-NP' 'I-NP' 'I-NP' 'B-PP'\n",
            " 'B-SBAR' 'B-NP' 'B-VP' 'B-NP' 'I-NP' 'I-NP' 'I-NP' 'B-PP' 'B-NP' 'I-NP'\n",
            " 'I-NP' 'B-PP' 'B-NP' 'I-NP' 'I-NP' 'I-NP' 'I-NP' 'O']\n"
          ]
        }
      ]
    },
    {
      "cell_type": "code",
      "source": [
        "from keras.models import Sequential\n",
        "from keras.layers import Dense, LSTM, Embedding, Bidirectional\n",
        "\n",
        "model_3 = Sequential([\n",
        "    tf.keras.layers.Input(shape=(78), dtype='int32'),\n",
        "    tf.keras.layers.Embedding(\n",
        "        input_dim=embedding_weights.shape[0],\n",
        "        output_dim=embedding_weights.shape[1],\n",
        "        weights=[embedding_weights],\n",
        "        trainable=True\n",
        "    ),\n",
        "    \n",
        "    Bidirectional(LSTM(units = 512, return_sequences = True)),\n",
        "    Bidirectional(LSTM(units = 256, return_sequences = True)),\n",
        "    Bidirectional(LSTM(units = 128, return_sequences = True)),\n",
        "    Bidirectional(LSTM(units = 64, return_sequences = True)),\n",
        "    Dense(24, activation = 'softmax')\n",
        "])\n",
        "\n",
        "model_3.compile(optimizer = 'adam', loss = 'categorical_crossentropy', metrics = ['accuracy'])"
      ],
      "metadata": {
        "id": "E4WxVed9UZNM"
      },
      "execution_count": 65,
      "outputs": []
    },
    {
      "cell_type": "code",
      "source": [
        "model_3.summary()"
      ],
      "metadata": {
        "colab": {
          "base_uri": "https://localhost:8080/"
        },
        "id": "miy25d3SUoVG",
        "outputId": "e5487269-862a-4da6-cd1f-f578bf0efd6d"
      },
      "execution_count": 66,
      "outputs": [
        {
          "output_type": "stream",
          "name": "stdout",
          "text": [
            "Model: \"sequential_4\"\n",
            "_________________________________________________________________\n",
            " Layer (type)                Output Shape              Param #   \n",
            "=================================================================\n",
            " embedding_4 (Embedding)     (None, 78, 100)           1489400   \n",
            "                                                                 \n",
            " bidirectional_12 (Bidirecti  (None, 78, 1024)         2510848   \n",
            " onal)                                                           \n",
            "                                                                 \n",
            " bidirectional_13 (Bidirecti  (None, 78, 512)          2623488   \n",
            " onal)                                                           \n",
            "                                                                 \n",
            " bidirectional_14 (Bidirecti  (None, 78, 256)          656384    \n",
            " onal)                                                           \n",
            "                                                                 \n",
            " bidirectional_15 (Bidirecti  (None, 78, 128)          164352    \n",
            " onal)                                                           \n",
            "                                                                 \n",
            " dense_4 (Dense)             (None, 78, 24)            3096      \n",
            "                                                                 \n",
            "=================================================================\n",
            "Total params: 7,447,568\n",
            "Trainable params: 7,447,568\n",
            "Non-trainable params: 0\n",
            "_________________________________________________________________\n"
          ]
        }
      ]
    },
    {
      "cell_type": "code",
      "source": [
        "history_3 = model_3.fit(Xtrain, Ytrain_cat, epochs = 10, validation_data=(Xtest,Ytest_cat), callbacks=[model_checkpoint_callback])"
      ],
      "metadata": {
        "colab": {
          "base_uri": "https://localhost:8080/"
        },
        "id": "-bGZtMr3Uvu-",
        "outputId": "b132711d-0a98-4e07-e06a-e904c17f153b"
      },
      "execution_count": 67,
      "outputs": [
        {
          "output_type": "stream",
          "name": "stdout",
          "text": [
            "Epoch 1/10\n",
            "280/280 [==============================] - 45s 111ms/step - loss: 0.5707 - accuracy: 0.7959 - val_loss: 0.5485 - val_accuracy: 0.8167\n",
            "Epoch 2/10\n",
            "280/280 [==============================] - 21s 75ms/step - loss: 0.3619 - accuracy: 0.8706 - val_loss: 0.5971 - val_accuracy: 0.8242\n",
            "Epoch 3/10\n",
            "280/280 [==============================] - 19s 69ms/step - loss: 0.2834 - accuracy: 0.8989 - val_loss: 0.6158 - val_accuracy: 0.8253\n",
            "Epoch 4/10\n",
            "280/280 [==============================] - 18s 63ms/step - loss: 0.2359 - accuracy: 0.9150 - val_loss: 0.6404 - val_accuracy: 0.8251\n",
            "Epoch 5/10\n",
            "280/280 [==============================] - 17s 61ms/step - loss: 0.2050 - accuracy: 0.9263 - val_loss: 0.7043 - val_accuracy: 0.8275\n",
            "Epoch 6/10\n",
            "280/280 [==============================] - 18s 64ms/step - loss: 0.1779 - accuracy: 0.9363 - val_loss: 0.8157 - val_accuracy: 0.8276\n",
            "Epoch 7/10\n",
            "280/280 [==============================] - 17s 61ms/step - loss: 0.1553 - accuracy: 0.9451 - val_loss: 0.7979 - val_accuracy: 0.8291\n",
            "Epoch 8/10\n",
            "280/280 [==============================] - 17s 61ms/step - loss: 0.1352 - accuracy: 0.9525 - val_loss: 0.8039 - val_accuracy: 0.8293\n",
            "Epoch 9/10\n",
            "280/280 [==============================] - 18s 65ms/step - loss: 0.1185 - accuracy: 0.9587 - val_loss: 0.9159 - val_accuracy: 0.8290\n",
            "Epoch 10/10\n",
            "280/280 [==============================] - 17s 61ms/step - loss: 0.1015 - accuracy: 0.9652 - val_loss: 0.9109 - val_accuracy: 0.8284\n"
          ]
        }
      ]
    },
    {
      "cell_type": "code",
      "source": [
        "pd.DataFrame(history_3.history).plot(figsize=(10, 7));"
      ],
      "metadata": {
        "colab": {
          "base_uri": "https://localhost:8080/",
          "height": 429
        },
        "id": "MjONwTgkUzF0",
        "outputId": "59e8ec51-682d-45a9-f8b5-9307a1b6a075"
      },
      "execution_count": 68,
      "outputs": [
        {
          "output_type": "display_data",
          "data": {
            "text/plain": [
              "<Figure size 720x504 with 1 Axes>"
            ],
            "image/png": "[encoded data removed]"
          },
          "metadata": {
            "needs_background": "light"
          }
        }
      ]
    },
    {
      "cell_type": "code",
      "source": [
        "model_3.save(\"tmp/bhavneek_model_3.h5\")\n",
        "\n",
        "from google.colab import files\n",
        "files.download(\"tmp/bhavneek_model_3.h5\")"
      ],
      "metadata": {
        "colab": {
          "base_uri": "https://localhost:8080/",
          "height": 17
        },
        "id": "Oe5HS0_IX4Tl",
        "outputId": "f93a74b4-1553-4b77-edc2-74e8ce72288a"
      },
      "execution_count": 72,
      "outputs": [
        {
          "output_type": "display_data",
          "data": {
            "text/plain": [
              "<IPython.core.display.Javascript object>"
            ],
            "application/javascript": [
              "\n",
              "    async function download(id, filename, size) {\n",
              "      if (!google.colab.kernel.accessAllowed) {\n",
              "        return;\n",
              "      }\n",
              "      const div = document.createElement('div');\n",
              "      const label = document.createElement('label');\n",
              "      label.textContent = `Downloading \"${filename}\": `;\n",
              "      div.appendChild(label);\n",
              "      const progress = document.createElement('progress');\n",
              "      progress.max = size;\n",
              "      div.appendChild(progress);\n",
              "      document.body.appendChild(div);\n",
              "\n",
              "      const buffers = [];\n",
              "      let downloaded = 0;\n",
              "\n",
              "      const channel = await google.colab.kernel.comms.open(id);\n",
              "      // Send a message to notify the kernel that we're ready.\n",
              "      channel.send({})\n",
              "\n",
              "      for await (const message of channel.messages) {\n",
              "        // Send a message to notify the kernel that we're ready.\n",
              "        channel.send({})\n",
              "        if (message.buffers) {\n",
              "          for (const buffer of message.buffers) {\n",
              "            buffers.push(buffer);\n",
              "            downloaded += buffer.byteLength;\n",
              "            progress.value = downloaded;\n",
              "          }\n",
              "        }\n",
              "      }\n",
              "      const blob = new Blob(buffers, {type: 'application/binary'});\n",
              "      const a = document.createElement('a');\n",
              "      a.href = window.URL.createObjectURL(blob);\n",
              "      a.download = filename;\n",
              "      div.appendChild(a);\n",
              "      a.click();\n",
              "      div.remove();\n",
              "    }\n",
              "  "
            ]
          },
          "metadata": {}
        },
        {
          "output_type": "display_data",
          "data": {
            "text/plain": [
              "<IPython.core.display.Javascript object>"
            ],
            "application/javascript": [
              "download(\"download_fb43892f-efd9-4d8e-9467-3b0738b5982d\", \"bhavneek_model_3.h5\", 89492624)"
            ]
          },
          "metadata": {}
        }
      ]
    },
    {
      "cell_type": "code",
      "source": [
        "Y_pred_cat_3 = model_3.predict(Xtest)"
      ],
      "metadata": {
        "colab": {
          "base_uri": "https://localhost:8080/"
        },
        "id": "y8qaAKFTY1O-",
        "outputId": "d8736902-e6fc-463d-9218-63f11f781ad0"
      },
      "execution_count": 73,
      "outputs": [
        {
          "output_type": "stream",
          "name": "stdout",
          "text": [
            "63/63 [==============================] - 5s 23ms/step\n"
          ]
        }
      ]
    },
    {
      "cell_type": "code",
      "source": [
        "from tensorflow.python.ops.math_ops import argmax\n",
        "Y_pred_label_3 = []\n",
        "\n",
        "for i in range(len(Y_pred_cat_3)):\n",
        "  arr3 = []\n",
        "  for j in range(len(Y_pred_cat_3[i])):\n",
        "    arr3.append(argmax(Y_pred_cat_3[i][j]))\n",
        "  arr3 = np.array(arr3)\n",
        "  Y_pred_label_3.append(arr3)\n",
        "\n",
        "Y_pred_label_3 = np.array(Y_pred_label_3)"
      ],
      "metadata": {
        "id": "jec1BQBpYO3I"
      },
      "execution_count": 76,
      "outputs": []
    },
    {
      "cell_type": "code",
      "source": [
        "from itertools import chain\n",
        "Y_pred_flat_3 = list(chain.from_iterable(Y_pred_label_3))"
      ],
      "metadata": {
        "id": "g_lyT0Q4Y_Ye"
      },
      "execution_count": 78,
      "outputs": []
    },
    {
      "cell_type": "code",
      "source": [
        "get_scores(Y_pred_flat_3, Y_test_flat)"
      ],
      "metadata": {
        "colab": {
          "base_uri": "https://localhost:8080/"
        },
        "id": "SX8hUoDEZVzg",
        "outputId": "ac7f1e6d-9b51-4a31-ef61-3a73253020b1"
      },
      "execution_count": 79,
      "outputs": [
        {
          "output_type": "stream",
          "name": "stdout",
          "text": [
            "Micro F1 score:  0.8280445531936586\n",
            "Macro F1 score:  0.26701954519991744\n",
            "Average F1 score:  0.547532049196788\n"
          ]
        }
      ]
    },
    {
      "cell_type": "markdown",
      "source": [
        "Almost same as model_2"
      ],
      "metadata": {
        "id": "yNpnXrGnZlsF"
      }
    },
    {
      "cell_type": "code",
      "source": [
        "embedding_layer_3 = model_3.get_layer('embedding_4')\n",
        "embedding_weights_3 = embedding_layer_3.get_weights()[0]"
      ],
      "metadata": {
        "id": "mqc0z0sAiKl5"
      },
      "execution_count": 81,
      "outputs": []
    },
    {
      "cell_type": "code",
      "source": [
        "!pip install tensorflow-addons\n",
        "import tensorflow_addons as tfa\n",
        "from keras_contrib.layers import CRF\n",
        "from keras.models import Sequential\n",
        "from keras.layers import Dense, LSTM, Embedding, Bidirectional"
      ],
      "metadata": {
        "colab": {
          "base_uri": "https://localhost:8080/"
        },
        "id": "ygJDm0Ssh3fX",
        "outputId": "9f3e5c12-0ecc-4378-81a0-3ae8cbd3e663"
      },
      "execution_count": 97,
      "outputs": [
        {
          "output_type": "stream",
          "name": "stdout",
          "text": [
            "Looking in indexes: https://pypi.org/simple, https://us-python.pkg.dev/colab-wheels/public/simple/\n",
            "Requirement already satisfied: tensorflow-addons in /usr/local/lib/python3.9/dist-packages (0.19.0)\n",
            "Requirement already satisfied: packaging in /usr/local/lib/python3.9/dist-packages (from tensorflow-addons) (23.0)\n",
            "Requirement already satisfied: typeguard>=2.7 in /usr/local/lib/python3.9/dist-packages (from tensorflow-addons) (3.0.1)\n",
            "Requirement already satisfied: importlib-metadata>=3.6 in /usr/local/lib/python3.9/dist-packages (from typeguard>=2.7->tensorflow-addons) (6.0.0)\n",
            "Requirement already satisfied: typing-extensions>=4.4.0 in /usr/local/lib/python3.9/dist-packages (from typeguard>=2.7->tensorflow-addons) (4.5.0)\n",
            "Requirement already satisfied: zipp>=0.5 in /usr/local/lib/python3.9/dist-packages (from importlib-metadata>=3.6->typeguard>=2.7->tensorflow-addons) (3.15.0)\n"
          ]
        }
      ]
    },
    {
      "cell_type": "code",
      "source": [
        "import tensorflow as tf\n",
        "import tensorflow.keras.backend as K\n",
        "import tensorflow.keras.layers as L\n",
        "from tensorflow_addons.text import crf_log_likelihood, crf_decode\n",
        "\n",
        "\n",
        "class CRF(L.Layer):\n",
        "    def __init__(self,\n",
        "                 output_dim,\n",
        "                 sparse_target=True,\n",
        "                 **kwargs):\n",
        "        \"\"\"    \n",
        "        Args:\n",
        "            output_dim (int): the number of labels to tag each temporal input.\n",
        "            sparse_target (bool): whether the the ground-truth label represented in one-hot.\n",
        "        Input shape:\n",
        "            (batch_size, sentence length, output_dim)\n",
        "        Output shape:\n",
        "            (batch_size, sentence length, output_dim)\n",
        "        \"\"\"\n",
        "        super(CRF, self).__init__(**kwargs)\n",
        "        self.output_dim = int(output_dim) \n",
        "        self.sparse_target = sparse_target\n",
        "        self.input_spec = L.InputSpec(min_ndim=3)\n",
        "        self.supports_masking = False\n",
        "        self.sequence_lengths = None\n",
        "        self.transitions = None\n",
        "\n",
        "    def build(self, input_shape):\n",
        "        assert len(input_shape) == 3\n",
        "        f_shape = tf.TensorShape(input_shape)\n",
        "        input_spec = L.InputSpec(min_ndim=3, axes={-1: f_shape[-1]})\n",
        "\n",
        "        if f_shape[-1] is None:\n",
        "            raise ValueError('The last dimension of the inputs to `CRF` '\n",
        "                             'should be defined. Found `None`.')\n",
        "        if f_shape[-1] != self.output_dim:\n",
        "            raise ValueError('The last dimension of the input shape must be equal to output'\n",
        "                             ' shape. Use a linear layer if needed.')\n",
        "        self.input_spec = input_spec\n",
        "        self.transitions = self.add_weight(name='transitions',\n",
        "                                           shape=[self.output_dim, self.output_dim],\n",
        "                                           initializer='glorot_uniform',\n",
        "                                           trainable=True)\n",
        "        self.built = True\n",
        "\n",
        "    def compute_mask(self, inputs, mask=None):\n",
        "        # Just pass the received mask from previous layer, to the next layer or\n",
        "        # manipulate it if this layer changes the shape of the input\n",
        "        return mask\n",
        "\n",
        "    def call(self, inputs, sequence_lengths=None, training=None, **kwargs):\n",
        "        sequences = tf.convert_to_tensor(inputs, dtype=self.dtype)\n",
        "        if sequence_lengths is not None:\n",
        "            assert len(sequence_lengths.shape) == 2\n",
        "            assert tf.convert_to_tensor(sequence_lengths).dtype == 'int32'\n",
        "            seq_len_shape = tf.convert_to_tensor(sequence_lengths).get_shape().as_list()\n",
        "            assert seq_len_shape[1] == 1\n",
        "            self.sequence_lengths = K.flatten(sequence_lengths)\n",
        "        else:\n",
        "            self.sequence_lengths = tf.ones(tf.shape(inputs)[0], dtype=tf.int32) * (\n",
        "                tf.shape(inputs)[1]\n",
        "            )\n",
        "\n",
        "        viterbi_sequence, _ = crf_decode(sequences,\n",
        "                                         self.transitions,\n",
        "                                         self.sequence_lengths)\n",
        "        output = K.one_hot(viterbi_sequence, self.output_dim)\n",
        "        return K.in_train_phase(sequences, output)\n",
        "\n",
        "    @property\n",
        "    def loss(self):\n",
        "        def crf_loss(y_true, y_pred):\n",
        "            y_pred = tf.convert_to_tensor(y_pred, dtype=self.dtype)\n",
        "            log_likelihood, self.transitions = crf_log_likelihood(\n",
        "                y_pred,\n",
        "                tf.cast(K.argmax(y_true), dtype=tf.int32) if self.sparse_target else y_true,\n",
        "                self.sequence_lengths,\n",
        "                transition_params=self.transitions,\n",
        "            )\n",
        "            return tf.reduce_mean(-log_likelihood)\n",
        "        return crf_loss\n",
        "\n",
        "    @property\n",
        "    def accuracy(self):\n",
        "        def viterbi_accuracy(y_true, y_pred):\n",
        "            # -1e10 to avoid zero at sum(mask)\n",
        "            mask = K.cast(\n",
        "                K.all(K.greater(y_pred, -1e10), axis=2), K.floatx())\n",
        "            shape = tf.shape(y_pred)\n",
        "            sequence_lengths = tf.ones(shape[0], dtype=tf.int32) * (shape[1])\n",
        "            y_pred, _ = crf_decode(y_pred, self.transitions, sequence_lengths)\n",
        "            if self.sparse_target:\n",
        "                y_true = K.argmax(y_true, 2)\n",
        "            y_pred = K.cast(y_pred, 'int32')\n",
        "            y_true = K.cast(y_true, 'int32')\n",
        "            corrects = K.cast(K.equal(y_true, y_pred), K.floatx())\n",
        "            return K.sum(corrects * mask) / K.sum(mask)\n",
        "        return viterbi_accuracy\n",
        "\n",
        "    def compute_output_shape(self, input_shape):\n",
        "        tf.TensorShape(input_shape).assert_has_rank(3)\n",
        "        return input_shape[:2] + (self.output_dim,)\n",
        "\n",
        "    def get_config(self):\n",
        "        config = {\n",
        "            'output_dim': self.output_dim,\n",
        "            'sparse_target': self.sparse_target,\n",
        "            'supports_masking': self.supports_masking,\n",
        "            'transitions': K.eval(self.transitions)\n",
        "        }\n",
        "        base_config = super(CRF, self).get_config()\n",
        "        return dict(base_config, **config)"
      ],
      "metadata": {
        "id": "hsDmY5Njrn2R"
      },
      "execution_count": 116,
      "outputs": []
    },
    {
      "cell_type": "code",
      "source": [
        "input_layer = tf.keras.layers.Input(shape=(78), dtype='int32')\n",
        "\n",
        "embedding_layer = embedding_layer_3(input_layer)\n",
        "\n",
        "lstm_layer_1 = tf.keras.layers.Bidirectional(tf.keras.layers.LSTM(units=128, return_sequences=True))(embedding_layer)\n",
        "lstm_layer_2 = tf.keras.layers.Bidirectional(tf.keras.layers.LSTM(units=128, return_sequences=True))(lstm_layer_1)\n",
        "\n",
        "linear_layer = tf.keras.layers.Dense(24)(lstm_layer_2)\n",
        "crf = CRF(24)\n",
        "output_layer = crf(linear_layer)\n",
        "\n",
        "model_4 = tf.keras.Model(inputs=input_layer, outputs=output_layer)\n",
        "\n",
        "model_4.compile(optimizer='adam', loss=crf.loss, metrics=[crf.accuracy])"
      ],
      "metadata": {
        "colab": {
          "base_uri": "https://localhost:8080/",
          "height": 642
        },
        "id": "9oxvIzNIlNz0",
        "outputId": "f847ff6c-2aa2-42f5-d4c2-7d079f9864ee"
      },
      "execution_count": 124,
      "outputs": [
        {
          "output_type": "error",
          "ename": "TypeError",
          "evalue": "ignored",
          "traceback": [
            "\u001b[0;31m---------------------------------------------------------------------------\u001b[0m",
            "\u001b[0;31mTypeError\u001b[0m                                 Traceback (most recent call last)",
            "\u001b[0;32m<ipython-input-124-8bf243026e9f>\u001b[0m in \u001b[0;36m<module>\u001b[0;34m\u001b[0m\n\u001b[1;32m      8\u001b[0m \u001b[0mlinear_layer\u001b[0m \u001b[0;34m=\u001b[0m \u001b[0mtf\u001b[0m\u001b[0;34m.\u001b[0m\u001b[0mkeras\u001b[0m\u001b[0;34m.\u001b[0m\u001b[0mlayers\u001b[0m\u001b[0;34m.\u001b[0m\u001b[0mDense\u001b[0m\u001b[0;34m(\u001b[0m\u001b[0;36m24\u001b[0m\u001b[0;34m)\u001b[0m\u001b[0;34m(\u001b[0m\u001b[0mlstm_layer_2\u001b[0m\u001b[0;34m)\u001b[0m\u001b[0;34m\u001b[0m\u001b[0;34m\u001b[0m\u001b[0m\n\u001b[1;32m      9\u001b[0m \u001b[0mcrf\u001b[0m \u001b[0;34m=\u001b[0m \u001b[0mCRF\u001b[0m\u001b[0;34m(\u001b[0m\u001b[0;36m24\u001b[0m\u001b[0;34m)\u001b[0m\u001b[0;34m\u001b[0m\u001b[0;34m\u001b[0m\u001b[0m\n\u001b[0;32m---> 10\u001b[0;31m \u001b[0moutput_layer\u001b[0m \u001b[0;34m=\u001b[0m \u001b[0mcrf\u001b[0m\u001b[0;34m(\u001b[0m\u001b[0mlinear_layer\u001b[0m\u001b[0;34m)\u001b[0m\u001b[0;34m\u001b[0m\u001b[0;34m\u001b[0m\u001b[0m\n\u001b[0m\u001b[1;32m     11\u001b[0m \u001b[0;34m\u001b[0m\u001b[0m\n\u001b[1;32m     12\u001b[0m \u001b[0mmodel_4\u001b[0m \u001b[0;34m=\u001b[0m \u001b[0mtf\u001b[0m\u001b[0;34m.\u001b[0m\u001b[0mkeras\u001b[0m\u001b[0;34m.\u001b[0m\u001b[0mModel\u001b[0m\u001b[0;34m(\u001b[0m\u001b[0minputs\u001b[0m\u001b[0;34m=\u001b[0m\u001b[0minput_layer\u001b[0m\u001b[0;34m,\u001b[0m \u001b[0moutputs\u001b[0m\u001b[0;34m=\u001b[0m\u001b[0moutput_layer\u001b[0m\u001b[0;34m)\u001b[0m\u001b[0;34m\u001b[0m\u001b[0;34m\u001b[0m\u001b[0m\n",
            "\u001b[0;32m/usr/local/lib/python3.9/dist-packages/keras/utils/traceback_utils.py\u001b[0m in \u001b[0;36merror_handler\u001b[0;34m(*args, **kwargs)\u001b[0m\n\u001b[1;32m     68\u001b[0m             \u001b[0;31m# To get the full stack trace, call:\u001b[0m\u001b[0;34m\u001b[0m\u001b[0;34m\u001b[0m\u001b[0m\n\u001b[1;32m     69\u001b[0m             \u001b[0;31m# `tf.debugging.disable_traceback_filtering()`\u001b[0m\u001b[0;34m\u001b[0m\u001b[0;34m\u001b[0m\u001b[0m\n\u001b[0;32m---> 70\u001b[0;31m             \u001b[0;32mraise\u001b[0m \u001b[0me\u001b[0m\u001b[0;34m.\u001b[0m\u001b[0mwith_traceback\u001b[0m\u001b[0;34m(\u001b[0m\u001b[0mfiltered_tb\u001b[0m\u001b[0;34m)\u001b[0m \u001b[0;32mfrom\u001b[0m \u001b[0;32mNone\u001b[0m\u001b[0;34m\u001b[0m\u001b[0;34m\u001b[0m\u001b[0m\n\u001b[0m\u001b[1;32m     71\u001b[0m         \u001b[0;32mfinally\u001b[0m\u001b[0;34m:\u001b[0m\u001b[0;34m\u001b[0m\u001b[0;34m\u001b[0m\u001b[0m\n\u001b[1;32m     72\u001b[0m             \u001b[0;32mdel\u001b[0m \u001b[0mfiltered_tb\u001b[0m\u001b[0;34m\u001b[0m\u001b[0;34m\u001b[0m\u001b[0m\n",
            "\u001b[0;32m/tmp/__autograph_generated_file0ieunpfx.py\u001b[0m in \u001b[0;36mtf__call\u001b[0;34m(self, inputs, sequence_lengths, training, **kwargs)\u001b[0m\n\u001b[1;32m      8\u001b[0m                 \u001b[0mdo_return\u001b[0m \u001b[0;34m=\u001b[0m \u001b[0;32mFalse\u001b[0m\u001b[0;34m\u001b[0m\u001b[0;34m\u001b[0m\u001b[0m\n\u001b[1;32m      9\u001b[0m                 \u001b[0mretval_\u001b[0m \u001b[0;34m=\u001b[0m \u001b[0mag__\u001b[0m\u001b[0;34m.\u001b[0m\u001b[0mUndefinedReturnValue\u001b[0m\u001b[0;34m(\u001b[0m\u001b[0;34m)\u001b[0m\u001b[0;34m\u001b[0m\u001b[0;34m\u001b[0m\u001b[0m\n\u001b[0;32m---> 10\u001b[0;31m                 \u001b[0msequences\u001b[0m \u001b[0;34m=\u001b[0m \u001b[0mag__\u001b[0m\u001b[0;34m.\u001b[0m\u001b[0mconverted_call\u001b[0m\u001b[0;34m(\u001b[0m\u001b[0mag__\u001b[0m\u001b[0;34m.\u001b[0m\u001b[0mld\u001b[0m\u001b[0;34m(\u001b[0m\u001b[0mtf\u001b[0m\u001b[0;34m)\u001b[0m\u001b[0;34m.\u001b[0m\u001b[0mconvert_to_tensor\u001b[0m\u001b[0;34m,\u001b[0m \u001b[0;34m(\u001b[0m\u001b[0mag__\u001b[0m\u001b[0;34m.\u001b[0m\u001b[0mld\u001b[0m\u001b[0;34m(\u001b[0m\u001b[0minputs\u001b[0m\u001b[0;34m)\u001b[0m\u001b[0;34m,\u001b[0m\u001b[0;34m)\u001b[0m\u001b[0;34m,\u001b[0m \u001b[0mdict\u001b[0m\u001b[0;34m(\u001b[0m\u001b[0mdtype\u001b[0m\u001b[0;34m=\u001b[0m\u001b[0mag__\u001b[0m\u001b[0;34m.\u001b[0m\u001b[0mld\u001b[0m\u001b[0;34m(\u001b[0m\u001b[0mself\u001b[0m\u001b[0;34m)\u001b[0m\u001b[0;34m.\u001b[0m\u001b[0mdtype\u001b[0m\u001b[0;34m)\u001b[0m\u001b[0;34m,\u001b[0m \u001b[0mfscope\u001b[0m\u001b[0;34m)\u001b[0m\u001b[0;34m\u001b[0m\u001b[0;34m\u001b[0m\u001b[0m\n\u001b[0m\u001b[1;32m     11\u001b[0m \u001b[0;34m\u001b[0m\u001b[0m\n\u001b[1;32m     12\u001b[0m                 \u001b[0;32mdef\u001b[0m \u001b[0mget_state\u001b[0m\u001b[0;34m(\u001b[0m\u001b[0;34m)\u001b[0m\u001b[0;34m:\u001b[0m\u001b[0;34m\u001b[0m\u001b[0;34m\u001b[0m\u001b[0m\n",
            "\u001b[0;31mTypeError\u001b[0m: Exception encountered when calling layer \"crf_18\" (type CRF).\n\nin user code:\n\n    File \"<ipython-input-116-95b6002e8ea0>\", line 53, in call  *\n        sequences = tf.convert_to_tensor(inputs, dtype=self.dtype)\n\n    TypeError: 'dict' object is not callable\n\n\nCall arguments received by layer \"crf_18\" (type CRF):\n  • inputs=tf.Tensor(shape=(None, 78, 24), dtype=float32)\n  • sequence_lengths=None\n  • training=None\n  • kwargs=<class 'inspect._empty'>"
          ]
        }
      ]
    },
    {
      "cell_type": "code",
      "source": [
        "!pip install keras-crf"
      ],
      "metadata": {
        "colab": {
          "base_uri": "https://localhost:8080/"
        },
        "id": "1X-KPfFBxq1C",
        "outputId": "595fbd8d-a860-4500-cee1-2d5d3e28f960"
      },
      "execution_count": 131,
      "outputs": [
        {
          "output_type": "stream",
          "name": "stdout",
          "text": [
            "Looking in indexes: https://pypi.org/simple, https://us-python.pkg.dev/colab-wheels/public/simple/\n",
            "Collecting keras-crf\n",
            "  Downloading keras_crf-0.3.0-py3-none-any.whl (8.3 kB)\n",
            "Requirement already satisfied: tensorflow-addons in /usr/local/lib/python3.9/dist-packages (from keras-crf) (0.19.0)\n",
            "Requirement already satisfied: tensorflow in /usr/local/lib/python3.9/dist-packages (from keras-crf) (2.11.0)\n",
            "Requirement already satisfied: protobuf<3.20,>=3.9.2 in /usr/local/lib/python3.9/dist-packages (from tensorflow->keras-crf) (3.19.6)\n",
            "Requirement already satisfied: six>=1.12.0 in /usr/local/lib/python3.9/dist-packages (from tensorflow->keras-crf) (1.15.0)\n",
            "Requirement already satisfied: astunparse>=1.6.0 in /usr/local/lib/python3.9/dist-packages (from tensorflow->keras-crf) (1.6.3)\n",
            "Requirement already satisfied: h5py>=2.9.0 in /usr/local/lib/python3.9/dist-packages (from tensorflow->keras-crf) (3.1.0)\n",
            "Requirement already satisfied: opt-einsum>=2.3.2 in /usr/local/lib/python3.9/dist-packages (from tensorflow->keras-crf) (3.3.0)\n",
            "Requirement already satisfied: absl-py>=1.0.0 in /usr/local/lib/python3.9/dist-packages (from tensorflow->keras-crf) (1.4.0)\n",
            "Requirement already satisfied: termcolor>=1.1.0 in /usr/local/lib/python3.9/dist-packages (from tensorflow->keras-crf) (2.2.0)\n",
            "Requirement already satisfied: numpy>=1.20 in /usr/local/lib/python3.9/dist-packages (from tensorflow->keras-crf) (1.22.4)\n",
            "Requirement already satisfied: typing-extensions>=3.6.6 in /usr/local/lib/python3.9/dist-packages (from tensorflow->keras-crf) (4.5.0)\n",
            "Requirement already satisfied: tensorflow-io-gcs-filesystem>=0.23.1 in /usr/local/lib/python3.9/dist-packages (from tensorflow->keras-crf) (0.31.0)\n",
            "Requirement already satisfied: flatbuffers>=2.0 in /usr/local/lib/python3.9/dist-packages (from tensorflow->keras-crf) (23.3.3)\n",
            "Requirement already satisfied: tensorflow-estimator<2.12,>=2.11.0 in /usr/local/lib/python3.9/dist-packages (from tensorflow->keras-crf) (2.11.0)\n",
            "Requirement already satisfied: libclang>=13.0.0 in /usr/local/lib/python3.9/dist-packages (from tensorflow->keras-crf) (15.0.6.1)\n",
            "Requirement already satisfied: google-pasta>=0.1.1 in /usr/local/lib/python3.9/dist-packages (from tensorflow->keras-crf) (0.2.0)\n",
            "Requirement already satisfied: keras<2.12,>=2.11.0 in /usr/local/lib/python3.9/dist-packages (from tensorflow->keras-crf) (2.11.0)\n",
            "Requirement already satisfied: gast<=0.4.0,>=0.2.1 in /usr/local/lib/python3.9/dist-packages (from tensorflow->keras-crf) (0.4.0)\n",
            "Requirement already satisfied: tensorboard<2.12,>=2.11 in /usr/local/lib/python3.9/dist-packages (from tensorflow->keras-crf) (2.11.2)\n",
            "Requirement already satisfied: setuptools in /usr/local/lib/python3.9/dist-packages (from tensorflow->keras-crf) (63.4.3)\n",
            "Requirement already satisfied: wrapt>=1.11.0 in /usr/local/lib/python3.9/dist-packages (from tensorflow->keras-crf) (1.15.0)\n",
            "Requirement already satisfied: grpcio<2.0,>=1.24.3 in /usr/local/lib/python3.9/dist-packages (from tensorflow->keras-crf) (1.51.3)\n",
            "Requirement already satisfied: packaging in /usr/local/lib/python3.9/dist-packages (from tensorflow->keras-crf) (23.0)\n",
            "Requirement already satisfied: typeguard>=2.7 in /usr/local/lib/python3.9/dist-packages (from tensorflow-addons->keras-crf) (3.0.1)\n",
            "Requirement already satisfied: wheel<1.0,>=0.23.0 in /usr/local/lib/python3.9/dist-packages (from astunparse>=1.6.0->tensorflow->keras-crf) (0.38.4)\n",
            "Requirement already satisfied: google-auth<3,>=1.6.3 in /usr/local/lib/python3.9/dist-packages (from tensorboard<2.12,>=2.11->tensorflow->keras-crf) (2.16.2)\n",
            "Requirement already satisfied: tensorboard-data-server<0.7.0,>=0.6.0 in /usr/local/lib/python3.9/dist-packages (from tensorboard<2.12,>=2.11->tensorflow->keras-crf) (0.6.1)\n",
            "Requirement already satisfied: google-auth-oauthlib<0.5,>=0.4.1 in /usr/local/lib/python3.9/dist-packages (from tensorboard<2.12,>=2.11->tensorflow->keras-crf) (0.4.6)\n",
            "Requirement already satisfied: requests<3,>=2.21.0 in /usr/local/lib/python3.9/dist-packages (from tensorboard<2.12,>=2.11->tensorflow->keras-crf) (2.25.1)\n",
            "Requirement already satisfied: werkzeug>=1.0.1 in /usr/local/lib/python3.9/dist-packages (from tensorboard<2.12,>=2.11->tensorflow->keras-crf) (2.2.3)\n",
            "Requirement already satisfied: markdown>=2.6.8 in /usr/local/lib/python3.9/dist-packages (from tensorboard<2.12,>=2.11->tensorflow->keras-crf) (3.4.1)\n",
            "Requirement already satisfied: tensorboard-plugin-wit>=1.6.0 in /usr/local/lib/python3.9/dist-packages (from tensorboard<2.12,>=2.11->tensorflow->keras-crf) (1.8.1)\n",
            "Requirement already satisfied: importlib-metadata>=3.6 in /usr/local/lib/python3.9/dist-packages (from typeguard>=2.7->tensorflow-addons->keras-crf) (6.0.0)\n",
            "Requirement already satisfied: rsa<5,>=3.1.4 in /usr/local/lib/python3.9/dist-packages (from google-auth<3,>=1.6.3->tensorboard<2.12,>=2.11->tensorflow->keras-crf) (4.9)\n",
            "Requirement already satisfied: pyasn1-modules>=0.2.1 in /usr/local/lib/python3.9/dist-packages (from google-auth<3,>=1.6.3->tensorboard<2.12,>=2.11->tensorflow->keras-crf) (0.2.8)\n",
            "Requirement already satisfied: cachetools<6.0,>=2.0.0 in /usr/local/lib/python3.9/dist-packages (from google-auth<3,>=1.6.3->tensorboard<2.12,>=2.11->tensorflow->keras-crf) (5.3.0)\n",
            "Requirement already satisfied: requests-oauthlib>=0.7.0 in /usr/local/lib/python3.9/dist-packages (from google-auth-oauthlib<0.5,>=0.4.1->tensorboard<2.12,>=2.11->tensorflow->keras-crf) (1.3.1)\n",
            "Requirement already satisfied: zipp>=0.5 in /usr/local/lib/python3.9/dist-packages (from importlib-metadata>=3.6->typeguard>=2.7->tensorflow-addons->keras-crf) (3.15.0)\n",
            "Requirement already satisfied: chardet<5,>=3.0.2 in /usr/local/lib/python3.9/dist-packages (from requests<3,>=2.21.0->tensorboard<2.12,>=2.11->tensorflow->keras-crf) (4.0.0)\n",
            "Requirement already satisfied: urllib3<1.27,>=1.21.1 in /usr/local/lib/python3.9/dist-packages (from requests<3,>=2.21.0->tensorboard<2.12,>=2.11->tensorflow->keras-crf) (1.26.15)\n",
            "Requirement already satisfied: idna<3,>=2.5 in /usr/local/lib/python3.9/dist-packages (from requests<3,>=2.21.0->tensorboard<2.12,>=2.11->tensorflow->keras-crf) (2.10)\n",
            "Requirement already satisfied: certifi>=2017.4.17 in /usr/local/lib/python3.9/dist-packages (from requests<3,>=2.21.0->tensorboard<2.12,>=2.11->tensorflow->keras-crf) (2022.12.7)\n",
            "Requirement already satisfied: MarkupSafe>=2.1.1 in /usr/local/lib/python3.9/dist-packages (from werkzeug>=1.0.1->tensorboard<2.12,>=2.11->tensorflow->keras-crf) (2.1.2)\n",
            "Requirement already satisfied: pyasn1<0.5.0,>=0.4.6 in /usr/local/lib/python3.9/dist-packages (from pyasn1-modules>=0.2.1->google-auth<3,>=1.6.3->tensorboard<2.12,>=2.11->tensorflow->keras-crf) (0.4.8)\n",
            "Requirement already satisfied: oauthlib>=3.0.0 in /usr/local/lib/python3.9/dist-packages (from requests-oauthlib>=0.7.0->google-auth-oauthlib<0.5,>=0.4.1->tensorboard<2.12,>=2.11->tensorflow->keras-crf) (3.2.2)\n",
            "Installing collected packages: keras-crf\n",
            "Successfully installed keras-crf-0.3.0\n"
          ]
        }
      ]
    },
    {
      "cell_type": "code",
      "source": [
        "from keras_crf import CRFModel\n",
        "\n",
        "model_4 = Sequential()\n",
        "model_4.add(tf.keras.layers.Input(shape=(78), dtype='int32'))\n",
        "model_4.add(embedding_layer_3)\n",
        "model_4.add(tf.keras.layers.Bidirectional(tf.keras.layers.LSTM(units=128, return_sequences=True)))\n",
        "model_4.add(tf.keras.layers.Bidirectional(tf.keras.layers.LSTM(units=128, return_sequences=True)))\n",
        "model_4.add(Dense(256))\n",
        "model_4.compile('adam', loss=crf.loss, metrics=[crf.accuracy])\n",
        "\n",
        "model_4crf = CRFModel(model_4, 24)\n",
        "\n",
        "model_4crf.compile(\n",
        "    optimizer='adam',\n",
        "    metrics=['acc'],\n",
        "    )\n",
        "model_4crf.summary()"
      ],
      "metadata": {
        "colab": {
          "base_uri": "https://localhost:8080/"
        },
        "id": "HWq03RTMvDh3",
        "outputId": "857939a1-fbb8-4f29-fb03-ab00099895d7"
      },
      "execution_count": 139,
      "outputs": [
        {
          "output_type": "stream",
          "name": "stdout",
          "text": [
            "Model: \"crf_model_2\"\n",
            "__________________________________________________________________________________________________\n",
            " Layer (type)                   Output Shape         Param #     Connected to                     \n",
            "==================================================================================================\n",
            " input_39 (InputLayer)          [(None, 78)]         0           []                               \n",
            "                                                                                                  \n",
            " embedding_4 (Embedding)        (None, 78, 100)      1489400     ['input_39[0][0]']               \n",
            "                                                                                                  \n",
            " bidirectional_82 (Bidirectiona  (None, 78, 256)     234496      ['embedding_4[31][0]']           \n",
            " l)                                                                                               \n",
            "                                                                                                  \n",
            " bidirectional_83 (Bidirectiona  (None, 78, 256)     394240      ['bidirectional_82[0][0]']       \n",
            " l)                                                                                               \n",
            "                                                                                                  \n",
            " dense_34 (Dense)               (None, 78, 256)      65792       ['bidirectional_83[0][0]']       \n",
            "                                                                                                  \n",
            " crf_25 (CRF)                   [(None, 78),         6792        ['dense_34[0][0]']               \n",
            "                                 (None, 78, 24),                                                  \n",
            "                                 (None,),                                                         \n",
            "                                 (24, 24)]                                                        \n",
            "                                                                                                  \n",
            " decode_sequence (Lambda)       (None, 78)           0           ['crf_25[0][0]']                 \n",
            "                                                                                                  \n",
            " potentials (Lambda)            (None, 78, 24)       0           ['crf_25[0][1]']                 \n",
            "                                                                                                  \n",
            " sequence_length (Lambda)       (None,)              0           ['crf_25[0][2]']                 \n",
            "                                                                                                  \n",
            " kernel (Lambda)                (24, 24)             0           ['crf_25[0][3]']                 \n",
            "                                                                                                  \n",
            "==================================================================================================\n",
            "Total params: 2,190,720\n",
            "Trainable params: 2,190,720\n",
            "Non-trainable params: 0\n",
            "__________________________________________________________________________________________________\n"
          ]
        }
      ]
    },
    {
      "cell_type": "code",
      "source": [
        "history_4 = model_4crf.fit(Xtrain, Ytrain_cat, epochs = 10, validation_data=(Xtest,Ytest_cat), callbacks=[model_checkpoint_callback])"
      ],
      "metadata": {
        "colab": {
          "base_uri": "https://localhost:8080/",
          "height": 694
        },
        "id": "VS3EtxShjcNG",
        "outputId": "c22eda9b-ee0a-4802-d55e-4d24afa1e535"
      },
      "execution_count": 140,
      "outputs": [
        {
          "output_type": "stream",
          "name": "stdout",
          "text": [
            "Epoch 1/10\n"
          ]
        },
        {
          "output_type": "error",
          "ename": "ValueError",
          "evalue": "ignored",
          "traceback": [
            "\u001b[0;31m---------------------------------------------------------------------------\u001b[0m",
            "\u001b[0;31mValueError\u001b[0m                                Traceback (most recent call last)",
            "\u001b[0;32m<ipython-input-140-92a9e7dc223d>\u001b[0m in \u001b[0;36m<module>\u001b[0;34m\u001b[0m\n\u001b[0;32m----> 1\u001b[0;31m \u001b[0mhistory_4\u001b[0m \u001b[0;34m=\u001b[0m \u001b[0mmodel_4crf\u001b[0m\u001b[0;34m.\u001b[0m\u001b[0mfit\u001b[0m\u001b[0;34m(\u001b[0m\u001b[0mXtrain\u001b[0m\u001b[0;34m,\u001b[0m \u001b[0mYtrain_cat\u001b[0m\u001b[0;34m,\u001b[0m \u001b[0mepochs\u001b[0m \u001b[0;34m=\u001b[0m \u001b[0;36m10\u001b[0m\u001b[0;34m,\u001b[0m \u001b[0mvalidation_data\u001b[0m\u001b[0;34m=\u001b[0m\u001b[0;34m(\u001b[0m\u001b[0mXtest\u001b[0m\u001b[0;34m,\u001b[0m\u001b[0mYtest_cat\u001b[0m\u001b[0;34m)\u001b[0m\u001b[0;34m,\u001b[0m \u001b[0mcallbacks\u001b[0m\u001b[0;34m=\u001b[0m\u001b[0;34m[\u001b[0m\u001b[0mmodel_checkpoint_callback\u001b[0m\u001b[0;34m]\u001b[0m\u001b[0;34m)\u001b[0m\u001b[0;34m\u001b[0m\u001b[0;34m\u001b[0m\u001b[0m\n\u001b[0m",
            "\u001b[0;32m/usr/local/lib/python3.9/dist-packages/keras/utils/traceback_utils.py\u001b[0m in \u001b[0;36merror_handler\u001b[0;34m(*args, **kwargs)\u001b[0m\n\u001b[1;32m     68\u001b[0m             \u001b[0;31m# To get the full stack trace, call:\u001b[0m\u001b[0;34m\u001b[0m\u001b[0;34m\u001b[0m\u001b[0m\n\u001b[1;32m     69\u001b[0m             \u001b[0;31m# `tf.debugging.disable_traceback_filtering()`\u001b[0m\u001b[0;34m\u001b[0m\u001b[0;34m\u001b[0m\u001b[0m\n\u001b[0;32m---> 70\u001b[0;31m             \u001b[0;32mraise\u001b[0m \u001b[0me\u001b[0m\u001b[0;34m.\u001b[0m\u001b[0mwith_traceback\u001b[0m\u001b[0;34m(\u001b[0m\u001b[0mfiltered_tb\u001b[0m\u001b[0;34m)\u001b[0m \u001b[0;32mfrom\u001b[0m \u001b[0;32mNone\u001b[0m\u001b[0;34m\u001b[0m\u001b[0;34m\u001b[0m\u001b[0m\n\u001b[0m\u001b[1;32m     71\u001b[0m         \u001b[0;32mfinally\u001b[0m\u001b[0;34m:\u001b[0m\u001b[0;34m\u001b[0m\u001b[0;34m\u001b[0m\u001b[0m\n\u001b[1;32m     72\u001b[0m             \u001b[0;32mdel\u001b[0m \u001b[0mfiltered_tb\u001b[0m\u001b[0;34m\u001b[0m\u001b[0;34m\u001b[0m\u001b[0m\n",
            "\u001b[0;32m/usr/local/lib/python3.9/dist-packages/keras/engine/training.py\u001b[0m in \u001b[0;36mtf__train_function\u001b[0;34m(iterator)\u001b[0m\n\u001b[1;32m     13\u001b[0m                 \u001b[0;32mtry\u001b[0m\u001b[0;34m:\u001b[0m\u001b[0;34m\u001b[0m\u001b[0;34m\u001b[0m\u001b[0m\n\u001b[1;32m     14\u001b[0m                     \u001b[0mdo_return\u001b[0m \u001b[0;34m=\u001b[0m \u001b[0;32mTrue\u001b[0m\u001b[0;34m\u001b[0m\u001b[0;34m\u001b[0m\u001b[0m\n\u001b[0;32m---> 15\u001b[0;31m                     \u001b[0mretval_\u001b[0m \u001b[0;34m=\u001b[0m \u001b[0mag__\u001b[0m\u001b[0;34m.\u001b[0m\u001b[0mconverted_call\u001b[0m\u001b[0;34m(\u001b[0m\u001b[0mag__\u001b[0m\u001b[0;34m.\u001b[0m\u001b[0mld\u001b[0m\u001b[0;34m(\u001b[0m\u001b[0mstep_function\u001b[0m\u001b[0;34m)\u001b[0m\u001b[0;34m,\u001b[0m \u001b[0;34m(\u001b[0m\u001b[0mag__\u001b[0m\u001b[0;34m.\u001b[0m\u001b[0mld\u001b[0m\u001b[0;34m(\u001b[0m\u001b[0mself\u001b[0m\u001b[0;34m)\u001b[0m\u001b[0;34m,\u001b[0m \u001b[0mag__\u001b[0m\u001b[0;34m.\u001b[0m\u001b[0mld\u001b[0m\u001b[0;34m(\u001b[0m\u001b[0miterator\u001b[0m\u001b[0;34m)\u001b[0m\u001b[0;34m)\u001b[0m\u001b[0;34m,\u001b[0m \u001b[0;32mNone\u001b[0m\u001b[0;34m,\u001b[0m \u001b[0mfscope\u001b[0m\u001b[0;34m)\u001b[0m\u001b[0;34m\u001b[0m\u001b[0;34m\u001b[0m\u001b[0m\n\u001b[0m\u001b[1;32m     16\u001b[0m                 \u001b[0;32mexcept\u001b[0m\u001b[0;34m:\u001b[0m\u001b[0;34m\u001b[0m\u001b[0;34m\u001b[0m\u001b[0m\n\u001b[1;32m     17\u001b[0m                     \u001b[0mdo_return\u001b[0m \u001b[0;34m=\u001b[0m \u001b[0;32mFalse\u001b[0m\u001b[0;34m\u001b[0m\u001b[0;34m\u001b[0m\u001b[0m\n",
            "\u001b[0;32m/usr/local/lib/python3.9/dist-packages/tensorflow_addons/text/crf.py\u001b[0m in \u001b[0;36mcrf_log_likelihood\u001b[0;34m(inputs, tag_indices, sequence_lengths, transition_params)\u001b[0m\n\u001b[1;32m    239\u001b[0m         )\n\u001b[1;32m    240\u001b[0m     \u001b[0mtransition_params\u001b[0m \u001b[0;34m=\u001b[0m \u001b[0mtf\u001b[0m\u001b[0;34m.\u001b[0m\u001b[0mcast\u001b[0m\u001b[0;34m(\u001b[0m\u001b[0mtransition_params\u001b[0m\u001b[0;34m,\u001b[0m \u001b[0minputs\u001b[0m\u001b[0;34m.\u001b[0m\u001b[0mdtype\u001b[0m\u001b[0;34m)\u001b[0m\u001b[0;34m\u001b[0m\u001b[0;34m\u001b[0m\u001b[0m\n\u001b[0;32m--> 241\u001b[0;31m     sequence_scores = crf_sequence_score(\n\u001b[0m\u001b[1;32m    242\u001b[0m         \u001b[0minputs\u001b[0m\u001b[0;34m,\u001b[0m \u001b[0mtag_indices\u001b[0m\u001b[0;34m,\u001b[0m \u001b[0msequence_lengths\u001b[0m\u001b[0;34m,\u001b[0m \u001b[0mtransition_params\u001b[0m\u001b[0;34m\u001b[0m\u001b[0;34m\u001b[0m\u001b[0m\n\u001b[1;32m    243\u001b[0m     )\n",
            "\u001b[0;32m/usr/local/lib/python3.9/dist-packages/tensorflow_addons/text/crf.py\u001b[0m in \u001b[0;36mcrf_sequence_score\u001b[0;34m(inputs, tag_indices, sequence_lengths, transition_params)\u001b[0m\n\u001b[1;32m    102\u001b[0m         \u001b[0;32mreturn\u001b[0m \u001b[0msequence_scores\u001b[0m\u001b[0;34m\u001b[0m\u001b[0;34m\u001b[0m\u001b[0m\n\u001b[1;32m    103\u001b[0m \u001b[0;34m\u001b[0m\u001b[0m\n\u001b[0;32m--> 104\u001b[0;31m     \u001b[0;32mreturn\u001b[0m \u001b[0mtf\u001b[0m\u001b[0;34m.\u001b[0m\u001b[0mcond\u001b[0m\u001b[0;34m(\u001b[0m\u001b[0mtf\u001b[0m\u001b[0;34m.\u001b[0m\u001b[0mequal\u001b[0m\u001b[0;34m(\u001b[0m\u001b[0mtf\u001b[0m\u001b[0;34m.\u001b[0m\u001b[0mshape\u001b[0m\u001b[0;34m(\u001b[0m\u001b[0minputs\u001b[0m\u001b[0;34m)\u001b[0m\u001b[0;34m[\u001b[0m\u001b[0;36m1\u001b[0m\u001b[0;34m]\u001b[0m\u001b[0;34m,\u001b[0m \u001b[0;36m1\u001b[0m\u001b[0;34m)\u001b[0m\u001b[0;34m,\u001b[0m \u001b[0m_single_seq_fn\u001b[0m\u001b[0;34m,\u001b[0m \u001b[0m_multi_seq_fn\u001b[0m\u001b[0;34m)\u001b[0m\u001b[0;34m\u001b[0m\u001b[0;34m\u001b[0m\u001b[0m\n\u001b[0m\u001b[1;32m    105\u001b[0m \u001b[0;34m\u001b[0m\u001b[0m\n\u001b[1;32m    106\u001b[0m \u001b[0;34m\u001b[0m\u001b[0m\n",
            "\u001b[0;32m/usr/local/lib/python3.9/dist-packages/tensorflow_addons/text/crf.py\u001b[0m in \u001b[0;36m_multi_seq_fn\u001b[0;34m()\u001b[0m\n\u001b[1;32m     95\u001b[0m     \u001b[0;32mdef\u001b[0m \u001b[0m_multi_seq_fn\u001b[0m\u001b[0;34m(\u001b[0m\u001b[0;34m)\u001b[0m\u001b[0;34m:\u001b[0m\u001b[0;34m\u001b[0m\u001b[0;34m\u001b[0m\u001b[0m\n\u001b[1;32m     96\u001b[0m         \u001b[0;31m# Compute the scores of the given tag sequence.\u001b[0m\u001b[0;34m\u001b[0m\u001b[0;34m\u001b[0m\u001b[0m\n\u001b[0;32m---> 97\u001b[0;31m         \u001b[0munary_scores\u001b[0m \u001b[0;34m=\u001b[0m \u001b[0mcrf_unary_score\u001b[0m\u001b[0;34m(\u001b[0m\u001b[0mtag_indices\u001b[0m\u001b[0;34m,\u001b[0m \u001b[0msequence_lengths\u001b[0m\u001b[0;34m,\u001b[0m \u001b[0minputs\u001b[0m\u001b[0;34m)\u001b[0m\u001b[0;34m\u001b[0m\u001b[0;34m\u001b[0m\u001b[0m\n\u001b[0m\u001b[1;32m     98\u001b[0m         binary_scores = crf_binary_score(\n\u001b[1;32m     99\u001b[0m             \u001b[0mtag_indices\u001b[0m\u001b[0;34m,\u001b[0m \u001b[0msequence_lengths\u001b[0m\u001b[0;34m,\u001b[0m \u001b[0mtransition_params\u001b[0m\u001b[0;34m\u001b[0m\u001b[0;34m\u001b[0m\u001b[0m\n",
            "\u001b[0;32m/usr/local/lib/python3.9/dist-packages/tensorflow_addons/text/crf.py\u001b[0m in \u001b[0;36mcrf_unary_score\u001b[0;34m(tag_indices, sequence_lengths, inputs)\u001b[0m\n\u001b[1;32m    275\u001b[0m     \u001b[0;32mif\u001b[0m \u001b[0mtag_indices\u001b[0m\u001b[0;34m.\u001b[0m\u001b[0mdtype\u001b[0m \u001b[0;34m==\u001b[0m \u001b[0mtf\u001b[0m\u001b[0;34m.\u001b[0m\u001b[0mint64\u001b[0m\u001b[0;34m:\u001b[0m\u001b[0;34m\u001b[0m\u001b[0;34m\u001b[0m\u001b[0m\n\u001b[1;32m    276\u001b[0m         \u001b[0moffsets\u001b[0m \u001b[0;34m=\u001b[0m \u001b[0mtf\u001b[0m\u001b[0;34m.\u001b[0m\u001b[0mcast\u001b[0m\u001b[0;34m(\u001b[0m\u001b[0moffsets\u001b[0m\u001b[0;34m,\u001b[0m \u001b[0mtf\u001b[0m\u001b[0;34m.\u001b[0m\u001b[0mint64\u001b[0m\u001b[0;34m)\u001b[0m\u001b[0;34m\u001b[0m\u001b[0;34m\u001b[0m\u001b[0m\n\u001b[0;32m--> 277\u001b[0;31m     \u001b[0mflattened_tag_indices\u001b[0m \u001b[0;34m=\u001b[0m \u001b[0mtf\u001b[0m\u001b[0;34m.\u001b[0m\u001b[0mreshape\u001b[0m\u001b[0;34m(\u001b[0m\u001b[0moffsets\u001b[0m \u001b[0;34m+\u001b[0m \u001b[0mtag_indices\u001b[0m\u001b[0;34m,\u001b[0m \u001b[0;34m[\u001b[0m\u001b[0;34m-\u001b[0m\u001b[0;36m1\u001b[0m\u001b[0;34m]\u001b[0m\u001b[0;34m)\u001b[0m\u001b[0;34m\u001b[0m\u001b[0;34m\u001b[0m\u001b[0m\n\u001b[0m\u001b[1;32m    278\u001b[0m \u001b[0;34m\u001b[0m\u001b[0m\n\u001b[1;32m    279\u001b[0m     unary_scores = tf.reshape(\n",
            "\u001b[0;31mValueError\u001b[0m: in user code:\n\n    File \"/usr/local/lib/python3.9/dist-packages/keras/engine/training.py\", line 1249, in train_function  *\n        return step_function(self, iterator)\n    File \"/usr/local/lib/python3.9/dist-packages/keras/engine/training.py\", line 1233, in step_function  **\n        outputs = model.distribute_strategy.run(run_step, args=(data,))\n    File \"/usr/local/lib/python3.9/dist-packages/keras/engine/training.py\", line 1222, in run_step  **\n        outputs = model.train_step(data)\n    File \"/usr/local/lib/python3.9/dist-packages/keras_crf/crf_model.py\", line 49, in train_step\n        crf_loss = -tfa.text.crf_log_likelihood(potentials, y, sequence_length, kernel)[0]\n    File \"/usr/local/lib/python3.9/dist-packages/tensorflow_addons/text/crf.py\", line 241, in crf_log_likelihood\n        sequence_scores = crf_sequence_score(\n    File \"/usr/local/lib/python3.9/dist-packages/tensorflow_addons/text/crf.py\", line 104, in crf_sequence_score\n        return tf.cond(tf.equal(tf.shape(inputs)[1], 1), _single_seq_fn, _multi_seq_fn)\n    File \"/usr/local/lib/python3.9/dist-packages/tensorflow_addons/text/crf.py\", line 97, in _multi_seq_fn\n        unary_scores = crf_unary_score(tag_indices, sequence_lengths, inputs)\n    File \"/usr/local/lib/python3.9/dist-packages/tensorflow_addons/text/crf.py\", line 277, in crf_unary_score\n        flattened_tag_indices = tf.reshape(offsets + tag_indices, [-1])\n\n    ValueError: Dimensions must be equal, but are 78 and 24 for '{{node cond/add_1}} = AddV2[T=DT_INT32](cond/add, cond/add_1/Cast)' with input shapes: [?,78], [?,78,24].\n"
          ]
        }
      ]
    }
  ]
}