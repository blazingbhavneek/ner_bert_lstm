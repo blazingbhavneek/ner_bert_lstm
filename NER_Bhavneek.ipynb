{
  "nbformat": 4,
  "nbformat_minor": 0,
  "metadata": {
    "colab": {
      "provenance": [],
      "mount_file_id": "1xs_r4p7xrctqpBj6aFwti9EWhd9pT-WV",
      "authorship_tag": "ABX9TyOADDIvquWHod2yYA5/+7ot",
      "include_colab_link": true
    },
    "kernelspec": {
      "name": "python3",
      "display_name": "Python 3"
    },
    "language_info": {
      "name": "python"
    },
    "accelerator": "GPU",
    "gpuClass": "standard"
  },
  "cells": [
    {
      "cell_type": "markdown",
      "metadata": {
        "id": "view-in-github",
        "colab_type": "text"
      },
      "source": [
        "<a href=\"https://colab.research.google.com/github/blazingbhavneek/ner_crf_tf/blob/main/NER_Bhavneek.ipynb\" target=\"_parent\"><img src=\"https://colab.research.google.com/assets/colab-badge.svg\" alt=\"Open In Colab\"/></a>"
      ]
    },
    {
      "cell_type": "markdown",
      "source": [
        "# Assignment 2\n",
        "## Bhavneek Singh\n",
        "## 2020EE10482"
      ],
      "metadata": {
        "id": "TEkngEYNTlMb"
      }
    },
    {
      "cell_type": "code",
      "execution_count": 1,
      "metadata": {
        "id": "cGV9kpV8TfOS"
      },
      "outputs": [],
      "source": [
        "import tensorflow as tf\n",
        "import random \n",
        "import zipfile\n",
        "import pandas as pd\n",
        "import numpy as np"
      ]
    },
    {
      "cell_type": "code",
      "source": [
        "zip_ref = zipfile.ZipFile(\"/content/drive/My Drive/Assignment_2.zip\", 'r') # mounted my gdrive\n",
        "zip_ref.extractall(\"/tmp\")\n",
        "zip_ref.close()"
      ],
      "metadata": {
        "id": "JkpZA7HXTnzh"
      },
      "execution_count": 2,
      "outputs": []
    },
    {
      "cell_type": "code",
      "source": [
        "def read_file(filename):\n",
        "    with open(filename, \"r\") as file:\n",
        "        text = file.readlines()\n",
        "    return text\n",
        "\n",
        "def process_text(text):\n",
        "    X = []\n",
        "    Y = []\n",
        "    sentenceX = []\n",
        "    sentenceY = []\n",
        "    for line in text:\n",
        "        split = line.split(\" \")\n",
        "        if len(split) > 1:\n",
        "            sentenceX.append(split[0])\n",
        "            sentenceY.append(split[1].replace(\"\\n\", \"\"))\n",
        "        else:\n",
        "            X.append(sentenceX)\n",
        "            Y.append(sentenceY)\n",
        "            sentenceX = []\n",
        "            sentenceY = []\n",
        "    return X, Y\n",
        "\n",
        "text = read_file(\"/tmp/Assignment 2/data/train.txt\")\n",
        "X, Y = process_text(text)\n",
        "\n",
        "text_test = read_file(\"/tmp/Assignment 2/data/test.txt\")\n",
        "X_test, Y_test = process_text(text_test)"
      ],
      "metadata": {
        "id": "q94bgIShT6pX"
      },
      "execution_count": 3,
      "outputs": []
    },
    {
      "cell_type": "code",
      "source": [
        "ind = random.randint(0,len(X))\n",
        "\n",
        "for i in range(len(X[ind])):\n",
        "    print(X[ind][i], Y[ind][i])"
      ],
      "metadata": {
        "colab": {
          "base_uri": "https://localhost:8080/"
        },
        "id": "6t78dS2SVeCA",
        "outputId": "cfe0f3c7-a53b-4204-8152-83886920e03e"
      },
      "execution_count": 4,
      "outputs": [
        {
          "output_type": "stream",
          "name": "stdout",
          "text": [
            "`` O\n",
            "The B-NP\n",
            "owners I-NP\n",
            "of B-PP\n",
            "the B-NP\n",
            "company I-NP\n",
            "got B-VP\n",
            "a B-NP\n",
            "look I-NP\n",
            "at B-PP\n",
            "the B-NP\n",
            "potential I-NP\n",
            "risks I-NP\n",
            "in B-PP\n",
            "this B-NP\n",
            "business I-NP\n",
            ", O\n",
            "and O\n",
            "after B-PP\n",
            "Monday B-NP\n",
            "they B-NP\n",
            "felt B-VP\n",
            "they B-NP\n",
            "did B-VP\n",
            "n't I-VP\n",
            "want I-VP\n",
            "to I-VP\n",
            "be I-VP\n",
            "exposed I-VP\n",
            "any B-ADVP\n",
            "more I-ADVP\n",
            ", O\n",
            "'' O\n",
            "he B-NP\n",
            "said B-VP\n",
            ". O\n"
          ]
        }
      ]
    },
    {
      "cell_type": "code",
      "source": [
        "labels = {'I-NP'} # Initialize a set of strings\n",
        "\n",
        "for i in range(len(Y)):\n",
        "    for j in range(len(Y[i])):\n",
        "      labels.add(Y[i][j])\n",
        "\n",
        "for i in range(len(Y_test)):\n",
        "    for j in range(len(Y_test[i])):\n",
        "      labels.add(Y_test[i][j])\n",
        "\n",
        "labels = np.array(list(labels))\n",
        "print(labels)\n",
        "print(len(labels))"
      ],
      "metadata": {
        "colab": {
          "base_uri": "https://localhost:8080/"
        },
        "id": "oiFYASH-Vx3W",
        "outputId": "4049bcd4-b1d9-475d-faff-3eb25b253093"
      },
      "execution_count": 5,
      "outputs": [
        {
          "output_type": "stream",
          "name": "stdout",
          "text": [
            "['I-CONJP' 'B-PP' 'B-SBAR' 'I-ADJP' 'B-PRT' 'B-NP' 'I-LST' 'B-CONJP'\n",
            " 'I-PRT' 'O' 'I-ADVP' 'I-UCP' 'B-ADJP' 'B-VP' 'B-INTJ' 'I-NP' 'I-INTJ'\n",
            " 'B-UCP' 'B-ADVP' 'I-SBAR' 'I-VP' 'I-PP' 'B-LST']\n",
            "23\n"
          ]
        }
      ]
    },
    {
      "cell_type": "code",
      "source": [
        "arr = np.arange(1,24) # 1-23 because we will have a 0 class for empty slots, i.e no word there\n",
        "arr"
      ],
      "metadata": {
        "colab": {
          "base_uri": "https://localhost:8080/"
        },
        "id": "gpnjPp-LWUX1",
        "outputId": "b2edfcbf-7bd8-4f35-f226-1945584ad975"
      },
      "execution_count": 6,
      "outputs": [
        {
          "output_type": "execute_result",
          "data": {
            "text/plain": [
              "array([ 1,  2,  3,  4,  5,  6,  7,  8,  9, 10, 11, 12, 13, 14, 15, 16, 17,\n",
              "       18, 19, 20, 21, 22, 23])"
            ]
          },
          "metadata": {},
          "execution_count": 6
        }
      ]
    },
    {
      "cell_type": "code",
      "source": [
        "dict = {}\n",
        "for A, B in zip(labels, arr):\n",
        "    dict[A] = B"
      ],
      "metadata": {
        "id": "a3Ak5uL4Zfeb"
      },
      "execution_count": 7,
      "outputs": []
    },
    {
      "cell_type": "code",
      "source": [
        "dict"
      ],
      "metadata": {
        "colab": {
          "base_uri": "https://localhost:8080/"
        },
        "id": "rp8gVmmFkWgV",
        "outputId": "982c57dd-c3d4-455f-be6e-5dcdce4dbbaf"
      },
      "execution_count": 8,
      "outputs": [
        {
          "output_type": "execute_result",
          "data": {
            "text/plain": [
              "{'I-CONJP': 1,\n",
              " 'B-PP': 2,\n",
              " 'B-SBAR': 3,\n",
              " 'I-ADJP': 4,\n",
              " 'B-PRT': 5,\n",
              " 'B-NP': 6,\n",
              " 'I-LST': 7,\n",
              " 'B-CONJP': 8,\n",
              " 'I-PRT': 9,\n",
              " 'O': 10,\n",
              " 'I-ADVP': 11,\n",
              " 'I-UCP': 12,\n",
              " 'B-ADJP': 13,\n",
              " 'B-VP': 14,\n",
              " 'B-INTJ': 15,\n",
              " 'I-NP': 16,\n",
              " 'I-INTJ': 17,\n",
              " 'B-UCP': 18,\n",
              " 'B-ADVP': 19,\n",
              " 'I-SBAR': 20,\n",
              " 'I-VP': 21,\n",
              " 'I-PP': 22,\n",
              " 'B-LST': 23}"
            ]
          },
          "metadata": {},
          "execution_count": 8
        }
      ]
    },
    {
      "cell_type": "code",
      "source": [
        "X_sentences = []\n",
        "maxlen = 0\n",
        "for i in range(len(X)):\n",
        "  str = \"\"\n",
        "  maxlen = max(maxlen,len(X[i]))\n",
        "  for j in range(len(X[i])):\n",
        "    str += X[i][j].lower()\n",
        "    str += \" \"\n",
        "  X_sentences.append(str)"
      ],
      "metadata": {
        "id": "g0S5hfbUW4A2"
      },
      "execution_count": 9,
      "outputs": []
    },
    {
      "cell_type": "code",
      "source": [
        "Xt_sentences = []\n",
        "\n",
        "for i in range(len(X_test)):\n",
        "  str = \"\"\n",
        "  maxlen = max(maxlen,len(X_test[i]))\n",
        "  for j in range(len(X_test[i])):\n",
        "    str += X_test[i][j].lower()\n",
        "    str += \" \"\n",
        "  Xt_sentences.append(str)"
      ],
      "metadata": {
        "id": "_AYPAU6Eb-I5"
      },
      "execution_count": 10,
      "outputs": []
    },
    {
      "cell_type": "code",
      "source": [
        "print(X_sentences[0])\n",
        "print(Xt_sentences[0])\n",
        "print(maxlen)"
      ],
      "metadata": {
        "colab": {
          "base_uri": "https://localhost:8080/"
        },
        "id": "DbdUt_1eYweU",
        "outputId": "47ea789c-8bf6-46fe-b1f3-2e49f2dbdbf3"
      },
      "execution_count": 11,
      "outputs": [
        {
          "output_type": "stream",
          "name": "stdout",
          "text": [
            "confidence in the pound is widely expected to take another sharp dive if trade figures for september , due for release tomorrow , fail to show a substantial improvement from july and august 's near-record deficits . \n",
            "rockwell international corp. 's tulsa unit said it signed a tentative agreement extending its contract with boeing co. to provide structural parts for boeing 's 747 jetliners . \n",
            "78\n"
          ]
        }
      ]
    },
    {
      "cell_type": "code",
      "source": [
        "Y_labels = []\n",
        "\n",
        "for i in range(len(Y)):\n",
        "  arr = []\n",
        "  for j in range(len(Y[i])):\n",
        "    arr.append(int(dict[Y[i][j]]))\n",
        "  arr = np.array(arr, dtype = 'int32').astype('int32')\n",
        "  Y_labels.append(arr)\n",
        "\n",
        "Y_labels = np.array(Y_labels)"
      ],
      "metadata": {
        "colab": {
          "base_uri": "https://localhost:8080/"
        },
        "id": "_vsEFMeiZJxx",
        "outputId": "cc4b6a3a-1e04-436e-ba19-1ba6b7cbbba2"
      },
      "execution_count": 12,
      "outputs": [
        {
          "output_type": "stream",
          "name": "stderr",
          "text": [
            "<ipython-input-12-343049478399>:10: VisibleDeprecationWarning: Creating an ndarray from ragged nested sequences (which is a list-or-tuple of lists-or-tuples-or ndarrays with different lengths or shapes) is deprecated. If you meant to do this, you must specify 'dtype=object' when creating the ndarray.\n",
            "  Y_labels = np.array(Y_labels)\n"
          ]
        }
      ]
    },
    {
      "cell_type": "code",
      "source": [
        "Yt_labels = []\n",
        "for i in range(len(Y_test)):\n",
        "  arr = []\n",
        "  for j in range(len(Y_test[i])):\n",
        "    arr.append(dict[Y_test[i][j]])\n",
        "  arr = np.array(arr, dtype = 'int32').astype('int32')\n",
        "  Yt_labels.append(arr)\n",
        "\n",
        "Yt_labels = np.array(Yt_labels)"
      ],
      "metadata": {
        "colab": {
          "base_uri": "https://localhost:8080/"
        },
        "id": "h_D2NrxSbd-P",
        "outputId": "29db0e3c-c448-41bb-9178-6a99fd8c2dc8"
      },
      "execution_count": 13,
      "outputs": [
        {
          "output_type": "stream",
          "name": "stderr",
          "text": [
            "<ipython-input-13-98b44f0eacbe>:9: VisibleDeprecationWarning: Creating an ndarray from ragged nested sequences (which is a list-or-tuple of lists-or-tuples-or ndarrays with different lengths or shapes) is deprecated. If you meant to do this, you must specify 'dtype=object' when creating the ndarray.\n",
            "  Yt_labels = np.array(Yt_labels)\n"
          ]
        }
      ]
    },
    {
      "cell_type": "code",
      "source": [
        "print(Y_labels[:5])\n",
        "print(Y_labels.shape)"
      ],
      "metadata": {
        "colab": {
          "base_uri": "https://localhost:8080/"
        },
        "id": "trEIU6E4Zxwl",
        "outputId": "68b23918-c5a0-47d5-85db-9e158a8095f0"
      },
      "execution_count": 14,
      "outputs": [
        {
          "output_type": "stream",
          "name": "stdout",
          "text": [
            "[array([ 6,  2,  6, 16, 14, 21, 21, 21, 21,  6, 16, 16,  3,  6, 16,  2,  6,\n",
            "        10, 13,  2,  6,  6, 10, 14, 21, 21,  6, 16, 16,  2,  6, 16, 16,  6,\n",
            "        16, 16, 10], dtype=int32)\n",
            " array([10,  2,  6, 16,  6, 16,  6, 16, 16,  2,  6, 16, 16, 16, 14, 21, 21,\n",
            "        21,  6, 16,  2,  6,  2,  6, 16, 16, 10], dtype=int32)\n",
            " array([10,  6, 14,  6, 16,  2,  6, 14, 21, 21,  2,  6, 16,  6, 16, 14, 21,\n",
            "         6, 16, 16, 16,  2,  6, 16, 16, 16,  6, 16, 10], dtype=int32)\n",
            " array([ 6, 14, 21,  6, 16,  2,  6, 16, 14, 21, 21, 21,  6, 16,  2,  6, 16,\n",
            "         2,  6, 16, 16, 16, 16, 14, 21,  6, 16, 10,  6, 10,  6, 16, 16, 16,\n",
            "        14, 10], dtype=int32)\n",
            " array([10,  6, 16,  2,  6,  2,  6, 16, 16, 16, 14, 19, 11,  2,  6, 16, 16,\n",
            "        10, 10, 14,  6, 16, 10,  6, 16, 16,  2,  6, 16, 16, 10],\n",
            "       dtype=int32)                                                        ]\n",
            "(8936,)\n"
          ]
        }
      ]
    },
    {
      "cell_type": "code",
      "source": [
        "from tensorflow.keras.preprocessing.sequence import pad_sequences\n",
        "Ytrain = pad_sequences(Y_labels, maxlen = maxlen,  padding = 'post', truncating = 'post')"
      ],
      "metadata": {
        "id": "hCucjIfqnPnV"
      },
      "execution_count": 15,
      "outputs": []
    },
    {
      "cell_type": "code",
      "source": [
        "print(Ytrain[:5])\n",
        "print(Ytrain.shape)"
      ],
      "metadata": {
        "colab": {
          "base_uri": "https://localhost:8080/"
        },
        "id": "xVsP0TDfyuAi",
        "outputId": "4cd72f17-9306-4e80-8e04-5cdbf96f0b40"
      },
      "execution_count": 16,
      "outputs": [
        {
          "output_type": "stream",
          "name": "stdout",
          "text": [
            "[[ 6  2  6 16 14 21 21 21 21  6 16 16  3  6 16  2  6 10 13  2  6  6 10 14\n",
            "  21 21  6 16 16  2  6 16 16  6 16 16 10  0  0  0  0  0  0  0  0  0  0  0\n",
            "   0  0  0  0  0  0  0  0  0  0  0  0  0  0  0  0  0  0  0  0  0  0  0  0\n",
            "   0  0  0  0  0  0]\n",
            " [10  2  6 16  6 16  6 16 16  2  6 16 16 16 14 21 21 21  6 16  2  6  2  6\n",
            "  16 16 10  0  0  0  0  0  0  0  0  0  0  0  0  0  0  0  0  0  0  0  0  0\n",
            "   0  0  0  0  0  0  0  0  0  0  0  0  0  0  0  0  0  0  0  0  0  0  0  0\n",
            "   0  0  0  0  0  0]\n",
            " [10  6 14  6 16  2  6 14 21 21  2  6 16  6 16 14 21  6 16 16 16  2  6 16\n",
            "  16 16  6 16 10  0  0  0  0  0  0  0  0  0  0  0  0  0  0  0  0  0  0  0\n",
            "   0  0  0  0  0  0  0  0  0  0  0  0  0  0  0  0  0  0  0  0  0  0  0  0\n",
            "   0  0  0  0  0  0]\n",
            " [ 6 14 21  6 16  2  6 16 14 21 21 21  6 16  2  6 16  2  6 16 16 16 16 14\n",
            "  21  6 16 10  6 10  6 16 16 16 14 10  0  0  0  0  0  0  0  0  0  0  0  0\n",
            "   0  0  0  0  0  0  0  0  0  0  0  0  0  0  0  0  0  0  0  0  0  0  0  0\n",
            "   0  0  0  0  0  0]\n",
            " [10  6 16  2  6  2  6 16 16 16 14 19 11  2  6 16 16 10 10 14  6 16 10  6\n",
            "  16 16  2  6 16 16 10  0  0  0  0  0  0  0  0  0  0  0  0  0  0  0  0  0\n",
            "   0  0  0  0  0  0  0  0  0  0  0  0  0  0  0  0  0  0  0  0  0  0  0  0\n",
            "   0  0  0  0  0  0]]\n",
            "(8936, 78)\n"
          ]
        }
      ]
    },
    {
      "cell_type": "code",
      "source": [
        "from tensorflow.keras.utils import to_categorical\n",
        "Ytrain_cat = to_categorical(Ytrain)"
      ],
      "metadata": {
        "id": "9_mJBxiSiAjV"
      },
      "execution_count": 17,
      "outputs": []
    },
    {
      "cell_type": "code",
      "source": [
        "print(Ytrain_cat[0])\n",
        "Ytrain_cat.shape"
      ],
      "metadata": {
        "colab": {
          "base_uri": "https://localhost:8080/"
        },
        "id": "0s2UnLTCy-bP",
        "outputId": "f397358a-3581-4bc6-b402-332e3aa7fe8b"
      },
      "execution_count": 18,
      "outputs": [
        {
          "output_type": "stream",
          "name": "stdout",
          "text": [
            "[[0. 0. 0. ... 0. 0. 0.]\n",
            " [0. 0. 1. ... 0. 0. 0.]\n",
            " [0. 0. 0. ... 0. 0. 0.]\n",
            " ...\n",
            " [1. 0. 0. ... 0. 0. 0.]\n",
            " [1. 0. 0. ... 0. 0. 0.]\n",
            " [1. 0. 0. ... 0. 0. 0.]]\n"
          ]
        },
        {
          "output_type": "execute_result",
          "data": {
            "text/plain": [
              "(8936, 78, 24)"
            ]
          },
          "metadata": {},
          "execution_count": 18
        }
      ]
    },
    {
      "cell_type": "code",
      "source": [
        "Ytest = pad_sequences(Yt_labels, maxlen = maxlen,  padding = 'post', truncating = 'post')\n",
        "Ytest_cat = to_categorical(Ytest)"
      ],
      "metadata": {
        "id": "i06Pa8p2RZpC"
      },
      "execution_count": 19,
      "outputs": []
    },
    {
      "cell_type": "code",
      "source": [
        "from keras.preprocessing.text import Tokenizer\n",
        "\n",
        "tokenizer = Tokenizer()\n",
        "tokenizer.fit_on_texts(X_sentences)\n",
        "word2index = tokenizer.word_index"
      ],
      "metadata": {
        "id": "7Pe80UIbaO9H"
      },
      "execution_count": 20,
      "outputs": []
    },
    {
      "cell_type": "code",
      "source": [
        "Xtokens = tokenizer.texts_to_sequences(X_sentences)\n",
        "Xtrain = pad_sequences(Xtokens, maxlen = maxlen,  padding = 'post', truncating = 'post')"
      ],
      "metadata": {
        "id": "1KD2d2_WbWhw"
      },
      "execution_count": 21,
      "outputs": []
    },
    {
      "cell_type": "code",
      "source": [
        "Xtrain[0]"
      ],
      "metadata": {
        "colab": {
          "base_uri": "https://localhost:8080/"
        },
        "id": "jjOQ8S27cv1p",
        "outputId": "61588b74-eb59-4f8f-dba9-67ce2d4c8e71"
      },
      "execution_count": 22,
      "outputs": [
        {
          "output_type": "execute_result",
          "data": {
            "text/plain": [
              "array([1600,    5,    1, 1517,   11, 1160,  192,    3,  224,  273, 1202,\n",
              "       4919,   75,  489,  605,    7,  473,  252,    7, 1816, 2587, 4139,\n",
              "          3,  606,    4, 1375, 1439,   16,  753,    6,  588,    8,  754,\n",
              "        525, 8485,    0,    0,    0,    0,    0,    0,    0,    0,    0,\n",
              "          0,    0,    0,    0,    0,    0,    0,    0,    0,    0,    0,\n",
              "          0,    0,    0,    0,    0,    0,    0,    0,    0,    0,    0,\n",
              "          0,    0,    0,    0,    0,    0,    0,    0,    0,    0,    0,\n",
              "          0], dtype=int32)"
            ]
          },
          "metadata": {},
          "execution_count": 22
        }
      ]
    },
    {
      "cell_type": "code",
      "source": [
        "type(Xtrain[0][0])"
      ],
      "metadata": {
        "colab": {
          "base_uri": "https://localhost:8080/"
        },
        "id": "iNNsxw0OlbLM",
        "outputId": "38c4a953-cbc0-41d5-ee9a-4069d31e33dc"
      },
      "execution_count": 23,
      "outputs": [
        {
          "output_type": "execute_result",
          "data": {
            "text/plain": [
              "numpy.int32"
            ]
          },
          "metadata": {},
          "execution_count": 23
        }
      ]
    },
    {
      "cell_type": "code",
      "source": [
        "X_test_tokens = tokenizer.texts_to_sequences(Xt_sentences)\n",
        "Xtest = pad_sequences(X_test_tokens, maxlen = maxlen,  padding = 'post', truncating = 'post')\n",
        "Xtest[0]"
      ],
      "metadata": {
        "colab": {
          "base_uri": "https://localhost:8080/"
        },
        "id": "jSGI048j9oex",
        "outputId": "5036baf3-c9aa-479e-b3ce-47d1baf18b5d"
      },
      "execution_count": 24,
      "outputs": [
        {
          "output_type": "execute_result",
          "data": {
            "text/plain": [
              "array([  235,    71,     8, 12484,   216,    12,    13,  2256,     4,\n",
              "        4284,   459,    25,   478,    21,  4296,    95,     3,   876,\n",
              "        1697,  1007,     7,  4296,     8,  5793,     0,     0,     0,\n",
              "           0,     0,     0,     0,     0,     0,     0,     0,     0,\n",
              "           0,     0,     0,     0,     0,     0,     0,     0,     0,\n",
              "           0,     0,     0,     0,     0,     0,     0,     0,     0,\n",
              "           0,     0,     0,     0,     0,     0,     0,     0,     0,\n",
              "           0,     0,     0,     0,     0,     0,     0,     0,     0,\n",
              "           0,     0,     0,     0,     0,     0], dtype=int32)"
            ]
          },
          "metadata": {},
          "execution_count": 24
        }
      ]
    },
    {
      "cell_type": "code",
      "source": [
        "file = open('/content/drive/My Drive/glove.6B.100d.txt', 'r', encoding = 'utf8')\n",
        "content = file.readlines()\n",
        "file.close()"
      ],
      "metadata": {
        "id": "JGOq7Dh2eVQT"
      },
      "execution_count": 25,
      "outputs": []
    },
    {
      "cell_type": "code",
      "source": [
        "embeddings = {}\n",
        "\n",
        "for line in content:\n",
        "    line = line.split()\n",
        "    embeddings[line[0]] = np.array(line[1:], dtype = float)"
      ],
      "metadata": {
        "id": "AewHWXhFecCF"
      },
      "execution_count": 26,
      "outputs": []
    },
    {
      "cell_type": "code",
      "source": [
        "embed_size = 100 # The vector size we chose\n",
        "embedding_matrix = np.zeros((len(word2index)+1, embed_size)) # initializing a 0 matrix\n",
        "\n",
        "miss_count = 0\n",
        "\n",
        "for word, i in word2index.items():\n",
        "  if word in embeddings.keys(): # Some words are not present\n",
        "    embed_vector = embeddings[word]\n",
        "    embedding_matrix[i] = embed_vector\n",
        "  else:\n",
        "    miss_count+=1\n",
        "    embedding_matrix[i] = np.random.rand(100) # Initializing a random vector for them\n",
        "\n",
        "print(miss_count)"
      ],
      "metadata": {
        "colab": {
          "base_uri": "https://localhost:8080/"
        },
        "id": "NJO8l1jYetOS",
        "outputId": "393b1032-5e7e-47e5-f1d9-56b3e4b99fc0"
      },
      "execution_count": 27,
      "outputs": [
        {
          "output_type": "stream",
          "name": "stdout",
          "text": [
            "357\n"
          ]
        }
      ]
    },
    {
      "cell_type": "code",
      "source": [
        "model_checkpoint_callback = tf.keras.callbacks.ModelCheckpoint(\n",
        "    filepath=\"tmp/checkpoint/\",\n",
        "    save_weights_only=True,\n",
        "    monitor='val_accuracy',\n",
        "    mode='max',\n",
        "    save_best_only=True)"
      ],
      "metadata": {
        "id": "YvYZqDuKQate"
      },
      "execution_count": 28,
      "outputs": []
    },
    {
      "cell_type": "code",
      "source": [
        "from keras.models import Sequential\n",
        "from keras.layers import Dense, LSTM, Embedding, Bidirectional"
      ],
      "metadata": {
        "id": "RVf2akdLUPO-"
      },
      "execution_count": 29,
      "outputs": []
    },
    {
      "cell_type": "code",
      "source": [
        "print(Xtrain.shape)\n",
        "print(Ytrain_cat.shape)\n",
        "print(Xtest.shape)\n",
        "print(Ytest_cat.shape)"
      ],
      "metadata": {
        "colab": {
          "base_uri": "https://localhost:8080/"
        },
        "id": "X9TOaIOT2sKZ",
        "outputId": "5e7dac32-34d2-472e-c04d-f2aab83b699a"
      },
      "execution_count": 30,
      "outputs": [
        {
          "output_type": "stream",
          "name": "stdout",
          "text": [
            "(8936, 78)\n",
            "(8936, 78, 24)\n",
            "(2012, 78)\n",
            "(2012, 78, 24)\n"
          ]
        }
      ]
    },
    {
      "cell_type": "code",
      "source": [
        "from keras.models import Sequential\n",
        "from keras.layers import Dense, LSTM, Embedding, Bidirectional\n",
        "\n",
        "model = Sequential([\n",
        "    tf.keras.layers.Input(shape=(78), dtype='int32'),\n",
        "    Embedding(input_dim = len(word2index) + 1,\n",
        "              output_dim = embed_size,\n",
        "              input_length = maxlen,\n",
        "              weights = [embedding_matrix],\n",
        "              trainable = True # We have a 357 random vectors in the matrix\n",
        "             ),\n",
        "    \n",
        "    Bidirectional(LSTM(units = 256, return_sequences = True)),\n",
        "    Bidirectional(LSTM(units = 256, return_sequences = True)),\n",
        "    Bidirectional(LSTM(units = 256, return_sequences = True)),\n",
        "    Bidirectional(LSTM(units = 256, return_sequences = True)),\n",
        "    Dense(24, activation = 'softmax')\n",
        "])\n",
        "\n",
        "model.compile(optimizer = 'adam', loss = 'categorical_crossentropy', metrics = ['accuracy'])"
      ],
      "metadata": {
        "id": "U2iRXvZVstAs"
      },
      "execution_count": 95,
      "outputs": []
    },
    {
      "cell_type": "code",
      "source": [
        "model.summary()"
      ],
      "metadata": {
        "colab": {
          "base_uri": "https://localhost:8080/"
        },
        "id": "QhxDSPuOupVC",
        "outputId": "368d501b-5a62-47d4-e490-b806843b81ea"
      },
      "execution_count": 96,
      "outputs": [
        {
          "output_type": "stream",
          "name": "stdout",
          "text": [
            "Model: \"sequential_1\"\n",
            "_________________________________________________________________\n",
            " Layer (type)                Output Shape              Param #   \n",
            "=================================================================\n",
            " embedding_4 (Embedding)     (None, 78, 100)           1489400   \n",
            "                                                                 \n",
            " bidirectional_4 (Bidirectio  (None, 78, 512)          731136    \n",
            " nal)                                                            \n",
            "                                                                 \n",
            " bidirectional_5 (Bidirectio  (None, 78, 512)          1574912   \n",
            " nal)                                                            \n",
            "                                                                 \n",
            " bidirectional_6 (Bidirectio  (None, 78, 512)          1574912   \n",
            " nal)                                                            \n",
            "                                                                 \n",
            " bidirectional_7 (Bidirectio  (None, 78, 512)          1574912   \n",
            " nal)                                                            \n",
            "                                                                 \n",
            " dense_5 (Dense)             (None, 78, 24)            12312     \n",
            "                                                                 \n",
            "=================================================================\n",
            "Total params: 6,957,584\n",
            "Trainable params: 6,957,584\n",
            "Non-trainable params: 0\n",
            "_________________________________________________________________\n"
          ]
        }
      ]
    },
    {
      "cell_type": "code",
      "source": [
        "history = model.fit(Xtrain, Ytrain_cat, epochs = 10, validation_data=(Xtest,Ytest_cat), callbacks=[model_checkpoint_callback])"
      ],
      "metadata": {
        "colab": {
          "base_uri": "https://localhost:8080/"
        },
        "id": "l-bYSJxatDIM",
        "outputId": "ae2b1aa6-9b90-4a7f-b9d5-7b9ab80b29f7"
      },
      "execution_count": 97,
      "outputs": [
        {
          "output_type": "stream",
          "name": "stdout",
          "text": [
            "Epoch 1/10\n",
            "280/280 [==============================] - 43s 104ms/step - loss: 0.5909 - accuracy: 0.7860 - val_loss: 0.5706 - val_accuracy: 0.8006\n",
            "Epoch 2/10\n",
            "280/280 [==============================] - 17s 62ms/step - loss: 0.4509 - accuracy: 0.8318 - val_loss: 0.5139 - val_accuracy: 0.8200\n",
            "Epoch 3/10\n",
            "280/280 [==============================] - 18s 64ms/step - loss: 0.3828 - accuracy: 0.8559 - val_loss: 0.4828 - val_accuracy: 0.8325\n",
            "Epoch 4/10\n",
            "280/280 [==============================] - 17s 60ms/step - loss: 0.3343 - accuracy: 0.8734 - val_loss: 0.5114 - val_accuracy: 0.8340\n",
            "Epoch 5/10\n",
            "280/280 [==============================] - 17s 61ms/step - loss: 0.2930 - accuracy: 0.8891 - val_loss: 0.5380 - val_accuracy: 0.8331\n",
            "Epoch 6/10\n",
            "280/280 [==============================] - 16s 56ms/step - loss: 0.2589 - accuracy: 0.9021 - val_loss: 0.5573 - val_accuracy: 0.8338\n",
            "Epoch 7/10\n",
            "280/280 [==============================] - 17s 62ms/step - loss: 0.2238 - accuracy: 0.9162 - val_loss: 0.6212 - val_accuracy: 0.8344\n",
            "Epoch 8/10\n",
            "280/280 [==============================] - 16s 57ms/step - loss: 0.1915 - accuracy: 0.9295 - val_loss: 0.7110 - val_accuracy: 0.8340\n",
            "Epoch 9/10\n",
            "280/280 [==============================] - 16s 55ms/step - loss: 0.1694 - accuracy: 0.9378 - val_loss: 0.6968 - val_accuracy: 0.8347\n",
            "Epoch 10/10\n",
            "280/280 [==============================] - 16s 57ms/step - loss: 0.1469 - accuracy: 0.9469 - val_loss: 0.7018 - val_accuracy: 0.8380\n"
          ]
        }
      ]
    },
    {
      "cell_type": "code",
      "source": [
        "pd.DataFrame(history.history).plot(figsize=(10, 7));"
      ],
      "metadata": {
        "colab": {
          "base_uri": "https://localhost:8080/",
          "height": 428
        },
        "id": "y8L-GdqaPkE1",
        "outputId": "84e94ff0-c846-4028-d2a5-01c5ff4780d0"
      },
      "execution_count": 98,
      "outputs": [
        {
          "output_type": "display_data",
          "data": {
            "text/plain": [
              "<Figure size 720x504 with 1 Axes>"
            ],
            "image/png": "[encoded data removed]"
          },
          "metadata": {
            "needs_background": "light"
          }
        }
      ]
    },
    {
      "cell_type": "code",
      "source": [
        "model.save(\"tmp/bhavneek_model.h5\")\n",
        "\n",
        "from google.colab import files\n",
        "files.download(\"tmp/bhavneek_model.h5\")"
      ],
      "metadata": {
        "colab": {
          "base_uri": "https://localhost:8080/",
          "height": 34
        },
        "id": "2JKMHS2KW-v-",
        "outputId": "27a3c23c-c089-4b9b-f2ac-4ffc1b5cbbcc"
      },
      "execution_count": 100,
      "outputs": [
        {
          "output_type": "display_data",
          "data": {
            "text/plain": [
              "<IPython.core.display.Javascript object>"
            ],
            "application/javascript": [
              "\n",
              "    async function download(id, filename, size) {\n",
              "      if (!google.colab.kernel.accessAllowed) {\n",
              "        return;\n",
              "      }\n",
              "      const div = document.createElement('div');\n",
              "      const label = document.createElement('label');\n",
              "      label.textContent = `Downloading \"${filename}\": `;\n",
              "      div.appendChild(label);\n",
              "      const progress = document.createElement('progress');\n",
              "      progress.max = size;\n",
              "      div.appendChild(progress);\n",
              "      document.body.appendChild(div);\n",
              "\n",
              "      const buffers = [];\n",
              "      let downloaded = 0;\n",
              "\n",
              "      const channel = await google.colab.kernel.comms.open(id);\n",
              "      // Send a message to notify the kernel that we're ready.\n",
              "      channel.send({})\n",
              "\n",
              "      for await (const message of channel.messages) {\n",
              "        // Send a message to notify the kernel that we're ready.\n",
              "        channel.send({})\n",
              "        if (message.buffers) {\n",
              "          for (const buffer of message.buffers) {\n",
              "            buffers.push(buffer);\n",
              "            downloaded += buffer.byteLength;\n",
              "            progress.value = downloaded;\n",
              "          }\n",
              "        }\n",
              "      }\n",
              "      const blob = new Blob(buffers, {type: 'application/binary'});\n",
              "      const a = document.createElement('a');\n",
              "      a.href = window.URL.createObjectURL(blob);\n",
              "      a.download = filename;\n",
              "      div.appendChild(a);\n",
              "      a.click();\n",
              "      div.remove();\n",
              "    }\n",
              "  "
            ]
          },
          "metadata": {}
        },
        {
          "output_type": "display_data",
          "data": {
            "text/plain": [
              "<IPython.core.display.Javascript object>"
            ],
            "application/javascript": [
              "download(\"download_047bd520-c4a7-4fb4-9789-54d0eef1065e\", \"bhavneek_model.h5\", 83612600)"
            ]
          },
          "metadata": {}
        }
      ]
    },
    {
      "cell_type": "code",
      "source": [
        "Y_pred_cat_1 = model.predict(Xtest)"
      ],
      "metadata": {
        "colab": {
          "base_uri": "https://localhost:8080/"
        },
        "id": "L03lzxlH-up2",
        "outputId": "b226ba15-000d-422b-fbef-a57b0c80e97f"
      },
      "execution_count": 101,
      "outputs": [
        {
          "output_type": "stream",
          "name": "stdout",
          "text": [
            "63/63 [==============================] - 5s 22ms/step\n"
          ]
        }
      ]
    },
    {
      "cell_type": "code",
      "source": [
        "print(Y_pred_cat_1.shape)"
      ],
      "metadata": {
        "colab": {
          "base_uri": "https://localhost:8080/"
        },
        "id": "tURKh6EH-1jc",
        "outputId": "73313369-8093-4087-ce5a-4b0541235a63"
      },
      "execution_count": 102,
      "outputs": [
        {
          "output_type": "stream",
          "name": "stdout",
          "text": [
            "(2012, 78, 24)\n"
          ]
        }
      ]
    },
    {
      "cell_type": "code",
      "source": [
        "from tensorflow.python.ops.math_ops import argmax\n",
        "Y_pred_label_1 = []\n",
        "\n",
        "for i in range(len(Y_pred_cat_1)):\n",
        "  arr1 = []\n",
        "  for j in range(len(Y_pred_cat_1[i])):\n",
        "    arr1.append(argmax(Y_pred_cat_1[i][j]))\n",
        "  arr1 = np.array(arr1)\n",
        "  Y_pred_label_1.append(arr1)\n",
        "\n",
        "Y_pred_label_1 = np.array(Y_pred_label_1)"
      ],
      "metadata": {
        "id": "gEcC-hKo_Blu"
      },
      "execution_count": 103,
      "outputs": []
    },
    {
      "cell_type": "code",
      "source": [
        "print(Y_pred_label_1.shape)"
      ],
      "metadata": {
        "colab": {
          "base_uri": "https://localhost:8080/"
        },
        "id": "HhlRmvFeRfXh",
        "outputId": "a18a286b-081f-4823-c4ca-f4330554003a"
      },
      "execution_count": 104,
      "outputs": [
        {
          "output_type": "stream",
          "name": "stdout",
          "text": [
            "(2012, 78)\n"
          ]
        }
      ]
    },
    {
      "cell_type": "code",
      "source": [
        "from itertools import chain\n",
        "\n",
        "Y_test_flat = list(chain.from_iterable(Ytest))\n",
        "Y_pred_flat_1 = list(chain.from_iterable(Y_pred_label_1))"
      ],
      "metadata": {
        "id": "UNm24jR9RvtL"
      },
      "execution_count": 105,
      "outputs": []
    },
    {
      "cell_type": "code",
      "source": [
        "from sklearn.metrics import f1_score\n",
        "\n",
        "def get_scores(predY, trueY):\n",
        "  print(\"Micro F1 score: \", f1_score(trueY, predY, average=\"micro\"))\n",
        "  print(\"Macro F1 score: \", f1_score(trueY, predY, average=\"macro\"))\n",
        "  print(\"Average F1 score: \", (f1_score(trueY, predY, average=\"micro\") + f1_score(trueY, predY, average=\"macro\")) / 2)"
      ],
      "metadata": {
        "id": "gWxr4QxjQ8hD"
      },
      "execution_count": 106,
      "outputs": []
    },
    {
      "cell_type": "code",
      "source": [
        "get_scores(Y_pred_flat_1, Y_test_flat)"
      ],
      "metadata": {
        "colab": {
          "base_uri": "https://localhost:8080/"
        },
        "id": "SbT7_wJeRzTU",
        "outputId": "abaa97ce-0692-465d-e431-98a96dde3d9b"
      },
      "execution_count": 107,
      "outputs": [
        {
          "output_type": "stream",
          "name": "stdout",
          "text": [
            "Micro F1 score:  0.820060406790029\n",
            "Macro F1 score:  0.24996129663786354\n",
            "Average F1 score:  0.5350108517139462\n"
          ]
        }
      ]
    },
    {
      "cell_type": "code",
      "source": [
        "arr = np.arange(1,24)\n",
        "\n",
        "dict2 = {}\n",
        "for A, B in zip(labels, arr):\n",
        "    dict2[B] = A\n",
        "\n",
        "dict2"
      ],
      "metadata": {
        "colab": {
          "base_uri": "https://localhost:8080/"
        },
        "id": "e0Proca1INqw",
        "outputId": "cf2345f1-9d17-4b5f-9da5-35c462addc43"
      },
      "execution_count": 108,
      "outputs": [
        {
          "output_type": "execute_result",
          "data": {
            "text/plain": [
              "{1: 'I-CONJP',\n",
              " 2: 'B-PP',\n",
              " 3: 'B-SBAR',\n",
              " 4: 'I-ADJP',\n",
              " 5: 'B-PRT',\n",
              " 6: 'B-NP',\n",
              " 7: 'I-LST',\n",
              " 8: 'B-CONJP',\n",
              " 9: 'I-PRT',\n",
              " 10: 'O',\n",
              " 11: 'I-ADVP',\n",
              " 12: 'I-UCP',\n",
              " 13: 'B-ADJP',\n",
              " 14: 'B-VP',\n",
              " 15: 'B-INTJ',\n",
              " 16: 'I-NP',\n",
              " 17: 'I-INTJ',\n",
              " 18: 'B-UCP',\n",
              " 19: 'B-ADVP',\n",
              " 20: 'I-SBAR',\n",
              " 21: 'I-VP',\n",
              " 22: 'I-PP',\n",
              " 23: 'B-LST'}"
            ]
          },
          "metadata": {},
          "execution_count": 108
        }
      ]
    },
    {
      "cell_type": "code",
      "source": [
        "Y_pred = []\n",
        "\n",
        "for i in range(len(Y_pred_label_1)):\n",
        "  arr = []\n",
        "  for j in range(len(Y_pred_label_1[i])):\n",
        "    if Y_pred_label_1[i][j] == 0:\n",
        "      continue\n",
        "    else:\n",
        "      arr.append(dict2[Y_pred_label_1[i][j]])\n",
        "  arr = np.array(arr)\n",
        "  Y_pred.append(arr)\n",
        "\n",
        "Y_pred = np.array(Y_pred)"
      ],
      "metadata": {
        "colab": {
          "base_uri": "https://localhost:8080/"
        },
        "id": "P3UFjRPOIo70",
        "outputId": "125c43e1-cf27-424e-ce0f-68fa23667b09"
      },
      "execution_count": 109,
      "outputs": [
        {
          "output_type": "stream",
          "name": "stderr",
          "text": [
            "<ipython-input-109-2220ac666f32>:13: VisibleDeprecationWarning: Creating an ndarray from ragged nested sequences (which is a list-or-tuple of lists-or-tuples-or ndarrays with different lengths or shapes) is deprecated. If you meant to do this, you must specify 'dtype=object' when creating the ndarray.\n",
            "  Y_pred = np.array(Y_pred)\n"
          ]
        }
      ]
    },
    {
      "cell_type": "code",
      "source": [
        "ind = random.randint(0,len(Y_pred))\n",
        "print(Xt_sentences[ind])\n",
        "print(len(Y_test[ind]), Y_test[ind])\n",
        "print(len(Y_pred[ind]), Y_pred[ind])"
      ],
      "metadata": {
        "colab": {
          "base_uri": "https://localhost:8080/"
        },
        "id": "Ci73GnlzJWS9",
        "outputId": "e33c47c3-49b8-483a-8f67-e7831b4ba5fc"
      },
      "execution_count": 116,
      "outputs": [
        {
          "output_type": "stream",
          "name": "stdout",
          "text": [
            "the issues are too important to be left to the financial and budget ministries fighting over the size of the capital increase , rather than its purpose . \n",
            "28 ['B-NP', 'I-NP', 'B-VP', 'B-ADJP', 'I-ADJP', 'B-VP', 'I-VP', 'I-VP', 'B-PP', 'B-NP', 'I-NP', 'I-NP', 'I-NP', 'I-NP', 'B-VP', 'B-PP', 'B-NP', 'I-NP', 'B-PP', 'B-NP', 'I-NP', 'I-NP', 'O', 'B-PP', 'I-PP', 'B-NP', 'I-NP', 'O']\n",
            "28 ['B-NP' 'I-NP' 'B-ADVP' 'B-VP' 'I-ADJP' 'B-VP' 'B-VP' 'B-ADVP' 'B-PP'\n",
            " 'B-NP' 'I-NP' 'I-NP' 'I-NP' 'I-NP' 'B-VP' 'B-PP' 'B-NP' 'I-NP' 'B-PP'\n",
            " 'B-NP' 'I-NP' 'I-NP' 'B-ADVP' 'B-NP' 'B-NP' 'I-NP' 'I-NP' 'O']\n"
          ]
        }
      ]
    },
    {
      "cell_type": "markdown",
      "source": [
        "### Seq2Seq Encoder-Decoder Model"
      ],
      "metadata": {
        "id": "0nEfwYKtjIzR"
      }
    },
    {
      "cell_type": "code",
      "source": [
        "Ytrain_cat_tar = np.zeros((8936, 78, 24))\n",
        "\n",
        "for i in range(0,78):\n",
        "  if i+1 != 78:\n",
        "    Ytrain_cat_tar[:, i, :] = Ytrain_cat[:, i+1, :]\n",
        "\n",
        "Ytrain_cat_tar[:, 77, 0] = 1\n",
        "Ytrain_cat_tar.shape"
      ],
      "metadata": {
        "colab": {
          "base_uri": "https://localhost:8080/"
        },
        "id": "qLf-ovElePBi",
        "outputId": "4ea4fa3d-2f00-4b8d-c6d3-d0b52ef93ff5"
      },
      "execution_count": 72,
      "outputs": [
        {
          "output_type": "execute_result",
          "data": {
            "text/plain": [
              "(8936, 78, 24)"
            ]
          },
          "metadata": {},
          "execution_count": 72
        }
      ]
    },
    {
      "cell_type": "code",
      "source": [
        "Ytrain_cat_tar[0]"
      ],
      "metadata": {
        "colab": {
          "base_uri": "https://localhost:8080/"
        },
        "id": "5mqEuiNdhGPx",
        "outputId": "4dec6712-515b-4c90-bc09-789e5528046d"
      },
      "execution_count": 73,
      "outputs": [
        {
          "output_type": "execute_result",
          "data": {
            "text/plain": [
              "array([[0., 0., 1., ..., 0., 0., 0.],\n",
              "       [0., 0., 0., ..., 0., 0., 0.],\n",
              "       [0., 0., 0., ..., 0., 0., 0.],\n",
              "       ...,\n",
              "       [1., 0., 0., ..., 0., 0., 0.],\n",
              "       [1., 0., 0., ..., 0., 0., 0.],\n",
              "       [1., 0., 0., ..., 0., 0., 0.]])"
            ]
          },
          "metadata": {},
          "execution_count": 73
        }
      ]
    },
    {
      "cell_type": "code",
      "source": [
        "Ytest_cat_tar = np.zeros((2012, 78, 24))\n",
        "\n",
        "for i in range(0,78):\n",
        "  if i+1 != 78:\n",
        "    Ytest_cat_tar[:, i, :] = Ytest_cat[:, i+1, :]\n",
        "\n",
        "Ytest_cat_tar[:, 77, 0] = 1\n",
        "Ytest_cat_tar.shape"
      ],
      "metadata": {
        "colab": {
          "base_uri": "https://localhost:8080/"
        },
        "id": "y0NZ2gzdhZWL",
        "outputId": "8a85aec0-70c1-451b-b14a-e6c3330764f7"
      },
      "execution_count": 79,
      "outputs": [
        {
          "output_type": "execute_result",
          "data": {
            "text/plain": [
              "(2012, 78, 24)"
            ]
          },
          "metadata": {},
          "execution_count": 79
        }
      ]
    },
    {
      "cell_type": "code",
      "source": [
        "encoder_inputs = tf.keras.layers.Input(shape=(78), dtype='int32')\n",
        "\n",
        "embed_layer = tf.keras.layers.Embedding(input_dim = len(word2index) + 1,\n",
        "              output_dim = embed_size,\n",
        "              input_length = maxlen,\n",
        "              weights = [embedding_matrix],\n",
        "              trainable = True\n",
        "             )(encoder_inputs)\n",
        "\n",
        "encoder = LSTM(128, return_state=True)\n",
        "encoder_outputs, state_h, state_c = encoder(embed_layer)\n",
        "encoder_states = [state_h, state_c]"
      ],
      "metadata": {
        "id": "Pi3baLsxVTE5"
      },
      "execution_count": 39,
      "outputs": []
    },
    {
      "cell_type": "code",
      "source": [
        "decoder_inputs = tf.keras.layers.Input(shape=(78, 24))\n",
        "decoder_lstm = LSTM(128, return_sequences=True, return_state=True)\n",
        "decoder_outputs, _, _ = decoder_lstm(decoder_inputs,\n",
        "                                     initial_state=encoder_states)\n",
        "decoder_dense = Dense(24, activation='softmax')\n",
        "decoder_outputs = decoder_dense(decoder_outputs)\n",
        "model_2 = tf.keras.models.Model([encoder_inputs, decoder_inputs], decoder_outputs)"
      ],
      "metadata": {
        "id": "7RTwF8PNVwUI"
      },
      "execution_count": 43,
      "outputs": []
    },
    {
      "cell_type": "code",
      "source": [
        "model_2.compile(optimizer='rmsprop', loss = 'categorical_crossentropy', metrics = ['accuracy'])"
      ],
      "metadata": {
        "id": "QxkD1bYhV6oD"
      },
      "execution_count": 80,
      "outputs": []
    },
    {
      "cell_type": "code",
      "source": [
        "history_2 = model_2.fit([Xtrain, Ytrain_cat], Ytrain_cat_tar,\n",
        "          epochs=10,\n",
        "          validation_data=([Xtest, Ytest_cat],Ytest_cat_tar), \n",
        "          callbacks=[model_checkpoint_callback])"
      ],
      "metadata": {
        "colab": {
          "base_uri": "https://localhost:8080/"
        },
        "id": "iTwLMQ2MV8qA",
        "outputId": "5b4137ea-68a9-409c-9936-2bc224103972"
      },
      "execution_count": 81,
      "outputs": [
        {
          "output_type": "stream",
          "name": "stdout",
          "text": [
            "Epoch 1/10\n",
            "280/280 [==============================] - 18s 52ms/step - loss: 0.4128 - accuracy: 0.8567 - val_loss: 0.4084 - val_accuracy: 0.8612\n",
            "Epoch 2/10\n",
            "280/280 [==============================] - 5s 19ms/step - loss: 0.3919 - accuracy: 0.8633 - val_loss: 0.3818 - val_accuracy: 0.8644\n",
            "Epoch 3/10\n",
            "280/280 [==============================] - 6s 20ms/step - loss: 0.3785 - accuracy: 0.8673 - val_loss: 0.3863 - val_accuracy: 0.8670\n",
            "Epoch 4/10\n",
            "280/280 [==============================] - 5s 20ms/step - loss: 0.3705 - accuracy: 0.8697 - val_loss: 0.3775 - val_accuracy: 0.8670\n",
            "Epoch 5/10\n",
            "280/280 [==============================] - 4s 13ms/step - loss: 0.3653 - accuracy: 0.8715 - val_loss: 0.3669 - val_accuracy: 0.8734\n",
            "Epoch 6/10\n",
            "280/280 [==============================] - 5s 17ms/step - loss: 0.3618 - accuracy: 0.8727 - val_loss: 0.3665 - val_accuracy: 0.8748\n",
            "Epoch 7/10\n",
            "280/280 [==============================] - 4s 13ms/step - loss: 0.3592 - accuracy: 0.8736 - val_loss: 0.3614 - val_accuracy: 0.8752\n",
            "Epoch 8/10\n",
            "280/280 [==============================] - 3s 12ms/step - loss: 0.3568 - accuracy: 0.8743 - val_loss: 0.3656 - val_accuracy: 0.8648\n",
            "Epoch 9/10\n",
            "280/280 [==============================] - 4s 15ms/step - loss: 0.3539 - accuracy: 0.8757 - val_loss: 0.3697 - val_accuracy: 0.8725\n",
            "Epoch 10/10\n",
            "280/280 [==============================] - 3s 12ms/step - loss: 0.3516 - accuracy: 0.8768 - val_loss: 0.3642 - val_accuracy: 0.8682\n"
          ]
        }
      ]
    },
    {
      "cell_type": "code",
      "source": [
        "pd.DataFrame(history_2.history).plot(figsize=(10, 7));"
      ],
      "metadata": {
        "colab": {
          "base_uri": "https://localhost:8080/",
          "height": 430
        },
        "id": "P9ICMe9FWDjD",
        "outputId": "f0a3438d-5bf7-4976-ac86-0534879eef59"
      },
      "execution_count": 82,
      "outputs": [
        {
          "output_type": "display_data",
          "data": {
            "text/plain": [
              "<Figure size 720x504 with 1 Axes>"
            ],
            "image/png": "[encoded data removed]"
          },
          "metadata": {
            "needs_background": "light"
          }
        }
      ]
    },
    {
      "cell_type": "markdown",
      "source": [
        "Slight improvement from simple LSTM model"
      ],
      "metadata": {
        "id": "6uN-BmzsidyG"
      }
    }
  ]
}